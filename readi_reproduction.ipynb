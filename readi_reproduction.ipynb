{
  "cells": [
    {
      "cell_type": "markdown",
      "metadata": {
        "id": "view-in-github",
        "colab_type": "text"
      },
      "source": [
        "<a href=\"https://colab.research.google.com/github/nicolashernandez/READI-LREC22/blob/main/readi_reproduction.ipynb\" target=\"_parent\"><img src=\"https://colab.research.google.com/assets/colab-badge.svg\" alt=\"Open In Colab\"/></a>"
      ]
    },
    {
      "cell_type": "markdown",
      "metadata": {
        "id": "a6OK4ukoLyFI"
      },
      "source": [
        "# Introduction\n",
        "\n",
        "This notebook comes from the git repository available [here](https://github.com/nicolashernandez/READI-LREC22/)  \n",
        "It will show a few examples on how to manipulate the library, then show how to reproduce the contents of the READI paper available [here](https://cental.uclouvain.be/readi2022/accepted.html)\n",
        " \n"
      ]
    },
    {
      "cell_type": "markdown",
      "metadata": {
        "id": "YRRW2zl5LyFL"
      },
      "source": [
        "# Setup : Import dependencies then library"
      ]
    },
    {
      "cell_type": "markdown",
      "source": [
        "## Setup : NEED to restart runtime after downloading spacy model"
      ],
      "metadata": {
        "id": "2ZG-mjPydNdD"
      }
    },
    {
      "cell_type": "code",
      "source": [
        "%%capture\n",
        "!python -m spacy download fr_core_news_sm\n",
        "#This cell only needs to be run once."
      ],
      "metadata": {
        "id": "H2YEIjMZdcY0"
      },
      "execution_count": 1,
      "outputs": []
    },
    {
      "cell_type": "markdown",
      "source": [
        "Restart the runtime once (Ctrl+M . OR Runtime > Restart Runtime) then execute the following"
      ],
      "metadata": {
        "id": "QQLeuvYje2sK"
      }
    },
    {
      "cell_type": "code",
      "source": [
        "import spacy"
      ],
      "metadata": {
        "id": "tPqx634YdcsW"
      },
      "execution_count": 2,
      "outputs": []
    },
    {
      "cell_type": "code",
      "source": [
        "spacy.load(\"fr_core_news_sm\")._path"
      ],
      "metadata": {
        "id": "BO8E0pEwgPdw",
        "outputId": "0d6cfb8f-8f88-436a-ea2c-2aca25d5ed6b",
        "colab": {
          "base_uri": "https://localhost:8080/"
        }
      },
      "execution_count": 3,
      "outputs": [
        {
          "output_type": "execute_result",
          "data": {
            "text/plain": [
              "PosixPath('/usr/local/lib/python3.7/dist-packages/fr_core_news_sm/fr_core_news_sm-2.2.5')"
            ]
          },
          "metadata": {},
          "execution_count": 3
        }
      ]
    },
    {
      "cell_type": "code",
      "source": [
        "spacy.util.set_data_path('/usr/local/lib/python3.7/dist-packages')\n",
        "#Quick hack to make sure the library works, this is based on the ._path above."
      ],
      "metadata": {
        "id": "Ur921r4pnWC-"
      },
      "execution_count": 4,
      "outputs": []
    },
    {
      "cell_type": "markdown",
      "source": [
        "##Setup : Importing library and assorted data"
      ],
      "metadata": {
        "id": "xBexs2rPciL2"
      }
    },
    {
      "cell_type": "code",
      "source": [
        "%%capture\n",
        "# 1. Download project and set current directory\n",
        "!git clone https://github.com/nicolashernandez/READI-LREC22/\n",
        "%cd READI-LREC22/"
      ],
      "metadata": {
        "id": "jDdveq3ZUI__"
      },
      "execution_count": 5,
      "outputs": []
    },
    {
      "cell_type": "code",
      "source": [
        "%%capture\n",
        "# 2. Install module, should take around 30 secs to install every dependency\n",
        "!pip install ."
      ],
      "metadata": {
        "id": "Z_XksS_gUJOQ"
      },
      "execution_count": 7,
      "outputs": []
    },
    {
      "cell_type": "code",
      "source": [
        "# 3. Add project directory to the path\n",
        "import sys,os\n",
        "sys.path.append(os.getcwd())\n",
        "sys.path.append(os.path.join(os.getcwd(),\"readability\"))"
      ],
      "metadata": {
        "id": "y_GOTUVpUJb8"
      },
      "execution_count": 8,
      "outputs": []
    },
    {
      "cell_type": "code",
      "execution_count": 9,
      "metadata": {
        "id": "1dlJDld-LyFO"
      },
      "outputs": [],
      "source": [
        "import readability"
      ]
    },
    {
      "cell_type": "markdown",
      "metadata": {
        "id": "eO5yJj1MLyFO"
      },
      "source": [
        "# Importing data"
      ]
    },
    {
      "cell_type": "code",
      "execution_count": 10,
      "metadata": {
        "id": "fOKIaEKfLyFP"
      },
      "outputs": [],
      "source": [
        "import pickle\n",
        "#FIXME : replace this with a wget to the git directory\n",
        "with open(os.path.join(os.getcwd(),\"data\",\"tokens_split.pkl\"), \"rb\") as file:\n",
        "    corpus = pickle.load(file)"
      ]
    },
    {
      "cell_type": "code",
      "source": [
        "#This can also be done by doing a wget :\n",
        "#!wget -nc https://github.com/nicolashernandez/READI-LREC22/blob/main/data/tokens_split.pkl?raw=true -P data\n",
        "#with open(os.path.join(os.getcwd(),\"data\",\"tokens_split.pkl?raw=true\"), \"rb\") as file:\n",
        "#    corpus = pickle.load(file)"
      ],
      "metadata": {
        "id": "s8YEy-XhWqur"
      },
      "execution_count": null,
      "outputs": []
    },
    {
      "cell_type": "markdown",
      "source": [
        "# Recreating experiments"
      ],
      "metadata": {
        "id": "nTaUch-_Yd53"
      }
    },
    {
      "cell_type": "markdown",
      "source": [
        "# Examples of use"
      ],
      "metadata": {
        "id": "BJDUhalJXG-V"
      }
    },
    {
      "cell_type": "markdown",
      "metadata": {
        "id": "Apwsw5v2LyFP"
      },
      "source": [
        "## Example one : Using the library for a text\n",
        "\n",
        "Texts can be strings, but it is preferred to prepare them beforehand as tokenized sentences. ( list(list()) )  \n",
        "If using spacy, something like this can be used :  \n",
        "new_text = [[token.text for token in sent] for sent in spacy(text).sents]  \n",
        "And to remove punctuation marks, this can be done instead :  \n",
        "new_text = [[token.text for token in sent if not token.is_punct] for sent in spacy(temp).sents]"
      ]
    },
    {
      "cell_type": "markdown",
      "metadata": {
        "id": "hgaAcEHLLyFS"
      },
      "source": [
        "A readability instance is created by calling readability.Readability(text)  \n",
        "The following arguments are optional : lang, nlp_name, perplexity_processor  \n",
        "By default, this instance will use the french language, by using a spacy_sm nlp processor, and gpt2 for processing perplexity"
      ]
    },
    {
      "cell_type": "code",
      "execution_count": 11,
      "metadata": {
        "id": "-fNjDrEgLyFT",
        "outputId": "b6efb00a-8f91-4d6c-82c3-bbe45d2db4ca",
        "colab": {
          "base_uri": "https://localhost:8080/"
        }
      },
      "outputs": [
        {
          "output_type": "stream",
          "name": "stdout",
          "text": [
            "Acquiring Natural Language Processor...\n",
            "DEBUG: Spacy model location (already installed) :  /usr/local/lib/python3.7/dist-packages/fr_core_news_sm/fr_core_news_sm-2.2.5\n"
          ]
        }
      ],
      "source": [
        "import pandas as pd\n",
        "import spacy\n",
        "#Types of available formats for a text:\n",
        "r = readability.Readability(corpus['level1'][0]) # A text in the list(list()) format used internally\n",
        "#r = readability.Readability(' '.join(corpus['level1'][0][0])) # A string, it will be converted into a list(list()), of size 1, with 12 tokens, including punctuation"
      ]
    },
    {
      "cell_type": "markdown",
      "metadata": {
        "id": "bCznBc_8LyFU"
      },
      "source": [
        "Common scores can be accessed by using the corresponding function."
      ]
    },
    {
      "cell_type": "code",
      "execution_count": 12,
      "metadata": {
        "id": "XEJK_MYOLyFU",
        "outputId": "b7145953-e316-4120-e06a-17abfa9f25d9",
        "colab": {
          "base_uri": "https://localhost:8080/"
        }
      },
      "outputs": [
        {
          "output_type": "execute_result",
          "data": {
            "text/plain": [
              "61.52380952380953"
            ]
          },
          "metadata": {},
          "execution_count": 12
        }
      ],
      "source": [
        "gfi = r.gfi()\n",
        "gfi #is 61.52380952380953"
      ]
    },
    {
      "cell_type": "markdown",
      "metadata": {
        "id": "ZLsDXGXrLyFV"
      },
      "source": [
        "More conveniently, a list of these scores can be obtained by using .scores()"
      ]
    },
    {
      "cell_type": "code",
      "execution_count": 13,
      "metadata": {
        "id": "EqHKydKmLyFW",
        "outputId": "54dca864-fd4c-4b2f-ebd9-1c3ab6b38cf2",
        "colab": {
          "base_uri": "https://localhost:8080/"
        }
      },
      "outputs": [
        {
          "output_type": "execute_result",
          "data": {
            "text/plain": [
              "{'ari': 21.503161490683233,\n",
              " 'fkgl': 8.382298136645964,\n",
              " 'fre': 54.47311594202901,\n",
              " 'gfi': 61.52380952380953,\n",
              " 'rel': 73.00333333333334,\n",
              " 'smog': 13.023866798666859}"
            ]
          },
          "metadata": {},
          "execution_count": 13
        }
      ],
      "source": [
        "r.scores()"
      ]
    },
    {
      "cell_type": "markdown",
      "metadata": {
        "id": "2RsaWHmrLyFW"
      },
      "source": [
        "In order to speed the calculations needed by these functions, the .compile() function can be used.  \n",
        "It calculates most of the statistics needed for a text, and puts it in the .statistics attribute of the Readability object.  \n",
        "These can be viewed by doing .stats(), or directly accessing the .statistics attribute.  \n",
        "For example : .statistics.totalWords"
      ]
    },
    {
      "cell_type": "code",
      "execution_count": 14,
      "metadata": {
        "id": "3iNUbMcOLyFW",
        "outputId": "a14e8dbb-f97d-4768-dc2b-66ec39340bd9",
        "colab": {
          "base_uri": "https://localhost:8080/"
        }
      },
      "outputs": [
        {
          "output_type": "stream",
          "name": "stdout",
          "text": [
            "totalWords = 230\n",
            "totalLongWords = 30\n",
            "totalSentences = 21\n",
            "totalCharacters = 837\n",
            "totalSyllables = 384\n",
            "nbPolysyllables = 63\n"
          ]
        },
        {
          "output_type": "execute_result",
          "data": {
            "text/plain": [
              "230"
            ]
          },
          "metadata": {},
          "execution_count": 14
        }
      ],
      "source": [
        "r.compile()\n",
        "r.stats()\n",
        "r.statistics.totalWords"
      ]
    },
    {
      "cell_type": "markdown",
      "metadata": {
        "id": "xeG9xrv1LyFX"
      },
      "source": [
        "## Example two : Using the library for a corpus\n",
        "\n",
        "Currently, a corpus will be recognized by the library only if provided with the following structure :  \n",
        "type(corpus) = dict[class][text][sentence][token]  \n",
        "For instance, corpA['class1'][0][0][0] should return the first token of the first sentence of the first text of class 'class1', for the corpus 'corpA'."
      ]
    },
    {
      "cell_type": "code",
      "execution_count": 15,
      "metadata": {
        "id": "ja15sx79LyFX",
        "outputId": "d62e08eb-6636-4710-9145-5cf4b5ad9ea6",
        "colab": {
          "base_uri": "https://localhost:8080/"
        }
      },
      "outputs": [
        {
          "output_type": "stream",
          "name": "stdout",
          "text": [
            "Acquiring Natural Language Processor...\n",
            "DEBUG: Spacy model location (already installed) :  /usr/local/lib/python3.7/dist-packages/fr_core_news_sm/fr_core_news_sm-2.2.5\n"
          ]
        }
      ],
      "source": [
        "r = readability.Readability(corpus)"
      ]
    },
    {
      "cell_type": "markdown",
      "metadata": {
        "id": "X-dg0de3LyFY"
      },
      "source": [
        "A useful function resuming the contents of the corpus is available, called .corpus_info()"
      ]
    },
    {
      "cell_type": "code",
      "execution_count": 16,
      "metadata": {
        "id": "TKII3iNjLyFY",
        "outputId": "42485d46-97fa-4fc5-8a1e-28cbe275d2ca",
        "colab": {
          "base_uri": "https://localhost:8080/",
          "height": 300
        }
      },
      "outputs": [
        {
          "output_type": "execute_result",
          "data": {
            "text/plain": [
              "                                level1    level2    level3    level4     total\n",
              "Nombre de fichiers               240.0     628.0     670.0     522.0    2060.0\n",
              "Nombre de phrases total         4880.0   13049.0   10354.0    7743.0   36026.0\n",
              "Nombre de phrases moyen           20.0      21.0      15.0      15.0      17.0\n",
              "Longueur moyenne de phrase         8.0      10.0      12.0      13.0      11.0\n",
              "Nombre de tokens               38976.0  128019.0  124901.0  101165.0  393061.0\n",
              "Nombre de token moyen            162.0     204.0     186.0     194.0     191.0\n",
              "Taille du vocabulaire           4836.0   10903.0   11953.0   11410.0   23100.0\n",
              "Taille moyenne du vocabulaire     99.0     130.0     127.0     149.0    2257.0"
            ],
            "text/html": [
              "\n",
              "  <div id=\"df-966205dd-e442-4c5d-ad24-dd564ba656e6\">\n",
              "    <div class=\"colab-df-container\">\n",
              "      <div>\n",
              "<style scoped>\n",
              "    .dataframe tbody tr th:only-of-type {\n",
              "        vertical-align: middle;\n",
              "    }\n",
              "\n",
              "    .dataframe tbody tr th {\n",
              "        vertical-align: top;\n",
              "    }\n",
              "\n",
              "    .dataframe thead th {\n",
              "        text-align: right;\n",
              "    }\n",
              "</style>\n",
              "<table border=\"1\" class=\"dataframe\">\n",
              "  <thead>\n",
              "    <tr style=\"text-align: right;\">\n",
              "      <th></th>\n",
              "      <th>level1</th>\n",
              "      <th>level2</th>\n",
              "      <th>level3</th>\n",
              "      <th>level4</th>\n",
              "      <th>total</th>\n",
              "    </tr>\n",
              "  </thead>\n",
              "  <tbody>\n",
              "    <tr>\n",
              "      <th>Nombre de fichiers</th>\n",
              "      <td>240.0</td>\n",
              "      <td>628.0</td>\n",
              "      <td>670.0</td>\n",
              "      <td>522.0</td>\n",
              "      <td>2060.0</td>\n",
              "    </tr>\n",
              "    <tr>\n",
              "      <th>Nombre de phrases total</th>\n",
              "      <td>4880.0</td>\n",
              "      <td>13049.0</td>\n",
              "      <td>10354.0</td>\n",
              "      <td>7743.0</td>\n",
              "      <td>36026.0</td>\n",
              "    </tr>\n",
              "    <tr>\n",
              "      <th>Nombre de phrases moyen</th>\n",
              "      <td>20.0</td>\n",
              "      <td>21.0</td>\n",
              "      <td>15.0</td>\n",
              "      <td>15.0</td>\n",
              "      <td>17.0</td>\n",
              "    </tr>\n",
              "    <tr>\n",
              "      <th>Longueur moyenne de phrase</th>\n",
              "      <td>8.0</td>\n",
              "      <td>10.0</td>\n",
              "      <td>12.0</td>\n",
              "      <td>13.0</td>\n",
              "      <td>11.0</td>\n",
              "    </tr>\n",
              "    <tr>\n",
              "      <th>Nombre de tokens</th>\n",
              "      <td>38976.0</td>\n",
              "      <td>128019.0</td>\n",
              "      <td>124901.0</td>\n",
              "      <td>101165.0</td>\n",
              "      <td>393061.0</td>\n",
              "    </tr>\n",
              "    <tr>\n",
              "      <th>Nombre de token moyen</th>\n",
              "      <td>162.0</td>\n",
              "      <td>204.0</td>\n",
              "      <td>186.0</td>\n",
              "      <td>194.0</td>\n",
              "      <td>191.0</td>\n",
              "    </tr>\n",
              "    <tr>\n",
              "      <th>Taille du vocabulaire</th>\n",
              "      <td>4836.0</td>\n",
              "      <td>10903.0</td>\n",
              "      <td>11953.0</td>\n",
              "      <td>11410.0</td>\n",
              "      <td>23100.0</td>\n",
              "    </tr>\n",
              "    <tr>\n",
              "      <th>Taille moyenne du vocabulaire</th>\n",
              "      <td>99.0</td>\n",
              "      <td>130.0</td>\n",
              "      <td>127.0</td>\n",
              "      <td>149.0</td>\n",
              "      <td>2257.0</td>\n",
              "    </tr>\n",
              "  </tbody>\n",
              "</table>\n",
              "</div>\n",
              "      <button class=\"colab-df-convert\" onclick=\"convertToInteractive('df-966205dd-e442-4c5d-ad24-dd564ba656e6')\"\n",
              "              title=\"Convert this dataframe to an interactive table.\"\n",
              "              style=\"display:none;\">\n",
              "        \n",
              "  <svg xmlns=\"http://www.w3.org/2000/svg\" height=\"24px\"viewBox=\"0 0 24 24\"\n",
              "       width=\"24px\">\n",
              "    <path d=\"M0 0h24v24H0V0z\" fill=\"none\"/>\n",
              "    <path d=\"M18.56 5.44l.94 2.06.94-2.06 2.06-.94-2.06-.94-.94-2.06-.94 2.06-2.06.94zm-11 1L8.5 8.5l.94-2.06 2.06-.94-2.06-.94L8.5 2.5l-.94 2.06-2.06.94zm10 10l.94 2.06.94-2.06 2.06-.94-2.06-.94-.94-2.06-.94 2.06-2.06.94z\"/><path d=\"M17.41 7.96l-1.37-1.37c-.4-.4-.92-.59-1.43-.59-.52 0-1.04.2-1.43.59L10.3 9.45l-7.72 7.72c-.78.78-.78 2.05 0 2.83L4 21.41c.39.39.9.59 1.41.59.51 0 1.02-.2 1.41-.59l7.78-7.78 2.81-2.81c.8-.78.8-2.07 0-2.86zM5.41 20L4 18.59l7.72-7.72 1.47 1.35L5.41 20z\"/>\n",
              "  </svg>\n",
              "      </button>\n",
              "      \n",
              "  <style>\n",
              "    .colab-df-container {\n",
              "      display:flex;\n",
              "      flex-wrap:wrap;\n",
              "      gap: 12px;\n",
              "    }\n",
              "\n",
              "    .colab-df-convert {\n",
              "      background-color: #E8F0FE;\n",
              "      border: none;\n",
              "      border-radius: 50%;\n",
              "      cursor: pointer;\n",
              "      display: none;\n",
              "      fill: #1967D2;\n",
              "      height: 32px;\n",
              "      padding: 0 0 0 0;\n",
              "      width: 32px;\n",
              "    }\n",
              "\n",
              "    .colab-df-convert:hover {\n",
              "      background-color: #E2EBFA;\n",
              "      box-shadow: 0px 1px 2px rgba(60, 64, 67, 0.3), 0px 1px 3px 1px rgba(60, 64, 67, 0.15);\n",
              "      fill: #174EA6;\n",
              "    }\n",
              "\n",
              "    [theme=dark] .colab-df-convert {\n",
              "      background-color: #3B4455;\n",
              "      fill: #D2E3FC;\n",
              "    }\n",
              "\n",
              "    [theme=dark] .colab-df-convert:hover {\n",
              "      background-color: #434B5C;\n",
              "      box-shadow: 0px 1px 3px 1px rgba(0, 0, 0, 0.15);\n",
              "      filter: drop-shadow(0px 1px 2px rgba(0, 0, 0, 0.3));\n",
              "      fill: #FFFFFF;\n",
              "    }\n",
              "  </style>\n",
              "\n",
              "      <script>\n",
              "        const buttonEl =\n",
              "          document.querySelector('#df-966205dd-e442-4c5d-ad24-dd564ba656e6 button.colab-df-convert');\n",
              "        buttonEl.style.display =\n",
              "          google.colab.kernel.accessAllowed ? 'block' : 'none';\n",
              "\n",
              "        async function convertToInteractive(key) {\n",
              "          const element = document.querySelector('#df-966205dd-e442-4c5d-ad24-dd564ba656e6');\n",
              "          const dataTable =\n",
              "            await google.colab.kernel.invokeFunction('convertToInteractive',\n",
              "                                                     [key], {});\n",
              "          if (!dataTable) return;\n",
              "\n",
              "          const docLinkHtml = 'Like what you see? Visit the ' +\n",
              "            '<a target=\"_blank\" href=https://colab.research.google.com/notebooks/data_table.ipynb>data table notebook</a>'\n",
              "            + ' to learn more about interactive tables.';\n",
              "          element.innerHTML = '';\n",
              "          dataTable['output_type'] = 'display_data';\n",
              "          await google.colab.output.renderOutput(dataTable, element);\n",
              "          const docLink = document.createElement('div');\n",
              "          docLink.innerHTML = docLinkHtml;\n",
              "          element.appendChild(docLink);\n",
              "        }\n",
              "      </script>\n",
              "    </div>\n",
              "  </div>\n",
              "  "
            ]
          },
          "metadata": {},
          "execution_count": 16
        }
      ],
      "source": [
        "r.corpus_info()"
      ]
    },
    {
      "cell_type": "markdown",
      "metadata": {
        "id": "MptkioiALyFY"
      },
      "source": [
        "When using a corpus, the Readability object's methods can return different types of results, but the behavior is similar:  \n",
        "Instead of returning a value, or a list, the methods may return them in a dict[class][text_index] format.  \n",
        "Additionally, .compile() will create the .corpus_statistics attribute instead of .statistics.  \n",
        ".stats() will print the statistics of the first text in each class, in addition to showing the mean values."
      ]
    },
    {
      "cell_type": "code",
      "execution_count": 17,
      "metadata": {
        "id": "NABoz6OsLyFZ",
        "outputId": "26bfdf60-7e20-4023-cd74-16217b96d06e",
        "colab": {
          "base_uri": "https://localhost:8080/"
        }
      },
      "outputs": [
        {
          "output_type": "stream",
          "name": "stdout",
          "text": [
            "Class level1\n",
            "totalWords = 230\n",
            "totalLongWords = 30\n",
            "totalSentences = 21\n",
            "totalCharacters = 837\n",
            "totalSyllables = 384\n",
            "nbPolysyllables = 63\n",
            "Class level2\n",
            "totalWords = 138\n",
            "totalLongWords = 26\n",
            "totalSentences = 8\n",
            "totalCharacters = 555\n",
            "totalSyllables = 240\n",
            "nbPolysyllables = 43\n",
            "Class level3\n",
            "totalWords = 104\n",
            "totalLongWords = 16\n",
            "totalSentences = 11\n",
            "totalCharacters = 405\n",
            "totalSyllables = 184\n",
            "nbPolysyllables = 21\n",
            "Class level4\n",
            "totalWords = 567\n",
            "totalLongWords = 112\n",
            "totalSentences = 35\n",
            "totalCharacters = 2307\n",
            "totalSyllables = 972\n",
            "nbPolysyllables = 151\n"
          ]
        }
      ],
      "source": [
        "r.compile()\n",
        "r.stats()"
      ]
    },
    {
      "cell_type": "code",
      "execution_count": 18,
      "metadata": {
        "id": "aC4P0miCLyFZ",
        "outputId": "cb3c1410-5e50-4149-801f-71f07c254631",
        "colab": {
          "base_uri": "https://localhost:8080/"
        }
      },
      "outputs": [
        {
          "output_type": "stream",
          "name": "stdout",
          "text": [
            "class level1 text 0 score 61.52380952380953\n",
            "class level2 text 0 score 136.9\n",
            "class level3 text 0 score 61.963636363636375\n",
            "class level4 text 0 score 134.48\n"
          ]
        },
        {
          "output_type": "execute_result",
          "data": {
            "text/plain": [
              "61.52380952380953"
            ]
          },
          "metadata": {},
          "execution_count": 18
        }
      ],
      "source": [
        "gfi_corp = r.gfi()\n",
        "gfi_corp['level1'][0] #Is also 61.52380952380953"
      ]
    },
    {
      "cell_type": "markdown",
      "metadata": {
        "id": "FeZFhG7cLyFa"
      },
      "source": [
        "r.scores behaves differently, instead of giving the scores for each text, it returns a dataframe showing the mean values, (and prints out the standard deviation)"
      ]
    },
    {
      "cell_type": "code",
      "execution_count": 19,
      "metadata": {
        "id": "vod9d0HBLyFa",
        "outputId": "706b4829-734b-4038-a080-e30696790a40",
        "colab": {
          "base_uri": "https://localhost:8080/",
          "height": 515
        }
      },
      "outputs": [
        {
          "output_type": "stream",
          "name": "stdout",
          "text": [
            "Standard Deviation values                   level1     level2     level3  \\\n",
            "The Gunning fog index GFI                22.638448  28.598931  38.724814   \n",
            "The Automated readability index ARI       6.265479   6.977522   8.614690   \n",
            "The Flesch reading ease FRE              26.013539  24.790444  29.308209   \n",
            "The Flesch-Kincaid grade level FKGL       3.386159   2.447647   2.501191   \n",
            "The Simple Measure of Gobbledygook SMOG   1.728092   1.647957   1.839104   \n",
            "Reading Ease Level                       19.108738  12.993784  12.457079   \n",
            "\n",
            "Standard Deviation values                   level4  \n",
            "The Gunning fog index GFI                45.192761  \n",
            "The Automated readability index ARI       9.156945  \n",
            "The Flesch reading ease FRE              32.117630  \n",
            "The Flesch-Kincaid grade level FKGL       2.833996  \n",
            "The Simple Measure of Gobbledygook SMOG   1.978900  \n",
            "Reading Ease Level                       14.318104  \n",
            "DEBUG: time elapsed perf counter: 0.026413504999936777\n"
          ]
        },
        {
          "output_type": "execute_result",
          "data": {
            "text/plain": [
              "Mean values                                 level1     level2     level3  \\\n",
              "The Gunning fog index GFI                45.132518  67.697721  91.866336   \n",
              "The Automated readability index ARI      14.238996  19.932585  25.719148   \n",
              "The Flesch reading ease FRE              90.625507  84.875840  82.799719   \n",
              "The Flesch-Kincaid grade level FKGL       4.576800   6.681592   8.323094   \n",
              "The Simple Measure of Gobbledygook SMOG  10.110286  11.521299  12.760749   \n",
              "Reading Ease Level                       92.465376  82.239781  75.110005   \n",
              "\n",
              "Mean values                                  level4  Pearson Score  \n",
              "The Gunning fog index GFI                105.669951       0.475915  \n",
              "The Automated readability index ARI       27.757700       0.472037  \n",
              "The Flesch reading ease FRE               81.032160      -0.402143  \n",
              "The Flesch-Kincaid grade level FKGL        9.019000       0.451786  \n",
              "The Simple Measure of Gobbledygook SMOG   13.210278       0.471106  \n",
              "Reading Ease Level                        71.711107      -0.408414  "
            ],
            "text/html": [
              "\n",
              "  <div id=\"df-2a6c2655-8028-4b97-a60f-35e38f03b80a\">\n",
              "    <div class=\"colab-df-container\">\n",
              "      <div>\n",
              "<style scoped>\n",
              "    .dataframe tbody tr th:only-of-type {\n",
              "        vertical-align: middle;\n",
              "    }\n",
              "\n",
              "    .dataframe tbody tr th {\n",
              "        vertical-align: top;\n",
              "    }\n",
              "\n",
              "    .dataframe thead th {\n",
              "        text-align: right;\n",
              "    }\n",
              "</style>\n",
              "<table border=\"1\" class=\"dataframe\">\n",
              "  <thead>\n",
              "    <tr style=\"text-align: right;\">\n",
              "      <th>Mean values</th>\n",
              "      <th>level1</th>\n",
              "      <th>level2</th>\n",
              "      <th>level3</th>\n",
              "      <th>level4</th>\n",
              "      <th>Pearson Score</th>\n",
              "    </tr>\n",
              "  </thead>\n",
              "  <tbody>\n",
              "    <tr>\n",
              "      <th>The Gunning fog index GFI</th>\n",
              "      <td>45.132518</td>\n",
              "      <td>67.697721</td>\n",
              "      <td>91.866336</td>\n",
              "      <td>105.669951</td>\n",
              "      <td>0.475915</td>\n",
              "    </tr>\n",
              "    <tr>\n",
              "      <th>The Automated readability index ARI</th>\n",
              "      <td>14.238996</td>\n",
              "      <td>19.932585</td>\n",
              "      <td>25.719148</td>\n",
              "      <td>27.757700</td>\n",
              "      <td>0.472037</td>\n",
              "    </tr>\n",
              "    <tr>\n",
              "      <th>The Flesch reading ease FRE</th>\n",
              "      <td>90.625507</td>\n",
              "      <td>84.875840</td>\n",
              "      <td>82.799719</td>\n",
              "      <td>81.032160</td>\n",
              "      <td>-0.402143</td>\n",
              "    </tr>\n",
              "    <tr>\n",
              "      <th>The Flesch-Kincaid grade level FKGL</th>\n",
              "      <td>4.576800</td>\n",
              "      <td>6.681592</td>\n",
              "      <td>8.323094</td>\n",
              "      <td>9.019000</td>\n",
              "      <td>0.451786</td>\n",
              "    </tr>\n",
              "    <tr>\n",
              "      <th>The Simple Measure of Gobbledygook SMOG</th>\n",
              "      <td>10.110286</td>\n",
              "      <td>11.521299</td>\n",
              "      <td>12.760749</td>\n",
              "      <td>13.210278</td>\n",
              "      <td>0.471106</td>\n",
              "    </tr>\n",
              "    <tr>\n",
              "      <th>Reading Ease Level</th>\n",
              "      <td>92.465376</td>\n",
              "      <td>82.239781</td>\n",
              "      <td>75.110005</td>\n",
              "      <td>71.711107</td>\n",
              "      <td>-0.408414</td>\n",
              "    </tr>\n",
              "  </tbody>\n",
              "</table>\n",
              "</div>\n",
              "      <button class=\"colab-df-convert\" onclick=\"convertToInteractive('df-2a6c2655-8028-4b97-a60f-35e38f03b80a')\"\n",
              "              title=\"Convert this dataframe to an interactive table.\"\n",
              "              style=\"display:none;\">\n",
              "        \n",
              "  <svg xmlns=\"http://www.w3.org/2000/svg\" height=\"24px\"viewBox=\"0 0 24 24\"\n",
              "       width=\"24px\">\n",
              "    <path d=\"M0 0h24v24H0V0z\" fill=\"none\"/>\n",
              "    <path d=\"M18.56 5.44l.94 2.06.94-2.06 2.06-.94-2.06-.94-.94-2.06-.94 2.06-2.06.94zm-11 1L8.5 8.5l.94-2.06 2.06-.94-2.06-.94L8.5 2.5l-.94 2.06-2.06.94zm10 10l.94 2.06.94-2.06 2.06-.94-2.06-.94-.94-2.06-.94 2.06-2.06.94z\"/><path d=\"M17.41 7.96l-1.37-1.37c-.4-.4-.92-.59-1.43-.59-.52 0-1.04.2-1.43.59L10.3 9.45l-7.72 7.72c-.78.78-.78 2.05 0 2.83L4 21.41c.39.39.9.59 1.41.59.51 0 1.02-.2 1.41-.59l7.78-7.78 2.81-2.81c.8-.78.8-2.07 0-2.86zM5.41 20L4 18.59l7.72-7.72 1.47 1.35L5.41 20z\"/>\n",
              "  </svg>\n",
              "      </button>\n",
              "      \n",
              "  <style>\n",
              "    .colab-df-container {\n",
              "      display:flex;\n",
              "      flex-wrap:wrap;\n",
              "      gap: 12px;\n",
              "    }\n",
              "\n",
              "    .colab-df-convert {\n",
              "      background-color: #E8F0FE;\n",
              "      border: none;\n",
              "      border-radius: 50%;\n",
              "      cursor: pointer;\n",
              "      display: none;\n",
              "      fill: #1967D2;\n",
              "      height: 32px;\n",
              "      padding: 0 0 0 0;\n",
              "      width: 32px;\n",
              "    }\n",
              "\n",
              "    .colab-df-convert:hover {\n",
              "      background-color: #E2EBFA;\n",
              "      box-shadow: 0px 1px 2px rgba(60, 64, 67, 0.3), 0px 1px 3px 1px rgba(60, 64, 67, 0.15);\n",
              "      fill: #174EA6;\n",
              "    }\n",
              "\n",
              "    [theme=dark] .colab-df-convert {\n",
              "      background-color: #3B4455;\n",
              "      fill: #D2E3FC;\n",
              "    }\n",
              "\n",
              "    [theme=dark] .colab-df-convert:hover {\n",
              "      background-color: #434B5C;\n",
              "      box-shadow: 0px 1px 3px 1px rgba(0, 0, 0, 0.15);\n",
              "      filter: drop-shadow(0px 1px 2px rgba(0, 0, 0, 0.3));\n",
              "      fill: #FFFFFF;\n",
              "    }\n",
              "  </style>\n",
              "\n",
              "      <script>\n",
              "        const buttonEl =\n",
              "          document.querySelector('#df-2a6c2655-8028-4b97-a60f-35e38f03b80a button.colab-df-convert');\n",
              "        buttonEl.style.display =\n",
              "          google.colab.kernel.accessAllowed ? 'block' : 'none';\n",
              "\n",
              "        async function convertToInteractive(key) {\n",
              "          const element = document.querySelector('#df-2a6c2655-8028-4b97-a60f-35e38f03b80a');\n",
              "          const dataTable =\n",
              "            await google.colab.kernel.invokeFunction('convertToInteractive',\n",
              "                                                     [key], {});\n",
              "          if (!dataTable) return;\n",
              "\n",
              "          const docLinkHtml = 'Like what you see? Visit the ' +\n",
              "            '<a target=\"_blank\" href=https://colab.research.google.com/notebooks/data_table.ipynb>data table notebook</a>'\n",
              "            + ' to learn more about interactive tables.';\n",
              "          element.innerHTML = '';\n",
              "          dataTable['output_type'] = 'display_data';\n",
              "          await google.colab.output.renderOutput(dataTable, element);\n",
              "          const docLink = document.createElement('div');\n",
              "          docLink.innerHTML = docLinkHtml;\n",
              "          element.appendChild(docLink);\n",
              "        }\n",
              "      </script>\n",
              "    </div>\n",
              "  </div>\n",
              "  "
            ]
          },
          "metadata": {},
          "execution_count": 19
        }
      ],
      "source": [
        "r.scores()"
      ]
    },
    {
      "cell_type": "markdown",
      "metadata": {
        "id": "OSxHqGW5LyFb"
      },
      "source": [
        "In addition, machine learning and deep learning applications can be used with the corpus' data to help develop NLP solutions"
      ]
    },
    {
      "cell_type": "code",
      "execution_count": null,
      "metadata": {
        "id": "eE73FO2zLyFb"
      },
      "outputs": [],
      "source": [
        "#r.importmodel(camembert)\n",
        "#r.train()"
      ]
    }
  ],
  "metadata": {
    "interpreter": {
      "hash": "0d8382c64f832ccbfeaab2a5edd229bc484a8f789774f43ccfafc2e4aa4ca7e5"
    },
    "kernelspec": {
      "display_name": "Python 3.9.12 ('base')",
      "language": "python",
      "name": "python3"
    },
    "language_info": {
      "codemirror_mode": {
        "name": "ipython",
        "version": 3
      },
      "file_extension": ".py",
      "mimetype": "text/x-python",
      "name": "python",
      "nbconvert_exporter": "python",
      "pygments_lexer": "ipython3",
      "version": "3.9.12"
    },
    "orig_nbformat": 4,
    "colab": {
      "name": "readi_reproduction.ipynb",
      "provenance": [],
      "include_colab_link": true
    }
  },
  "nbformat": 4,
  "nbformat_minor": 0
}