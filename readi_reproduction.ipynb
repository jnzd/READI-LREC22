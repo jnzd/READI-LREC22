{
  "cells": [
    {
      "cell_type": "markdown",
      "metadata": {
        "id": "view-in-github",
        "colab_type": "text"
      },
      "source": [
        "<a href=\"https://colab.research.google.com/github/nicolashernandez/READI-LREC22/blob/main/readi_reproduction.ipynb\" target=\"_parent\"><img src=\"https://colab.research.google.com/assets/colab-badge.svg\" alt=\"Open In Colab\"/></a>"
      ]
    },
    {
      "cell_type": "markdown",
      "metadata": {
        "id": "a6OK4ukoLyFI"
      },
      "source": [
        "# Introduction\n",
        "\n",
        "This notebook comes from the git repository available [here](https://github.com/nicolashernandez/READI-LREC22/)  \n",
        "It will show how to reproduce the contents of the READI paper available [here](https://cental.uclouvain.be/readi2022/accepted.html), then show a few examples on how to manipulate the library.  \n",
        "In order to speed up deep learning applications significantly, please enable GPU in this notebook's parameters :  \n",
        "Edit -> Notebook Settings -> Hardware Accelerator : GPU\n",
        " \n"
      ]
    },
    {
      "cell_type": "markdown",
      "metadata": {
        "id": "YRRW2zl5LyFL"
      },
      "source": [
        "# Setup : Import dependencies then library"
      ]
    },
    {
      "cell_type": "markdown",
      "source": [
        "## Setup : NEED to restart runtime after downloading spacy model"
      ],
      "metadata": {
        "id": "2ZG-mjPydNdD"
      }
    },
    {
      "cell_type": "code",
      "source": [
        "%%capture\n",
        "!python -m spacy download fr_core_news_sm\n",
        "#This cell only needs to be run once."
      ],
      "metadata": {
        "id": "H2YEIjMZdcY0"
      },
      "execution_count": 1,
      "outputs": []
    },
    {
      "cell_type": "markdown",
      "source": [
        "Restart the runtime once (Ctrl+M . OR Runtime > Restart Runtime) then execute the following"
      ],
      "metadata": {
        "id": "QQLeuvYje2sK"
      }
    },
    {
      "cell_type": "code",
      "source": [
        "import spacy"
      ],
      "metadata": {
        "id": "tPqx634YdcsW"
      },
      "execution_count": 1,
      "outputs": []
    },
    {
      "cell_type": "code",
      "source": [
        "spacy.util.set_data_path(spacy.load(\"fr_core_news_sm\")._path.parent.parent)\n",
        "#Quick hack to make sure the library's own spacy model works on colab by indicating where to locate models."
      ],
      "metadata": {
        "id": "Ur921r4pnWC-"
      },
      "execution_count": 2,
      "outputs": []
    },
    {
      "cell_type": "markdown",
      "source": [
        "##Setup : Importing library and assorted data"
      ],
      "metadata": {
        "id": "xBexs2rPciL2"
      }
    },
    {
      "cell_type": "code",
      "source": [
        "%%capture\n",
        "# 1. Download project and set current directory\n",
        "!git clone https://github.com/nicolashernandez/READI-LREC22/\n",
        "%cd READI-LREC22/"
      ],
      "metadata": {
        "id": "jDdveq3ZUI__"
      },
      "execution_count": 3,
      "outputs": []
    },
    {
      "cell_type": "code",
      "source": [
        "%%capture\n",
        "# 2. Install module, should take around a minute to install every dependency\n",
        "%cd readability\n",
        "!pip install .\n",
        "%cd .."
      ],
      "metadata": {
        "id": "Z_XksS_gUJOQ"
      },
      "execution_count": 4,
      "outputs": []
    },
    {
      "cell_type": "code",
      "source": [
        "# 3. Add project directory to the path\n",
        "import sys,os\n",
        "sys.path.append(os.getcwd())\n",
        "sys.path.append(os.path.join(os.getcwd(),\"readability\"))"
      ],
      "metadata": {
        "id": "y_GOTUVpUJb8"
      },
      "execution_count": 5,
      "outputs": []
    },
    {
      "cell_type": "code",
      "execution_count": 6,
      "metadata": {
        "id": "1dlJDld-LyFO"
      },
      "outputs": [],
      "source": [
        "import readability"
      ]
    },
    {
      "cell_type": "markdown",
      "source": [
        "# Recreating experiments"
      ],
      "metadata": {
        "id": "nTaUch-_Yd53"
      }
    },
    {
      "cell_type": "markdown",
      "source": [
        "Six files are located in the git repository that was cloned : in the READI-LREC22/demo folder.  \n",
        "These contain the cleaned and formatted content of the corpuses used in our project, and will be used for the demonstrations."
      ],
      "metadata": {
        "id": "2m7Wg8S1Plye"
      }
    },
    {
      "cell_type": "code",
      "source": [
        "import pickle\n",
        "with open(os.path.join(os.getcwd(),\"data\",\"tokens_split.pkl\"), \"rb\") as file:\n",
        "    corpus_ljl = pickle.load(file)\n",
        "with open(os.path.join(os.getcwd(),\"data\",\"bibebook.com.pkl\"), \"rb\") as file:\n",
        "    corpus_bb = pickle.load(file)\n",
        "with open(os.path.join(os.getcwd(),\"data\",\"JeLisLibre_md.pkl\"), \"rb\") as file:\n",
        "    corpus_jll = pickle.load(file)\n"
      ],
      "metadata": {
        "id": "7FMcd7YaQfhZ"
      },
      "execution_count": 7,
      "outputs": []
    },
    {
      "cell_type": "markdown",
      "source": [
        "If you wish to view the content, simply treat it as a dictionary containing texts, classes can be known by doing dict.keys().  \n",
        "Each text being a list of sentences, which are lists of tokens.  \n",
        "For instance: corpus_ljl['level1'][0][0] would give you the first sentence of the first text in the ljl corpus, for the \"level1\" class.  \n"
      ],
      "metadata": {
        "id": "vnILar8cQ6-1"
      }
    },
    {
      "cell_type": "code",
      "source": [
        "corpus_ljl['level1'][0][0]"
      ],
      "metadata": {
        "colab": {
          "base_uri": "https://localhost:8080/"
        },
        "id": "sMMUSlzgQy-s",
        "outputId": "b8f67057-f1a0-4cce-9aac-dc043cb4bc00"
      },
      "execution_count": 8,
      "outputs": [
        {
          "output_type": "execute_result",
          "data": {
            "text/plain": [
              "[\"Aujourd'hui\",\n",
              " ',',\n",
              " 'toute',\n",
              " 'la',\n",
              " 'famille',\n",
              " 'est',\n",
              " 'allée',\n",
              " 'à',\n",
              " 'la',\n",
              " 'fête',\n",
              " 'foraine',\n",
              " '.']"
            ]
          },
          "metadata": {},
          "execution_count": 8
        }
      ]
    },
    {
      "cell_type": "code",
      "source": [
        "#Turns out the copies aren't as clean as I thought...\n",
        "for level in corpus_bb.keys():\n",
        "  for text in corpus_bb[level][:]:\n",
        "    if len(text)==0:\n",
        "      corpus_bb[level].remove(text)\n",
        "\n",
        "for level in corpus_jll.keys():\n",
        "  for text in corpus_jll[level][:]:\n",
        "    if len(text)==0:\n",
        "      corpus_jll[level].remove(text)"
      ],
      "metadata": {
        "id": "Aqw3YoaZUYlT"
      },
      "execution_count": 9,
      "outputs": []
    },
    {
      "cell_type": "markdown",
      "source": [
        "##Reproducing the contents of table 2"
      ],
      "metadata": {
        "id": "EptHo7EPMqGk"
      }
    },
    {
      "cell_type": "code",
      "source": [
        "import pandas as pd"
      ],
      "metadata": {
        "id": "SF_IJ5WbpmSW"
      },
      "execution_count": 10,
      "outputs": []
    },
    {
      "cell_type": "code",
      "source": [
        "corp_info_ljl = readability.Readability(corpus_ljl).corpus_info()\n",
        "corp_info_ljl.rename({\"Nombre de fichiers\" : \"Nombre de fichiers artificiel\"}, axis = 'index', inplace = True)\n",
        "original_documents = [240,314,134,58,746]\n",
        "extract_ljl = pd.DataFrame([corp_info_ljl.loc[\"Nombre de fichiers artificiel\"],corp_info_ljl.loc['Nombre de phrases total'],corp_info_ljl.loc['Nombre de tokens']])\n",
        "extract_ljl.loc[\"Nombre de fichiers original\"] = original_documents\n",
        "extract_ljl.columns.name = \"Corpus ljl\"\n",
        "\n",
        "corp_info_bb = readability.Readability(corpus_bb).corpus_info()\n",
        "corp_info_bb.rename({'Nombre de fichiers' : 'Nombre de fichiers artificiel'}, axis = 'index', inplace = True)\n",
        "original_documents = [52,91,65,208]\n",
        "extract_bb = pd.DataFrame([corp_info_bb.loc[\"Nombre de fichiers artificiel\"],corp_info_bb.loc['Nombre de phrases total'],corp_info_bb.loc['Nombre de tokens']])\n",
        "extract_bb.loc[\"Nombre de fichiers original\"] = original_documents\n",
        "extract_bb.columns.name = \"Corpus bb\"\n",
        "\n",
        "corp_info_jll = readability.Readability(corpus_jll).corpus_info()\n",
        "corp_info_jll.rename({'Nombre de fichiers' : 'Nombre de fichiers artificiel'}, axis = 'index', inplace = True)\n",
        "original_documents = [13,12,10,9,44]\n",
        "extract_jll = pd.DataFrame([corp_info_jll.loc[\"Nombre de fichiers artificiel\"],corp_info_jll.loc['Nombre de phrases total'],corp_info_jll.loc['Nombre de tokens']])\n",
        "extract_jll.loc[\"Nombre de fichiers original\"] = original_documents\n",
        "extract_jll.columns.name = \"Corpus jll\""
      ],
      "metadata": {
        "colab": {
          "base_uri": "https://localhost:8080/"
        },
        "id": "Y1-GmxK2MpNC",
        "outputId": "fab75b1f-2933-4e51-cd05-92e61804b0f9"
      },
      "execution_count": 11,
      "outputs": [
        {
          "output_type": "stream",
          "name": "stdout",
          "text": [
            "Acquiring Natural Language Processor...\n",
            "DEBUG: Spacy model location (already installed) :  /usr/local/lib/python3.7/dist-packages/fr_core_news_sm/fr_core_news_sm-2.2.5\n",
            "Acquiring Natural Language Processor...\n",
            "DEBUG: Spacy model location (already installed) :  /usr/local/lib/python3.7/dist-packages/fr_core_news_sm/fr_core_news_sm-2.2.5\n",
            "Acquiring Natural Language Processor...\n",
            "DEBUG: Spacy model location (already installed) :  /usr/local/lib/python3.7/dist-packages/fr_core_news_sm/fr_core_news_sm-2.2.5\n"
          ]
        }
      ]
    },
    {
      "cell_type": "code",
      "source": [
        "print(extract_ljl)\n",
        "print(extract_bb)\n",
        "print(extract_jll)"
      ],
      "metadata": {
        "colab": {
          "base_uri": "https://localhost:8080/"
        },
        "id": "PhYb8GUBqpPt",
        "outputId": "80ffafd0-a73d-48a8-bc12-244beef5ed03"
      },
      "execution_count": 12,
      "outputs": [
        {
          "output_type": "stream",
          "name": "stdout",
          "text": [
            "Corpus ljl                      level1    level2    level3    level4     total\n",
            "Nombre de fichiers artificiel    240.0     628.0     670.0     522.0    2060.0\n",
            "Nombre de phrases total         4880.0   13049.0   10354.0    7743.0   36026.0\n",
            "Nombre de tokens               38976.0  128019.0  124901.0  101165.0  393061.0\n",
            "Nombre de fichiers original      240.0     314.0     134.0      58.0     746.0\n",
            "Corpus bb                      intermédiaire  avancée    aisée     total\n",
            "Nombre de fichiers artificiel          1729.0    1253.0     986.0    3968.0\n",
            "Nombre de phrases total               22088.0   15762.0   12274.0   50124.0\n",
            "Nombre de tokens                     315369.0  232604.0  173939.0  721912.0\n",
            "Nombre de fichiers original              52.0      91.0      65.0     208.0\n",
            "Corpus jll                     cycle4_3e  cycle4_4e  cycle4_5e  cycle3_6e  \\\n",
            "Nombre de fichiers artificiel      986.0      989.0     1187.0     1283.0   \n",
            "Nombre de phrases total          14689.0    13553.0    13818.0    13463.0   \n",
            "Nombre de tokens                188091.0   195375.0   211099.0   256573.0   \n",
            "Nombre de fichiers original         13.0       12.0       10.0        9.0   \n",
            "\n",
            "Corpus jll                        total  \n",
            "Nombre de fichiers artificiel    4445.0  \n",
            "Nombre de phrases total         55523.0  \n",
            "Nombre de tokens               851138.0  \n",
            "Nombre de fichiers original        44.0  \n"
          ]
        }
      ]
    },
    {
      "cell_type": "markdown",
      "source": [
        "##Reproducting the contents of table 3"
      ],
      "metadata": {
        "id": "rYsSYkENM_Kf"
      }
    },
    {
      "cell_type": "code",
      "source": [
        "#TODO: do readability.Readability(corpus).compile().scores() and show results in latex format"
      ],
      "metadata": {
        "id": "TJHbJyD5NBlt"
      },
      "execution_count": null,
      "outputs": []
    },
    {
      "cell_type": "code",
      "source": [
        "%%capture\n",
        "scores_ljl = readability.Readability(corpus_ljl).compile().scores()\n",
        "scores_bb = readability.Readability(corpus_bb).compile().scores()\n",
        "scores_jll = readability.Readability(corpus_jll).compile().scores()"
      ],
      "metadata": {
        "id": "TDhRR5l-z_lw"
      },
      "execution_count": 13,
      "outputs": []
    },
    {
      "cell_type": "code",
      "source": [
        "scores_ljl"
      ],
      "metadata": {
        "id": "8csUrJnP0R4-",
        "outputId": "e85b16ce-c949-41fd-b857-6f998341f026",
        "colab": {
          "base_uri": "https://localhost:8080/",
          "height": 282
        }
      },
      "execution_count": 14,
      "outputs": [
        {
          "output_type": "execute_result",
          "data": {
            "text/plain": [
              "Mean values                                 level1     level2     level3  \\\n",
              "The Gunning fog index GFI                45.132518  67.697721  91.866336   \n",
              "The Automated readability index ARI      14.238996  19.932585  25.719148   \n",
              "The Flesch reading ease FRE              90.625507  84.875840  82.799719   \n",
              "The Flesch-Kincaid grade level FKGL       4.576800   6.681592   8.323094   \n",
              "The Simple Measure of Gobbledygook SMOG  10.110286  11.521299  12.760749   \n",
              "Reading Ease Level                       92.465376  82.239781  75.110005   \n",
              "\n",
              "Mean values                                  level4  Pearson Score  \n",
              "The Gunning fog index GFI                105.669951       0.475915  \n",
              "The Automated readability index ARI       27.757700       0.472037  \n",
              "The Flesch reading ease FRE               81.032160      -0.402143  \n",
              "The Flesch-Kincaid grade level FKGL        9.019000       0.451786  \n",
              "The Simple Measure of Gobbledygook SMOG   13.210278       0.471106  \n",
              "Reading Ease Level                        71.711107      -0.408414  "
            ],
            "text/html": [
              "\n",
              "  <div id=\"df-9c3926b4-5346-4d87-8f1c-0758581c3fea\">\n",
              "    <div class=\"colab-df-container\">\n",
              "      <div>\n",
              "<style scoped>\n",
              "    .dataframe tbody tr th:only-of-type {\n",
              "        vertical-align: middle;\n",
              "    }\n",
              "\n",
              "    .dataframe tbody tr th {\n",
              "        vertical-align: top;\n",
              "    }\n",
              "\n",
              "    .dataframe thead th {\n",
              "        text-align: right;\n",
              "    }\n",
              "</style>\n",
              "<table border=\"1\" class=\"dataframe\">\n",
              "  <thead>\n",
              "    <tr style=\"text-align: right;\">\n",
              "      <th>Mean values</th>\n",
              "      <th>level1</th>\n",
              "      <th>level2</th>\n",
              "      <th>level3</th>\n",
              "      <th>level4</th>\n",
              "      <th>Pearson Score</th>\n",
              "    </tr>\n",
              "  </thead>\n",
              "  <tbody>\n",
              "    <tr>\n",
              "      <th>The Gunning fog index GFI</th>\n",
              "      <td>45.132518</td>\n",
              "      <td>67.697721</td>\n",
              "      <td>91.866336</td>\n",
              "      <td>105.669951</td>\n",
              "      <td>0.475915</td>\n",
              "    </tr>\n",
              "    <tr>\n",
              "      <th>The Automated readability index ARI</th>\n",
              "      <td>14.238996</td>\n",
              "      <td>19.932585</td>\n",
              "      <td>25.719148</td>\n",
              "      <td>27.757700</td>\n",
              "      <td>0.472037</td>\n",
              "    </tr>\n",
              "    <tr>\n",
              "      <th>The Flesch reading ease FRE</th>\n",
              "      <td>90.625507</td>\n",
              "      <td>84.875840</td>\n",
              "      <td>82.799719</td>\n",
              "      <td>81.032160</td>\n",
              "      <td>-0.402143</td>\n",
              "    </tr>\n",
              "    <tr>\n",
              "      <th>The Flesch-Kincaid grade level FKGL</th>\n",
              "      <td>4.576800</td>\n",
              "      <td>6.681592</td>\n",
              "      <td>8.323094</td>\n",
              "      <td>9.019000</td>\n",
              "      <td>0.451786</td>\n",
              "    </tr>\n",
              "    <tr>\n",
              "      <th>The Simple Measure of Gobbledygook SMOG</th>\n",
              "      <td>10.110286</td>\n",
              "      <td>11.521299</td>\n",
              "      <td>12.760749</td>\n",
              "      <td>13.210278</td>\n",
              "      <td>0.471106</td>\n",
              "    </tr>\n",
              "    <tr>\n",
              "      <th>Reading Ease Level</th>\n",
              "      <td>92.465376</td>\n",
              "      <td>82.239781</td>\n",
              "      <td>75.110005</td>\n",
              "      <td>71.711107</td>\n",
              "      <td>-0.408414</td>\n",
              "    </tr>\n",
              "  </tbody>\n",
              "</table>\n",
              "</div>\n",
              "      <button class=\"colab-df-convert\" onclick=\"convertToInteractive('df-9c3926b4-5346-4d87-8f1c-0758581c3fea')\"\n",
              "              title=\"Convert this dataframe to an interactive table.\"\n",
              "              style=\"display:none;\">\n",
              "        \n",
              "  <svg xmlns=\"http://www.w3.org/2000/svg\" height=\"24px\"viewBox=\"0 0 24 24\"\n",
              "       width=\"24px\">\n",
              "    <path d=\"M0 0h24v24H0V0z\" fill=\"none\"/>\n",
              "    <path d=\"M18.56 5.44l.94 2.06.94-2.06 2.06-.94-2.06-.94-.94-2.06-.94 2.06-2.06.94zm-11 1L8.5 8.5l.94-2.06 2.06-.94-2.06-.94L8.5 2.5l-.94 2.06-2.06.94zm10 10l.94 2.06.94-2.06 2.06-.94-2.06-.94-.94-2.06-.94 2.06-2.06.94z\"/><path d=\"M17.41 7.96l-1.37-1.37c-.4-.4-.92-.59-1.43-.59-.52 0-1.04.2-1.43.59L10.3 9.45l-7.72 7.72c-.78.78-.78 2.05 0 2.83L4 21.41c.39.39.9.59 1.41.59.51 0 1.02-.2 1.41-.59l7.78-7.78 2.81-2.81c.8-.78.8-2.07 0-2.86zM5.41 20L4 18.59l7.72-7.72 1.47 1.35L5.41 20z\"/>\n",
              "  </svg>\n",
              "      </button>\n",
              "      \n",
              "  <style>\n",
              "    .colab-df-container {\n",
              "      display:flex;\n",
              "      flex-wrap:wrap;\n",
              "      gap: 12px;\n",
              "    }\n",
              "\n",
              "    .colab-df-convert {\n",
              "      background-color: #E8F0FE;\n",
              "      border: none;\n",
              "      border-radius: 50%;\n",
              "      cursor: pointer;\n",
              "      display: none;\n",
              "      fill: #1967D2;\n",
              "      height: 32px;\n",
              "      padding: 0 0 0 0;\n",
              "      width: 32px;\n",
              "    }\n",
              "\n",
              "    .colab-df-convert:hover {\n",
              "      background-color: #E2EBFA;\n",
              "      box-shadow: 0px 1px 2px rgba(60, 64, 67, 0.3), 0px 1px 3px 1px rgba(60, 64, 67, 0.15);\n",
              "      fill: #174EA6;\n",
              "    }\n",
              "\n",
              "    [theme=dark] .colab-df-convert {\n",
              "      background-color: #3B4455;\n",
              "      fill: #D2E3FC;\n",
              "    }\n",
              "\n",
              "    [theme=dark] .colab-df-convert:hover {\n",
              "      background-color: #434B5C;\n",
              "      box-shadow: 0px 1px 3px 1px rgba(0, 0, 0, 0.15);\n",
              "      filter: drop-shadow(0px 1px 2px rgba(0, 0, 0, 0.3));\n",
              "      fill: #FFFFFF;\n",
              "    }\n",
              "  </style>\n",
              "\n",
              "      <script>\n",
              "        const buttonEl =\n",
              "          document.querySelector('#df-9c3926b4-5346-4d87-8f1c-0758581c3fea button.colab-df-convert');\n",
              "        buttonEl.style.display =\n",
              "          google.colab.kernel.accessAllowed ? 'block' : 'none';\n",
              "\n",
              "        async function convertToInteractive(key) {\n",
              "          const element = document.querySelector('#df-9c3926b4-5346-4d87-8f1c-0758581c3fea');\n",
              "          const dataTable =\n",
              "            await google.colab.kernel.invokeFunction('convertToInteractive',\n",
              "                                                     [key], {});\n",
              "          if (!dataTable) return;\n",
              "\n",
              "          const docLinkHtml = 'Like what you see? Visit the ' +\n",
              "            '<a target=\"_blank\" href=https://colab.research.google.com/notebooks/data_table.ipynb>data table notebook</a>'\n",
              "            + ' to learn more about interactive tables.';\n",
              "          element.innerHTML = '';\n",
              "          dataTable['output_type'] = 'display_data';\n",
              "          await google.colab.output.renderOutput(dataTable, element);\n",
              "          const docLink = document.createElement('div');\n",
              "          docLink.innerHTML = docLinkHtml;\n",
              "          element.appendChild(docLink);\n",
              "        }\n",
              "      </script>\n",
              "    </div>\n",
              "  </div>\n",
              "  "
            ]
          },
          "metadata": {},
          "execution_count": 14
        }
      ]
    },
    {
      "cell_type": "code",
      "source": [
        "perplexity_calculator = readability.readability.perplexity.pppl_calculator\n",
        "perplexity_calculator.load_model(None)"
      ],
      "metadata": {
        "id": "U88OxAGV2E-X",
        "outputId": "4168a911-5149-4c22-ca66-54cdd86144e8",
        "colab": {
          "base_uri": "https://localhost:8080/",
          "height": 212,
          "referenced_widgets": [
            "d5195047f28049019c72188ee08b5f98",
            "7ef2f6e3da5c468794bc2a35e0fcdcc1",
            "3a6e3b6e86154abdb204689f9f761c8f",
            "92b2e4bde3864863a65d198fda4f6847",
            "f8a6b6adb9fe4ff58c7b745a8860a203",
            "8243810d55a74cd09c27dfa0a4d985ba",
            "7972b03359e5498695569a5bce50df6e",
            "3f1e1bcf10254def82657fa002b7f211",
            "35255cd1451c461da5334b05c7db661e",
            "c77948e163494031882b09a4112cf304",
            "55cbb11d34e148169bf9ccf468692ddd",
            "7b402c50a3dd444aa52726d7649c4620",
            "e32ddf1dceef4b269709ac687aaaf24c",
            "a64186e24fe44f0bae16b11487377d41",
            "1c9aba0588664af2a8fe311c0afdb018",
            "05ba697f7bec4e1f9ee6265246f4b85c",
            "7f00b43e83374669b01ad0f9ca516767",
            "524baa4967a74f7e87f6dbe725226452",
            "5bd2b56438f041faa4c2f2beee3d015d",
            "0a75a922b5d94dc2bde1a01cbc0e2132",
            "554f5768cd0b4652b0dcabf846b1b463",
            "301be3fab5f14ff2953b57c1fc11497f",
            "a543c1aeec0e4594a02b82ecc2f4e6f4",
            "64f425b2a43946899e84895bc3d22aac",
            "f4d083809ee14112be7d1a093c4e8c88",
            "8520ed6f5f61440397e434ffc33b1bb1",
            "a29fe0d010a744f7b18b2910c7a4d694",
            "b80ad45104c64d89b563210c7a3eff00",
            "10102b81837146fca2e4e6af784e7399",
            "e68270ea147146709607b2e7a9c02f1a",
            "9953cd6a1e144333b24d127143f360af",
            "2f9bcd43ca604ad0a60cd2f421c743b8",
            "2be82a27f5ae40f4b53e70a7e1cdb983",
            "5b30ebee619d466c86fec04ab848643c",
            "b740425c18784de09c05df105180fb6a",
            "00b03c91b7d94500a538ce743e86d0dc",
            "19f3dcdb9be746299a09bd79825cb8e3",
            "199da6d2ffc24176a070b49981a328f0",
            "3de18e8f1c1442c3b8802b46a17c2336",
            "b89afba6562c4870b2c50e8ac15e2622",
            "9e5025f5725b4c2b8617d20da5997fe2",
            "05bdacc2b3a840af99d2d9f24395d052",
            "18c2f62069df4879873cb6ea7ff0eaa8",
            "d6c5b72bcb7948058ea155bed00dd0b3",
            "e79d66170c3b4ad596e023715270573b",
            "ef6d503fd1924f44a046b85472e48070",
            "e53ee72a20fe4afe92cca990b81dfa45",
            "c583e065ef8f409cafab38d1847f89e7",
            "351ba453eab0439390596593d441f331",
            "9961bd3bd4ef46809ad682dd6335da17",
            "bc2806f4315b4224ac4c2537814689b3",
            "f52b42baba9c40698dfee2de9348ba43",
            "3d1fe8421a264c1b8745f3abbe129864",
            "c6b513c2bf8c4686afe803236548aa59",
            "af167ec007c4467b98804971a5f5a1ff"
          ]
        }
      },
      "execution_count": 15,
      "outputs": [
        {
          "output_type": "display_data",
          "data": {
            "text/plain": [
              "Downloading:   0%|          | 0.00/538 [00:00<?, ?B/s]"
            ],
            "application/vnd.jupyter.widget-view+json": {
              "version_major": 2,
              "version_minor": 0,
              "model_id": "d5195047f28049019c72188ee08b5f98"
            }
          },
          "metadata": {}
        },
        {
          "output_type": "display_data",
          "data": {
            "text/plain": [
              "Downloading:   0%|          | 0.00/510M [00:00<?, ?B/s]"
            ],
            "application/vnd.jupyter.widget-view+json": {
              "version_major": 2,
              "version_minor": 0,
              "model_id": "7b402c50a3dd444aa52726d7649c4620"
            }
          },
          "metadata": {}
        },
        {
          "output_type": "display_data",
          "data": {
            "text/plain": [
              "Downloading:   0%|          | 0.00/853k [00:00<?, ?B/s]"
            ],
            "application/vnd.jupyter.widget-view+json": {
              "version_major": 2,
              "version_minor": 0,
              "model_id": "a543c1aeec0e4594a02b82ecc2f4e6f4"
            }
          },
          "metadata": {}
        },
        {
          "output_type": "display_data",
          "data": {
            "text/plain": [
              "Downloading:   0%|          | 0.00/513k [00:00<?, ?B/s]"
            ],
            "application/vnd.jupyter.widget-view+json": {
              "version_major": 2,
              "version_minor": 0,
              "model_id": "5b30ebee619d466c86fec04ab848643c"
            }
          },
          "metadata": {}
        },
        {
          "output_type": "display_data",
          "data": {
            "text/plain": [
              "Downloading:   0%|          | 0.00/121 [00:00<?, ?B/s]"
            ],
            "application/vnd.jupyter.widget-view+json": {
              "version_major": 2,
              "version_minor": 0,
              "model_id": "e79d66170c3b4ad596e023715270573b"
            }
          },
          "metadata": {}
        },
        {
          "output_type": "stream",
          "name": "stdout",
          "text": [
            "Model online, you can now use .PPPL_score()\n"
          ]
        },
        {
          "output_type": "execute_result",
          "data": {
            "text/plain": [
              "0"
            ]
          },
          "metadata": {},
          "execution_count": 15
        }
      ]
    },
    {
      "cell_type": "markdown",
      "source": [
        "This will take around an hour to calculate, even with the GPU enabled."
      ],
      "metadata": {
        "id": "1yXGEK5766ze"
      }
    },
    {
      "cell_type": "code",
      "source": [
        "perplex_ljl = perplexity_calculator.PPPL_score(corpus_ljl)\n",
        "#perplex_bb = perplexity_calculator.PPPL_score(corpus_bb)\n",
        "#perplex_jll = perplexity_calculator.PPPL_score(corpus_ljl)"
      ],
      "metadata": {
        "id": "5tzbgJHB6zS8"
      },
      "execution_count": null,
      "outputs": []
    },
    {
      "cell_type": "code",
      "source": [
        "#TODO : calc mean values and then append\n",
        "#Might have been a good idea to allow the library to calculate these mean values as well..\n",
        "#ppl_list = []\n",
        "#for level in levels:\n",
        "#  for val in perplex[level]:\n",
        "#    ppl_list.append(val)\n",
        "\n",
        "#maxppl = max(ppl_list)\n",
        "#ppl_list = [val/maxppl for val in ppl_list]\n",
        "\n",
        "#pearson.append(pearsonr(ppl_list,labels)[0])\n",
        "\n",
        "#moy_ppl= list()\n",
        "#for level in levels:\n",
        "#  moy=0\n",
        "#  for score in perplex[level]:\n",
        "#    moy+= score/len(perplex[level])\n",
        "#  moy_ppl.append(moy)\n",
        "\n",
        "#scores_ljl.append(the thing above)"
      ],
      "metadata": {
        "id": "IUff_aoE7ytr"
      },
      "execution_count": 18,
      "outputs": []
    },
    {
      "cell_type": "code",
      "source": [
        ""
      ],
      "metadata": {
        "id": "mUhwTsaB8FLM"
      },
      "execution_count": null,
      "outputs": []
    },
    {
      "cell_type": "code",
      "source": [
        ""
      ],
      "metadata": {
        "id": "WEFfvhWX6pi8"
      },
      "execution_count": null,
      "outputs": []
    },
    {
      "cell_type": "markdown",
      "source": [
        "##Reproducing the contents of table 4 for MLP and SVM"
      ],
      "metadata": {
        "id": "qbko_k2ZNKH3"
      }
    },
    {
      "cell_type": "code",
      "source": [
        "#TODO: make relevant methods from decoupage_corpus.ipynb and/or linguisticAnalysis.ipynb \n",
        "#Then use these and show results in latex format"
      ],
      "metadata": {
        "id": "7qM-v7vhNJAq"
      },
      "execution_count": null,
      "outputs": []
    },
    {
      "cell_type": "markdown",
      "source": [
        "## How to reproduce the results in table 4 for fastText and CamemBERT"
      ],
      "metadata": {
        "id": "EJ3NnlP0yybH"
      }
    },
    {
      "cell_type": "code",
      "source": [
        "#Checking if fasttext and bert works from lib, no link between readability class and these yet.\n",
        "from readability.models import models, fasttext, bert"
      ],
      "metadata": {
        "id": "rbQjwXU4ZuwM"
      },
      "execution_count": 7,
      "outputs": []
    },
    {
      "cell_type": "markdown",
      "source": [
        "The following demonstration uses the csv files available in the data/ folder, encoded in one-hot vector format.  \n",
        "It relies on the ktrain library (wrapping around Keras) to help configure and train models for deep learning use."
      ],
      "metadata": {
        "id": "ZbrwZaRfLtjf"
      }
    },
    {
      "cell_type": "markdown",
      "source": [
        "###fastText"
      ],
      "metadata": {
        "id": "dsbPH6vmLpBh"
      }
    },
    {
      "cell_type": "code",
      "source": [
        "fasttext.demo_doFastText() #Can pass \"ljl\", \"bibebook.com\", \"JeLisLibre\", or \"all\" as a parameter\n",
        "# Takes around 15 minutes without GPU for the ljl corpus (default parameter) on free colab\n",
        "# Takes around 3 minute with GPU enabled.\n",
        "\n",
        "# NOTE : the results may be a little different than what was shown in the paper.\n",
        "\n",
        "\n",
        "# Will test this after commit\n",
        "\n",
        "# FIXME : I noticed this isn't a \"true\" crossvalidation since the model is already trained in\n",
        "# consequent runs, this can be seen by the number of epochs being significantly lower, and\n",
        "# the starting accuracy being almost the same as in the last epoch of the previous run.\n",
        "\n",
        "# For future implementation in the library, this should be done :\n",
        "# We need to reset the model to its initial configuration/weights,\n",
        "# So something like this in the code should work :\n",
        "\n",
        "# BEFORE the \"for run in range(nb_runs)\":\n",
        "#\n",
        "#init_weights = []\n",
        "#for layer in learner.model.layers:\n",
        "#    init_weights.append(layer.get_weights()) # list of numpy arrays\n",
        "#\n",
        "#Then, within the loop :\n",
        "#for index in range(len(init_weights)):\n",
        "#    learner.model.layers[index].set_weight(init_weights[index])"
      ],
      "metadata": {
        "colab": {
          "base_uri": "https://localhost:8080/"
        },
        "collapsed": true,
        "id": "F1Lqu_ZOv2ON",
        "outputId": "023ee582-d261-4be8-dc57-eddb1a3b324d"
      },
      "execution_count": 52,
      "outputs": [
        {
          "output_type": "stream",
          "name": "stdout",
          "text": [
            "detected encoding: utf-8 (if wrong, set manually)\n",
            "['level1', 'level2', 'level3', 'level4']\n",
            "      level1  level2  level3  level4\n",
            "1962       0       0       0       1\n",
            "2045       0       0       0       1\n",
            "828        0       1       0       0\n",
            "1336       0       0       1       0\n",
            "939        0       0       1       0\n",
            "['level1', 'level2', 'level3', 'level4']\n",
            "      level1  level2  level3  level4\n",
            "1530       0       0       1       0\n",
            "1198       0       0       1       0\n",
            "1474       0       0       1       0\n",
            "509        0       1       0       0\n",
            "1120       0       0       1       0\n",
            "language: fr\n",
            "Word Counts: 19647\n",
            "Nrows: 1854\n",
            "1854 train sequences\n",
            "train sequence lengths:\n",
            "\tmean : 166\n",
            "\t95percentile : 372\n",
            "\t99percentile : 514\n",
            "x_train shape: (1854,150)\n",
            "y_train shape: (1854, 4)\n",
            "Is Multi-Label? False\n",
            "206 test sequences\n",
            "test sequence lengths:\n",
            "\tmean : 148\n",
            "\t95percentile : 328\n",
            "\t99percentile : 488\n",
            "x_test shape: (206,150)\n",
            "y_test shape: (206, 4)\n",
            "Is Multi-Label? False\n",
            "compiling word ID features...\n",
            "maxlen is 150\n",
            "done.\n",
            "-------------------------------------------------------run 0\n",
            "early_stopping automatically enabled at patience=5\n",
            "reduce_on_plateau automatically enabled at patience=2\n",
            "\n",
            "\n",
            "begin training using triangular learning rate policy with max lr of 0.0001...\n",
            "Epoch 1/1024\n",
            "58/58 [==============================] - 1s 10ms/step - loss: 1.8697 - accuracy: 0.2616 - val_loss: 1.3740 - val_accuracy: 0.3204\n",
            "Epoch 2/1024\n",
            "58/58 [==============================] - 0s 8ms/step - loss: 1.8568 - accuracy: 0.2670 - val_loss: 1.3751 - val_accuracy: 0.3204\n",
            "Epoch 3/1024\n",
            "57/58 [============================>.] - ETA: 0s - loss: 1.8041 - accuracy: 0.2725\n",
            "Epoch 00003: Reducing Max LR on Plateau: new max lr will be 5e-05 (if not early_stopping).\n",
            "58/58 [==============================] - 0s 7ms/step - loss: 1.8024 - accuracy: 0.2740 - val_loss: 1.3764 - val_accuracy: 0.3204\n",
            "Epoch 4/1024\n",
            "58/58 [==============================] - 0s 7ms/step - loss: 1.7941 - accuracy: 0.2708 - val_loss: 1.3772 - val_accuracy: 0.3883\n",
            "Epoch 5/1024\n",
            "57/58 [============================>.] - ETA: 0s - loss: 1.7694 - accuracy: 0.2845\n",
            "Epoch 00005: Reducing Max LR on Plateau: new max lr will be 2.5e-05 (if not early_stopping).\n",
            "58/58 [==============================] - 0s 7ms/step - loss: 1.7776 - accuracy: 0.2826 - val_loss: 1.3776 - val_accuracy: 0.3058\n",
            "Epoch 6/1024\n",
            "51/58 [=========================>....] - ETA: 0s - loss: 1.7479 - accuracy: 0.2757Restoring model weights from the end of the best epoch: 1.\n",
            "58/58 [==============================] - 0s 7ms/step - loss: 1.7524 - accuracy: 0.2745 - val_loss: 1.3775 - val_accuracy: 0.3107\n",
            "Epoch 6: early stopping\n",
            "Weights from best epoch have been loaded into model.\n",
            "run 0 CORPUSNAME ljl class_names ['level1', 'level2', 'level3', 'level4']\n",
            "              precision    recall  f1-score   support\n",
            "\n",
            "      level1       0.00      0.00      0.00        26\n",
            "      level2       0.00      0.00      0.00        60\n",
            "      level3       0.32      1.00      0.49        66\n",
            "      level4       0.00      0.00      0.00        54\n",
            "\n",
            "    accuracy                           0.32       206\n",
            "   macro avg       0.08      0.25      0.12       206\n",
            "weighted avg       0.10      0.32      0.16       206\n",
            "\n",
            "-------------------------------------------------------run 1\n",
            "early_stopping automatically enabled at patience=5\n",
            "reduce_on_plateau automatically enabled at patience=2\n",
            "\n",
            "\n",
            "begin training using triangular learning rate policy with max lr of 0.0001...\n",
            "Epoch 1/1024\n",
            "17/58 [=======>......................] - ETA: 0s - loss: 1.7663 - accuracy: 0.2996"
          ]
        },
        {
          "output_type": "stream",
          "name": "stderr",
          "text": [
            "/usr/local/lib/python3.7/dist-packages/sklearn/metrics/_classification.py:1248: UndefinedMetricWarning: Precision and F-score are ill-defined and being set to 0.0 in labels with no predicted samples. Use `zero_division` parameter to control this behavior.\n",
            "  _warn_prf(average, modifier, msg_start, len(result))\n",
            "/usr/local/lib/python3.7/dist-packages/sklearn/metrics/_classification.py:1248: UndefinedMetricWarning: Precision and F-score are ill-defined and being set to 0.0 in labels with no predicted samples. Use `zero_division` parameter to control this behavior.\n",
            "  _warn_prf(average, modifier, msg_start, len(result))\n",
            "/usr/local/lib/python3.7/dist-packages/sklearn/metrics/_classification.py:1248: UndefinedMetricWarning: Precision and F-score are ill-defined and being set to 0.0 in labels with no predicted samples. Use `zero_division` parameter to control this behavior.\n",
            "  _warn_prf(average, modifier, msg_start, len(result))\n"
          ]
        },
        {
          "output_type": "stream",
          "name": "stdout",
          "text": [
            "58/58 [==============================] - 0s 8ms/step - loss: 1.7943 - accuracy: 0.2864 - val_loss: 1.3756 - val_accuracy: 0.3204\n",
            "Epoch 2/1024\n",
            "58/58 [==============================] - 0s 7ms/step - loss: 1.8185 - accuracy: 0.2578 - val_loss: 1.3772 - val_accuracy: 0.3155\n",
            "Epoch 3/1024\n",
            "58/58 [==============================] - ETA: 0s - loss: 1.7956 - accuracy: 0.2702\n",
            "Epoch 00003: Reducing Max LR on Plateau: new max lr will be 5e-05 (if not early_stopping).\n",
            "58/58 [==============================] - 0s 7ms/step - loss: 1.7956 - accuracy: 0.2702 - val_loss: 1.3780 - val_accuracy: 0.3107\n",
            "Epoch 4/1024\n",
            "58/58 [==============================] - 0s 7ms/step - loss: 1.7908 - accuracy: 0.2594 - val_loss: 1.3778 - val_accuracy: 0.2961\n",
            "Epoch 5/1024\n",
            "57/58 [============================>.] - ETA: 0s - loss: 1.7058 - accuracy: 0.2900\n",
            "Epoch 00005: Reducing Max LR on Plateau: new max lr will be 2.5e-05 (if not early_stopping).\n",
            "58/58 [==============================] - 0s 7ms/step - loss: 1.7096 - accuracy: 0.2902 - val_loss: 1.3765 - val_accuracy: 0.3010\n",
            "Epoch 6/1024\n",
            "58/58 [==============================] - 0s 7ms/step - loss: 1.7290 - accuracy: 0.2756 - val_loss: 1.3751 - val_accuracy: 0.3010\n",
            "Epoch 7/1024\n",
            "58/58 [==============================] - 0s 8ms/step - loss: 1.7510 - accuracy: 0.2735 - val_loss: 1.3735 - val_accuracy: 0.3010\n",
            "Epoch 8/1024\n",
            "58/58 [==============================] - 0s 7ms/step - loss: 1.7330 - accuracy: 0.2826 - val_loss: 1.3726 - val_accuracy: 0.3010\n",
            "Epoch 9/1024\n",
            "58/58 [==============================] - 0s 8ms/step - loss: 1.6929 - accuracy: 0.2875 - val_loss: 1.3702 - val_accuracy: 0.3495\n",
            "Epoch 10/1024\n",
            "58/58 [==============================] - 0s 7ms/step - loss: 1.7119 - accuracy: 0.2789 - val_loss: 1.3677 - val_accuracy: 0.3398\n",
            "Epoch 11/1024\n",
            "58/58 [==============================] - 0s 7ms/step - loss: 1.6814 - accuracy: 0.2886 - val_loss: 1.3653 - val_accuracy: 0.3447\n",
            "Epoch 12/1024\n",
            "58/58 [==============================] - 0s 7ms/step - loss: 1.6628 - accuracy: 0.2859 - val_loss: 1.3628 - val_accuracy: 0.3301\n",
            "Epoch 13/1024\n",
            "58/58 [==============================] - 0s 7ms/step - loss: 1.6795 - accuracy: 0.2799 - val_loss: 1.3597 - val_accuracy: 0.3252\n",
            "Epoch 14/1024\n",
            "58/58 [==============================] - 0s 7ms/step - loss: 1.6923 - accuracy: 0.2756 - val_loss: 1.3594 - val_accuracy: 0.3350\n",
            "Epoch 15/1024\n",
            "58/58 [==============================] - 0s 8ms/step - loss: 1.6561 - accuracy: 0.2735 - val_loss: 1.3583 - val_accuracy: 0.3495\n",
            "Epoch 16/1024\n",
            "58/58 [==============================] - 0s 7ms/step - loss: 1.6763 - accuracy: 0.2934 - val_loss: 1.3580 - val_accuracy: 0.3252\n",
            "Epoch 17/1024\n",
            "58/58 [==============================] - 0s 7ms/step - loss: 1.6641 - accuracy: 0.2837 - val_loss: 1.3583 - val_accuracy: 0.3447\n",
            "Epoch 18/1024\n",
            "57/58 [============================>.] - ETA: 0s - loss: 1.6269 - accuracy: 0.2928\n",
            "Epoch 00018: Reducing Max LR on Plateau: new max lr will be 1.25e-05 (if not early_stopping).\n",
            "58/58 [==============================] - 0s 7ms/step - loss: 1.6307 - accuracy: 0.2896 - val_loss: 1.3581 - val_accuracy: 0.3301\n",
            "Epoch 19/1024\n",
            "58/58 [==============================] - 0s 7ms/step - loss: 1.6294 - accuracy: 0.3004 - val_loss: 1.3581 - val_accuracy: 0.3301\n",
            "Epoch 20/1024\n",
            "51/58 [=========================>....] - ETA: 0s - loss: 1.6455 - accuracy: 0.2990\n",
            "Epoch 00020: Reducing Max LR on Plateau: new max lr will be 6.25e-06 (if not early_stopping).\n",
            "58/58 [==============================] - 0s 7ms/step - loss: 1.6404 - accuracy: 0.2956 - val_loss: 1.3597 - val_accuracy: 0.3301\n",
            "Epoch 21/1024\n",
            "56/58 [===========================>..] - ETA: 0s - loss: 1.6293 - accuracy: 0.2952Restoring model weights from the end of the best epoch: 16.\n",
            "58/58 [==============================] - 0s 7ms/step - loss: 1.6247 - accuracy: 0.2967 - val_loss: 1.3601 - val_accuracy: 0.3544\n",
            "Epoch 21: early stopping\n",
            "Weights from best epoch have been loaded into model.\n",
            "run 1 CORPUSNAME ljl class_names ['level1', 'level2', 'level3', 'level4']\n",
            "              precision    recall  f1-score   support\n",
            "\n",
            "      level1       0.00      0.00      0.00        26\n",
            "      level2       0.32      0.58      0.41        60\n",
            "      level3       0.33      0.44      0.38        66\n",
            "      level4       0.38      0.06      0.10        54\n",
            "\n",
            "    accuracy                           0.33       206\n",
            "   macro avg       0.26      0.27      0.22       206\n",
            "weighted avg       0.30      0.33      0.27       206\n",
            "\n",
            "-------------------------------------------------------run 2\n",
            "early_stopping automatically enabled at patience=5\n",
            "reduce_on_plateau automatically enabled at patience=2\n",
            "\n",
            "\n",
            "begin training using triangular learning rate policy with max lr of 0.0001...\n",
            "Epoch 1/1024\n",
            "58/58 [==============================] - 0s 8ms/step - loss: 1.6525 - accuracy: 0.2918 - val_loss: 1.3575 - val_accuracy: 0.3301\n",
            "Epoch 2/1024\n",
            "58/58 [==============================] - 0s 8ms/step - loss: 1.6406 - accuracy: 0.2945 - val_loss: 1.3551 - val_accuracy: 0.3301\n",
            "Epoch 3/1024\n",
            "58/58 [==============================] - 0s 7ms/step - loss: 1.6022 - accuracy: 0.2896 - val_loss: 1.3555 - val_accuracy: 0.3350\n",
            "Epoch 4/1024\n",
            "58/58 [==============================] - 0s 8ms/step - loss: 1.5820 - accuracy: 0.3145 - val_loss: 1.3532 - val_accuracy: 0.3350\n",
            "Epoch 5/1024\n",
            "58/58 [==============================] - 0s 7ms/step - loss: 1.5861 - accuracy: 0.2794 - val_loss: 1.3511 - val_accuracy: 0.3350\n",
            "Epoch 6/1024\n",
            "58/58 [==============================] - 0s 8ms/step - loss: 1.5651 - accuracy: 0.3091 - val_loss: 1.3500 - val_accuracy: 0.3447\n",
            "Epoch 7/1024\n",
            "58/58 [==============================] - 0s 8ms/step - loss: 1.5706 - accuracy: 0.3166 - val_loss: 1.3486 - val_accuracy: 0.3495\n",
            "Epoch 8/1024\n",
            "58/58 [==============================] - 0s 8ms/step - loss: 1.5279 - accuracy: 0.3242 - val_loss: 1.3451 - val_accuracy: 0.3592\n",
            "Epoch 9/1024\n",
            "58/58 [==============================] - 0s 8ms/step - loss: 1.5145 - accuracy: 0.3155 - val_loss: 1.3430 - val_accuracy: 0.3592\n",
            "Epoch 10/1024\n",
            "58/58 [==============================] - 0s 7ms/step - loss: 1.5046 - accuracy: 0.3123 - val_loss: 1.3402 - val_accuracy: 0.3544\n",
            "Epoch 11/1024\n",
            "58/58 [==============================] - 0s 8ms/step - loss: 1.5228 - accuracy: 0.3064 - val_loss: 1.3376 - val_accuracy: 0.3398\n",
            "Epoch 12/1024\n",
            "58/58 [==============================] - 0s 8ms/step - loss: 1.4937 - accuracy: 0.3317 - val_loss: 1.3352 - val_accuracy: 0.3398\n",
            "Epoch 13/1024\n",
            "58/58 [==============================] - 0s 8ms/step - loss: 1.4857 - accuracy: 0.3236 - val_loss: 1.3337 - val_accuracy: 0.3495\n",
            "Epoch 14/1024\n",
            "58/58 [==============================] - 0s 8ms/step - loss: 1.5210 - accuracy: 0.3258 - val_loss: 1.3327 - val_accuracy: 0.3447\n",
            "Epoch 15/1024\n",
            "58/58 [==============================] - 0s 8ms/step - loss: 1.4447 - accuracy: 0.3484 - val_loss: 1.3312 - val_accuracy: 0.3495\n",
            "Epoch 16/1024\n",
            "58/58 [==============================] - 0s 7ms/step - loss: 1.4897 - accuracy: 0.3328 - val_loss: 1.3290 - val_accuracy: 0.3544\n",
            "Epoch 17/1024\n",
            "58/58 [==============================] - 0s 8ms/step - loss: 1.4433 - accuracy: 0.3366 - val_loss: 1.3262 - val_accuracy: 0.3641\n",
            "Epoch 18/1024\n",
            "58/58 [==============================] - 0s 8ms/step - loss: 1.4225 - accuracy: 0.3474 - val_loss: 1.3264 - val_accuracy: 0.3592\n",
            "Epoch 19/1024\n",
            "58/58 [==============================] - 0s 8ms/step - loss: 1.4181 - accuracy: 0.3463 - val_loss: 1.3251 - val_accuracy: 0.3641\n",
            "Epoch 20/1024\n",
            "58/58 [==============================] - 0s 8ms/step - loss: 1.4049 - accuracy: 0.3517 - val_loss: 1.3244 - val_accuracy: 0.3592\n",
            "Epoch 21/1024\n",
            "58/58 [==============================] - 0s 7ms/step - loss: 1.4022 - accuracy: 0.3560 - val_loss: 1.3218 - val_accuracy: 0.3641\n",
            "Epoch 22/1024\n",
            "58/58 [==============================] - 0s 7ms/step - loss: 1.3846 - accuracy: 0.3576 - val_loss: 1.3183 - val_accuracy: 0.3786\n",
            "Epoch 23/1024\n",
            "58/58 [==============================] - 0s 7ms/step - loss: 1.4351 - accuracy: 0.3366 - val_loss: 1.3173 - val_accuracy: 0.3738\n",
            "Epoch 24/1024\n",
            "58/58 [==============================] - 0s 8ms/step - loss: 1.4063 - accuracy: 0.3587 - val_loss: 1.3161 - val_accuracy: 0.3689\n",
            "Epoch 25/1024\n",
            "58/58 [==============================] - 0s 7ms/step - loss: 1.3866 - accuracy: 0.3495 - val_loss: 1.3136 - val_accuracy: 0.3786\n",
            "Epoch 26/1024\n",
            "58/58 [==============================] - 0s 8ms/step - loss: 1.3605 - accuracy: 0.3830 - val_loss: 1.3115 - val_accuracy: 0.3883\n",
            "Epoch 27/1024\n",
            "58/58 [==============================] - 0s 8ms/step - loss: 1.3356 - accuracy: 0.3927 - val_loss: 1.3095 - val_accuracy: 0.3835\n",
            "Epoch 28/1024\n",
            "58/58 [==============================] - 0s 8ms/step - loss: 1.3484 - accuracy: 0.3846 - val_loss: 1.3084 - val_accuracy: 0.3835\n",
            "Epoch 29/1024\n",
            "58/58 [==============================] - 0s 8ms/step - loss: 1.3373 - accuracy: 0.3803 - val_loss: 1.3057 - val_accuracy: 0.3883\n",
            "Epoch 30/1024\n",
            "58/58 [==============================] - 0s 7ms/step - loss: 1.3127 - accuracy: 0.3981 - val_loss: 1.3034 - val_accuracy: 0.3932\n",
            "Epoch 31/1024\n",
            "58/58 [==============================] - 0s 8ms/step - loss: 1.3240 - accuracy: 0.3927 - val_loss: 1.3027 - val_accuracy: 0.3981\n",
            "Epoch 32/1024\n",
            "58/58 [==============================] - 0s 8ms/step - loss: 1.3271 - accuracy: 0.3986 - val_loss: 1.2998 - val_accuracy: 0.4029\n",
            "Epoch 33/1024\n",
            "58/58 [==============================] - 0s 7ms/step - loss: 1.3028 - accuracy: 0.3986 - val_loss: 1.3002 - val_accuracy: 0.3981\n",
            "Epoch 34/1024\n",
            "58/58 [==============================] - 0s 8ms/step - loss: 1.2942 - accuracy: 0.4078 - val_loss: 1.2970 - val_accuracy: 0.3981\n",
            "Epoch 35/1024\n",
            "58/58 [==============================] - 0s 8ms/step - loss: 1.2939 - accuracy: 0.3986 - val_loss: 1.2944 - val_accuracy: 0.4126\n",
            "Epoch 36/1024\n",
            "58/58 [==============================] - 0s 8ms/step - loss: 1.2706 - accuracy: 0.4266 - val_loss: 1.2928 - val_accuracy: 0.4078\n",
            "Epoch 37/1024\n",
            "58/58 [==============================] - 0s 7ms/step - loss: 1.2820 - accuracy: 0.4008 - val_loss: 1.2904 - val_accuracy: 0.4078\n",
            "Epoch 38/1024\n",
            "58/58 [==============================] - 0s 8ms/step - loss: 1.2875 - accuracy: 0.4180 - val_loss: 1.2875 - val_accuracy: 0.4272\n",
            "Epoch 39/1024\n",
            "58/58 [==============================] - 0s 8ms/step - loss: 1.2491 - accuracy: 0.4337 - val_loss: 1.2855 - val_accuracy: 0.4175\n",
            "Epoch 40/1024\n",
            "58/58 [==============================] - 0s 7ms/step - loss: 1.2581 - accuracy: 0.4180 - val_loss: 1.2819 - val_accuracy: 0.4320\n",
            "Epoch 41/1024\n",
            "58/58 [==============================] - 0s 8ms/step - loss: 1.2380 - accuracy: 0.4509 - val_loss: 1.2782 - val_accuracy: 0.4272\n",
            "Epoch 42/1024\n",
            "58/58 [==============================] - 0s 8ms/step - loss: 1.2571 - accuracy: 0.4261 - val_loss: 1.2750 - val_accuracy: 0.4369\n",
            "Epoch 43/1024\n",
            "58/58 [==============================] - 0s 8ms/step - loss: 1.2262 - accuracy: 0.4477 - val_loss: 1.2697 - val_accuracy: 0.4612\n",
            "Epoch 44/1024\n",
            "58/58 [==============================] - 0s 8ms/step - loss: 1.2307 - accuracy: 0.4558 - val_loss: 1.2679 - val_accuracy: 0.4660\n",
            "Epoch 45/1024\n",
            "58/58 [==============================] - 0s 8ms/step - loss: 1.2055 - accuracy: 0.4606 - val_loss: 1.2656 - val_accuracy: 0.4612\n",
            "Epoch 46/1024\n",
            "58/58 [==============================] - 0s 8ms/step - loss: 1.1969 - accuracy: 0.4520 - val_loss: 1.2625 - val_accuracy: 0.4612\n",
            "Epoch 47/1024\n",
            "58/58 [==============================] - 0s 7ms/step - loss: 1.1932 - accuracy: 0.4542 - val_loss: 1.2595 - val_accuracy: 0.4660\n",
            "Epoch 48/1024\n",
            "58/58 [==============================] - 0s 7ms/step - loss: 1.2250 - accuracy: 0.4412 - val_loss: 1.2563 - val_accuracy: 0.4709\n",
            "Epoch 49/1024\n",
            "58/58 [==============================] - 0s 7ms/step - loss: 1.2053 - accuracy: 0.4585 - val_loss: 1.2532 - val_accuracy: 0.4854\n",
            "Epoch 50/1024\n",
            "58/58 [==============================] - 0s 8ms/step - loss: 1.1580 - accuracy: 0.4887 - val_loss: 1.2499 - val_accuracy: 0.4854\n",
            "Epoch 51/1024\n",
            "58/58 [==============================] - 0s 7ms/step - loss: 1.1617 - accuracy: 0.4903 - val_loss: 1.2480 - val_accuracy: 0.4854\n",
            "Epoch 52/1024\n",
            "58/58 [==============================] - 0s 8ms/step - loss: 1.1806 - accuracy: 0.4827 - val_loss: 1.2436 - val_accuracy: 0.5049\n",
            "Epoch 53/1024\n",
            "58/58 [==============================] - 0s 8ms/step - loss: 1.1474 - accuracy: 0.5027 - val_loss: 1.2394 - val_accuracy: 0.5097\n",
            "Epoch 54/1024\n",
            "58/58 [==============================] - 0s 8ms/step - loss: 1.1417 - accuracy: 0.4838 - val_loss: 1.2373 - val_accuracy: 0.5146\n",
            "Epoch 55/1024\n",
            "58/58 [==============================] - 0s 8ms/step - loss: 1.1110 - accuracy: 0.5200 - val_loss: 1.2328 - val_accuracy: 0.5097\n",
            "Epoch 56/1024\n",
            "58/58 [==============================] - 0s 7ms/step - loss: 1.1352 - accuracy: 0.5032 - val_loss: 1.2287 - val_accuracy: 0.5146\n",
            "Epoch 57/1024\n",
            "58/58 [==============================] - 0s 8ms/step - loss: 1.1235 - accuracy: 0.5135 - val_loss: 1.2249 - val_accuracy: 0.5243\n",
            "Epoch 58/1024\n",
            "58/58 [==============================] - 0s 8ms/step - loss: 1.1295 - accuracy: 0.4822 - val_loss: 1.2212 - val_accuracy: 0.5291\n",
            "Epoch 59/1024\n",
            "58/58 [==============================] - 0s 8ms/step - loss: 1.0889 - accuracy: 0.5324 - val_loss: 1.2162 - val_accuracy: 0.5291\n",
            "Epoch 60/1024\n",
            "58/58 [==============================] - 0s 7ms/step - loss: 1.1013 - accuracy: 0.5248 - val_loss: 1.2144 - val_accuracy: 0.5340\n",
            "Epoch 61/1024\n",
            "58/58 [==============================] - 0s 8ms/step - loss: 1.0853 - accuracy: 0.5221 - val_loss: 1.2100 - val_accuracy: 0.5291\n",
            "Epoch 62/1024\n",
            "58/58 [==============================] - 0s 8ms/step - loss: 1.0736 - accuracy: 0.5507 - val_loss: 1.2059 - val_accuracy: 0.5340\n",
            "Epoch 63/1024\n",
            "58/58 [==============================] - 0s 8ms/step - loss: 1.0694 - accuracy: 0.5264 - val_loss: 1.2027 - val_accuracy: 0.5437\n",
            "Epoch 64/1024\n",
            "58/58 [==============================] - 0s 7ms/step - loss: 1.0130 - accuracy: 0.5599 - val_loss: 1.1977 - val_accuracy: 0.5388\n",
            "Epoch 65/1024\n",
            "58/58 [==============================] - 0s 7ms/step - loss: 1.0373 - accuracy: 0.5669 - val_loss: 1.1935 - val_accuracy: 0.5485\n",
            "Epoch 66/1024\n",
            "58/58 [==============================] - 0s 8ms/step - loss: 1.0294 - accuracy: 0.5609 - val_loss: 1.1905 - val_accuracy: 0.5437\n",
            "Epoch 67/1024\n",
            "58/58 [==============================] - 0s 8ms/step - loss: 1.0272 - accuracy: 0.5642 - val_loss: 1.1854 - val_accuracy: 0.5485\n",
            "Epoch 68/1024\n",
            "58/58 [==============================] - 0s 8ms/step - loss: 1.0045 - accuracy: 0.5739 - val_loss: 1.1808 - val_accuracy: 0.5583\n",
            "Epoch 69/1024\n",
            "58/58 [==============================] - 0s 7ms/step - loss: 1.0028 - accuracy: 0.5820 - val_loss: 1.1739 - val_accuracy: 0.5631\n",
            "Epoch 70/1024\n",
            "58/58 [==============================] - 0s 8ms/step - loss: 1.0063 - accuracy: 0.5831 - val_loss: 1.1697 - val_accuracy: 0.5728\n",
            "Epoch 71/1024\n",
            "58/58 [==============================] - 0s 8ms/step - loss: 0.9806 - accuracy: 0.5863 - val_loss: 1.1646 - val_accuracy: 0.5777\n",
            "Epoch 72/1024\n",
            "58/58 [==============================] - 0s 8ms/step - loss: 0.9726 - accuracy: 0.5868 - val_loss: 1.1615 - val_accuracy: 0.5728\n",
            "Epoch 73/1024\n",
            "58/58 [==============================] - 0s 7ms/step - loss: 0.9653 - accuracy: 0.6095 - val_loss: 1.1569 - val_accuracy: 0.5825\n",
            "Epoch 74/1024\n",
            "58/58 [==============================] - 0s 8ms/step - loss: 0.9752 - accuracy: 0.6057 - val_loss: 1.1528 - val_accuracy: 0.5874\n",
            "Epoch 75/1024\n",
            "58/58 [==============================] - 0s 8ms/step - loss: 0.9508 - accuracy: 0.5976 - val_loss: 1.1502 - val_accuracy: 0.5922\n",
            "Epoch 76/1024\n",
            "58/58 [==============================] - 0s 8ms/step - loss: 0.9249 - accuracy: 0.6386 - val_loss: 1.1447 - val_accuracy: 0.5922\n",
            "Epoch 77/1024\n",
            "58/58 [==============================] - 0s 7ms/step - loss: 0.9442 - accuracy: 0.6197 - val_loss: 1.1372 - val_accuracy: 0.5971\n",
            "Epoch 78/1024\n",
            "58/58 [==============================] - 0s 7ms/step - loss: 0.9295 - accuracy: 0.6219 - val_loss: 1.1310 - val_accuracy: 0.6019\n",
            "Epoch 79/1024\n",
            "58/58 [==============================] - 0s 8ms/step - loss: 0.9198 - accuracy: 0.6084 - val_loss: 1.1281 - val_accuracy: 0.6068\n",
            "Epoch 80/1024\n",
            "58/58 [==============================] - 0s 8ms/step - loss: 0.9066 - accuracy: 0.6224 - val_loss: 1.1243 - val_accuracy: 0.6165\n",
            "Epoch 81/1024\n",
            "58/58 [==============================] - 0s 8ms/step - loss: 0.9042 - accuracy: 0.6435 - val_loss: 1.1193 - val_accuracy: 0.6117\n",
            "Epoch 82/1024\n",
            "58/58 [==============================] - 0s 8ms/step - loss: 0.8804 - accuracy: 0.6462 - val_loss: 1.1147 - val_accuracy: 0.6068\n",
            "Epoch 83/1024\n",
            "58/58 [==============================] - 0s 8ms/step - loss: 0.8768 - accuracy: 0.6354 - val_loss: 1.1119 - val_accuracy: 0.6165\n",
            "Epoch 84/1024\n",
            "58/58 [==============================] - 0s 7ms/step - loss: 0.8405 - accuracy: 0.6580 - val_loss: 1.1058 - val_accuracy: 0.6117\n",
            "Epoch 85/1024\n",
            "58/58 [==============================] - 0s 8ms/step - loss: 0.8351 - accuracy: 0.6726 - val_loss: 1.0986 - val_accuracy: 0.6214\n",
            "Epoch 86/1024\n",
            "58/58 [==============================] - 0s 8ms/step - loss: 0.8404 - accuracy: 0.6645 - val_loss: 1.0957 - val_accuracy: 0.6214\n",
            "Epoch 87/1024\n",
            "58/58 [==============================] - 0s 8ms/step - loss: 0.8353 - accuracy: 0.6618 - val_loss: 1.0904 - val_accuracy: 0.6214\n",
            "Epoch 88/1024\n",
            "58/58 [==============================] - 0s 8ms/step - loss: 0.8232 - accuracy: 0.6704 - val_loss: 1.0848 - val_accuracy: 0.6214\n",
            "Epoch 89/1024\n",
            "58/58 [==============================] - 0s 8ms/step - loss: 0.8103 - accuracy: 0.6737 - val_loss: 1.0819 - val_accuracy: 0.6311\n",
            "Epoch 90/1024\n",
            "58/58 [==============================] - 0s 8ms/step - loss: 0.8254 - accuracy: 0.6683 - val_loss: 1.0746 - val_accuracy: 0.6359\n",
            "Epoch 91/1024\n",
            "58/58 [==============================] - 0s 7ms/step - loss: 0.7994 - accuracy: 0.6855 - val_loss: 1.0698 - val_accuracy: 0.6359\n",
            "Epoch 92/1024\n",
            "58/58 [==============================] - 0s 8ms/step - loss: 0.8128 - accuracy: 0.6785 - val_loss: 1.0660 - val_accuracy: 0.6359\n",
            "Epoch 93/1024\n",
            "58/58 [==============================] - 0s 8ms/step - loss: 0.7970 - accuracy: 0.6915 - val_loss: 1.0607 - val_accuracy: 0.6408\n",
            "Epoch 94/1024\n",
            "58/58 [==============================] - 0s 8ms/step - loss: 0.7637 - accuracy: 0.7001 - val_loss: 1.0541 - val_accuracy: 0.6505\n",
            "Epoch 95/1024\n",
            "58/58 [==============================] - 0s 8ms/step - loss: 0.7627 - accuracy: 0.7066 - val_loss: 1.0504 - val_accuracy: 0.6505\n",
            "Epoch 96/1024\n",
            "58/58 [==============================] - 0s 8ms/step - loss: 0.7722 - accuracy: 0.7023 - val_loss: 1.0447 - val_accuracy: 0.6602\n",
            "Epoch 97/1024\n",
            "58/58 [==============================] - 0s 8ms/step - loss: 0.7433 - accuracy: 0.7201 - val_loss: 1.0394 - val_accuracy: 0.6650\n",
            "Epoch 98/1024\n",
            "58/58 [==============================] - 0s 8ms/step - loss: 0.7330 - accuracy: 0.7228 - val_loss: 1.0342 - val_accuracy: 0.6602\n",
            "Epoch 99/1024\n",
            "58/58 [==============================] - 0s 8ms/step - loss: 0.7151 - accuracy: 0.7346 - val_loss: 1.0329 - val_accuracy: 0.6553\n",
            "Epoch 100/1024\n",
            "58/58 [==============================] - 0s 8ms/step - loss: 0.7033 - accuracy: 0.7368 - val_loss: 1.0272 - val_accuracy: 0.6553\n",
            "Epoch 101/1024\n",
            "58/58 [==============================] - 0s 8ms/step - loss: 0.6849 - accuracy: 0.7335 - val_loss: 1.0233 - val_accuracy: 0.6602\n",
            "Epoch 102/1024\n",
            "58/58 [==============================] - 0s 8ms/step - loss: 0.6767 - accuracy: 0.7400 - val_loss: 1.0200 - val_accuracy: 0.6602\n",
            "Epoch 103/1024\n",
            "58/58 [==============================] - 0s 8ms/step - loss: 0.6982 - accuracy: 0.7330 - val_loss: 1.0169 - val_accuracy: 0.6650\n",
            "Epoch 104/1024\n",
            "58/58 [==============================] - 0s 8ms/step - loss: 0.6522 - accuracy: 0.7470 - val_loss: 1.0095 - val_accuracy: 0.6602\n",
            "Epoch 105/1024\n",
            "58/58 [==============================] - 0s 8ms/step - loss: 0.6732 - accuracy: 0.7481 - val_loss: 1.0043 - val_accuracy: 0.6602\n",
            "Epoch 106/1024\n",
            "58/58 [==============================] - 0s 7ms/step - loss: 0.6597 - accuracy: 0.7497 - val_loss: 1.0014 - val_accuracy: 0.6602\n",
            "Epoch 107/1024\n",
            "58/58 [==============================] - 0s 8ms/step - loss: 0.6798 - accuracy: 0.7335 - val_loss: 1.0019 - val_accuracy: 0.6505\n",
            "Epoch 108/1024\n",
            "58/58 [==============================] - 0s 8ms/step - loss: 0.6428 - accuracy: 0.7562 - val_loss: 0.9945 - val_accuracy: 0.6602\n",
            "Epoch 109/1024\n",
            "58/58 [==============================] - 0s 8ms/step - loss: 0.6374 - accuracy: 0.7513 - val_loss: 0.9900 - val_accuracy: 0.6602\n",
            "Epoch 110/1024\n",
            "58/58 [==============================] - 0s 7ms/step - loss: 0.6439 - accuracy: 0.7540 - val_loss: 0.9870 - val_accuracy: 0.6650\n",
            "Epoch 111/1024\n",
            "58/58 [==============================] - 0s 8ms/step - loss: 0.6052 - accuracy: 0.7708 - val_loss: 0.9831 - val_accuracy: 0.6602\n",
            "Epoch 112/1024\n",
            "58/58 [==============================] - 0s 8ms/step - loss: 0.6134 - accuracy: 0.7638 - val_loss: 0.9803 - val_accuracy: 0.6602\n",
            "Epoch 113/1024\n",
            "58/58 [==============================] - 0s 8ms/step - loss: 0.6051 - accuracy: 0.7745 - val_loss: 0.9752 - val_accuracy: 0.6505\n",
            "Epoch 114/1024\n",
            "58/58 [==============================] - 0s 8ms/step - loss: 0.5971 - accuracy: 0.7659 - val_loss: 0.9714 - val_accuracy: 0.6505\n",
            "Epoch 115/1024\n",
            "58/58 [==============================] - 0s 8ms/step - loss: 0.5776 - accuracy: 0.7778 - val_loss: 0.9689 - val_accuracy: 0.6602\n",
            "Epoch 116/1024\n",
            "58/58 [==============================] - 0s 8ms/step - loss: 0.5588 - accuracy: 0.7950 - val_loss: 0.9660 - val_accuracy: 0.6699\n",
            "Epoch 117/1024\n",
            "58/58 [==============================] - 0s 8ms/step - loss: 0.5556 - accuracy: 0.7972 - val_loss: 0.9628 - val_accuracy: 0.6650\n",
            "Epoch 118/1024\n",
            "58/58 [==============================] - 0s 8ms/step - loss: 0.5585 - accuracy: 0.7843 - val_loss: 0.9601 - val_accuracy: 0.6553\n",
            "Epoch 119/1024\n",
            "58/58 [==============================] - 0s 8ms/step - loss: 0.5596 - accuracy: 0.7918 - val_loss: 0.9560 - val_accuracy: 0.6553\n",
            "Epoch 120/1024\n",
            "58/58 [==============================] - 0s 8ms/step - loss: 0.5177 - accuracy: 0.8166 - val_loss: 0.9539 - val_accuracy: 0.6553\n",
            "Epoch 121/1024\n",
            "58/58 [==============================] - 0s 8ms/step - loss: 0.5076 - accuracy: 0.8166 - val_loss: 0.9507 - val_accuracy: 0.6505\n",
            "Epoch 122/1024\n",
            "58/58 [==============================] - 0s 8ms/step - loss: 0.5223 - accuracy: 0.8128 - val_loss: 0.9430 - val_accuracy: 0.6553\n",
            "Epoch 123/1024\n",
            "58/58 [==============================] - 0s 8ms/step - loss: 0.5234 - accuracy: 0.8085 - val_loss: 0.9378 - val_accuracy: 0.6553\n",
            "Epoch 124/1024\n",
            "58/58 [==============================] - 0s 8ms/step - loss: 0.5262 - accuracy: 0.8020 - val_loss: 0.9341 - val_accuracy: 0.6456\n",
            "Epoch 125/1024\n",
            "58/58 [==============================] - 0s 7ms/step - loss: 0.5170 - accuracy: 0.8085 - val_loss: 0.9344 - val_accuracy: 0.6505\n",
            "Epoch 126/1024\n",
            "58/58 [==============================] - 0s 8ms/step - loss: 0.5032 - accuracy: 0.8198 - val_loss: 0.9293 - val_accuracy: 0.6553\n",
            "Epoch 127/1024\n",
            "58/58 [==============================] - 1s 9ms/step - loss: 0.4967 - accuracy: 0.8037 - val_loss: 0.9261 - val_accuracy: 0.6505\n",
            "Epoch 128/1024\n",
            "58/58 [==============================] - 0s 8ms/step - loss: 0.4893 - accuracy: 0.8231 - val_loss: 0.9258 - val_accuracy: 0.6505\n",
            "Epoch 129/1024\n",
            "58/58 [==============================] - 0s 8ms/step - loss: 0.4786 - accuracy: 0.8220 - val_loss: 0.9241 - val_accuracy: 0.6505\n",
            "Epoch 130/1024\n",
            "58/58 [==============================] - 0s 8ms/step - loss: 0.4613 - accuracy: 0.8436 - val_loss: 0.9212 - val_accuracy: 0.6456\n",
            "Epoch 131/1024\n",
            "58/58 [==============================] - 0s 7ms/step - loss: 0.4719 - accuracy: 0.8285 - val_loss: 0.9192 - val_accuracy: 0.6408\n",
            "Epoch 132/1024\n",
            "58/58 [==============================] - 1s 9ms/step - loss: 0.4572 - accuracy: 0.8403 - val_loss: 0.9175 - val_accuracy: 0.6505\n",
            "Epoch 133/1024\n",
            "58/58 [==============================] - 0s 8ms/step - loss: 0.4304 - accuracy: 0.8430 - val_loss: 0.9165 - val_accuracy: 0.6456\n",
            "Epoch 134/1024\n",
            "58/58 [==============================] - 0s 8ms/step - loss: 0.4497 - accuracy: 0.8366 - val_loss: 0.9143 - val_accuracy: 0.6456\n",
            "Epoch 135/1024\n",
            "58/58 [==============================] - 0s 8ms/step - loss: 0.4507 - accuracy: 0.8398 - val_loss: 0.9119 - val_accuracy: 0.6456\n",
            "Epoch 136/1024\n",
            "58/58 [==============================] - 0s 8ms/step - loss: 0.4403 - accuracy: 0.8382 - val_loss: 0.9061 - val_accuracy: 0.6505\n",
            "Epoch 137/1024\n",
            "58/58 [==============================] - 0s 8ms/step - loss: 0.4454 - accuracy: 0.8447 - val_loss: 0.9006 - val_accuracy: 0.6456\n",
            "Epoch 138/1024\n",
            "58/58 [==============================] - 0s 8ms/step - loss: 0.4196 - accuracy: 0.8581 - val_loss: 0.8977 - val_accuracy: 0.6408\n",
            "Epoch 139/1024\n",
            "58/58 [==============================] - 0s 8ms/step - loss: 0.4036 - accuracy: 0.8538 - val_loss: 0.8948 - val_accuracy: 0.6408\n",
            "Epoch 140/1024\n",
            "58/58 [==============================] - 0s 8ms/step - loss: 0.4183 - accuracy: 0.8522 - val_loss: 0.8971 - val_accuracy: 0.6408\n",
            "Epoch 141/1024\n",
            "58/58 [==============================] - ETA: 0s - loss: 0.4061 - accuracy: 0.8560\n",
            "Epoch 00141: Reducing Max LR on Plateau: new max lr will be 5e-05 (if not early_stopping).\n",
            "58/58 [==============================] - 0s 8ms/step - loss: 0.4061 - accuracy: 0.8560 - val_loss: 0.8952 - val_accuracy: 0.6456\n",
            "Epoch 142/1024\n",
            "58/58 [==============================] - 0s 8ms/step - loss: 0.3916 - accuracy: 0.8603 - val_loss: 0.8931 - val_accuracy: 0.6311\n",
            "Epoch 143/1024\n",
            "58/58 [==============================] - 0s 8ms/step - loss: 0.3844 - accuracy: 0.8679 - val_loss: 0.8923 - val_accuracy: 0.6311\n",
            "Epoch 144/1024\n",
            "58/58 [==============================] - 0s 8ms/step - loss: 0.3881 - accuracy: 0.8554 - val_loss: 0.8900 - val_accuracy: 0.6359\n",
            "Epoch 145/1024\n",
            "58/58 [==============================] - 0s 8ms/step - loss: 0.4069 - accuracy: 0.8592 - val_loss: 0.8889 - val_accuracy: 0.6311\n",
            "Epoch 146/1024\n",
            "58/58 [==============================] - 0s 8ms/step - loss: 0.3757 - accuracy: 0.8716 - val_loss: 0.8892 - val_accuracy: 0.6311\n",
            "Epoch 147/1024\n",
            "58/58 [==============================] - 0s 8ms/step - loss: 0.4073 - accuracy: 0.8554 - val_loss: 0.8860 - val_accuracy: 0.6311\n",
            "Epoch 148/1024\n",
            "58/58 [==============================] - 0s 8ms/step - loss: 0.4071 - accuracy: 0.8490 - val_loss: 0.8829 - val_accuracy: 0.6359\n",
            "Epoch 149/1024\n",
            "58/58 [==============================] - 0s 8ms/step - loss: 0.3885 - accuracy: 0.8603 - val_loss: 0.8828 - val_accuracy: 0.6311\n",
            "Epoch 150/1024\n",
            "58/58 [==============================] - 0s 8ms/step - loss: 0.3772 - accuracy: 0.8695 - val_loss: 0.8827 - val_accuracy: 0.6311\n",
            "Epoch 151/1024\n",
            "58/58 [==============================] - 0s 8ms/step - loss: 0.3697 - accuracy: 0.8641 - val_loss: 0.8822 - val_accuracy: 0.6311\n",
            "Epoch 152/1024\n",
            "58/58 [==============================] - 0s 8ms/step - loss: 0.3642 - accuracy: 0.8754 - val_loss: 0.8819 - val_accuracy: 0.6359\n",
            "Epoch 153/1024\n",
            "58/58 [==============================] - 0s 8ms/step - loss: 0.3666 - accuracy: 0.8786 - val_loss: 0.8801 - val_accuracy: 0.6311\n",
            "Epoch 154/1024\n",
            "58/58 [==============================] - 0s 8ms/step - loss: 0.3471 - accuracy: 0.8830 - val_loss: 0.8798 - val_accuracy: 0.6311\n",
            "Epoch 155/1024\n",
            "58/58 [==============================] - 0s 7ms/step - loss: 0.3594 - accuracy: 0.8727 - val_loss: 0.8797 - val_accuracy: 0.6262\n",
            "Epoch 156/1024\n",
            "58/58 [==============================] - 0s 8ms/step - loss: 0.3675 - accuracy: 0.8711 - val_loss: 0.8772 - val_accuracy: 0.6311\n",
            "Epoch 157/1024\n",
            "58/58 [==============================] - 0s 8ms/step - loss: 0.3637 - accuracy: 0.8743 - val_loss: 0.8752 - val_accuracy: 0.6311\n",
            "Epoch 158/1024\n",
            "58/58 [==============================] - 0s 8ms/step - loss: 0.3553 - accuracy: 0.8792 - val_loss: 0.8745 - val_accuracy: 0.6359\n",
            "Epoch 159/1024\n",
            "58/58 [==============================] - 0s 8ms/step - loss: 0.3707 - accuracy: 0.8673 - val_loss: 0.8716 - val_accuracy: 0.6359\n",
            "Epoch 160/1024\n",
            "58/58 [==============================] - 0s 8ms/step - loss: 0.3364 - accuracy: 0.8873 - val_loss: 0.8726 - val_accuracy: 0.6311\n",
            "Epoch 161/1024\n",
            "56/58 [===========================>..] - ETA: 0s - loss: 0.3460 - accuracy: 0.8811\n",
            "Epoch 00161: Reducing Max LR on Plateau: new max lr will be 2.5e-05 (if not early_stopping).\n",
            "58/58 [==============================] - 0s 8ms/step - loss: 0.3460 - accuracy: 0.8797 - val_loss: 0.8718 - val_accuracy: 0.6311\n",
            "Epoch 162/1024\n",
            "58/58 [==============================] - 0s 8ms/step - loss: 0.3406 - accuracy: 0.8873 - val_loss: 0.8710 - val_accuracy: 0.6311\n",
            "Epoch 163/1024\n",
            "58/58 [==============================] - 0s 8ms/step - loss: 0.3485 - accuracy: 0.8776 - val_loss: 0.8731 - val_accuracy: 0.6311\n",
            "Epoch 164/1024\n",
            "58/58 [==============================] - 0s 8ms/step - loss: 0.3470 - accuracy: 0.8749 - val_loss: 0.8703 - val_accuracy: 0.6262\n",
            "Epoch 165/1024\n",
            "58/58 [==============================] - 0s 8ms/step - loss: 0.3147 - accuracy: 0.8954 - val_loss: 0.8701 - val_accuracy: 0.6214\n",
            "Epoch 166/1024\n",
            "58/58 [==============================] - 0s 8ms/step - loss: 0.3478 - accuracy: 0.8781 - val_loss: 0.8695 - val_accuracy: 0.6262\n",
            "Epoch 167/1024\n",
            "58/58 [==============================] - 0s 8ms/step - loss: 0.3298 - accuracy: 0.8846 - val_loss: 0.8707 - val_accuracy: 0.6214\n",
            "Epoch 168/1024\n",
            "58/58 [==============================] - 0s 8ms/step - loss: 0.3351 - accuracy: 0.8959 - val_loss: 0.8689 - val_accuracy: 0.6262\n",
            "Epoch 169/1024\n",
            "58/58 [==============================] - 0s 7ms/step - loss: 0.3464 - accuracy: 0.8754 - val_loss: 0.8694 - val_accuracy: 0.6262\n",
            "Epoch 170/1024\n",
            "55/58 [===========================>..] - ETA: 0s - loss: 0.3460 - accuracy: 0.8756\n",
            "Epoch 00170: Reducing Max LR on Plateau: new max lr will be 1.25e-05 (if not early_stopping).\n",
            "58/58 [==============================] - 0s 8ms/step - loss: 0.3460 - accuracy: 0.8765 - val_loss: 0.8700 - val_accuracy: 0.6214\n",
            "Epoch 171/1024\n",
            "58/58 [==============================] - 0s 8ms/step - loss: 0.3130 - accuracy: 0.8937 - val_loss: 0.8686 - val_accuracy: 0.6214\n",
            "Epoch 172/1024\n",
            "58/58 [==============================] - 0s 8ms/step - loss: 0.3369 - accuracy: 0.8835 - val_loss: 0.8677 - val_accuracy: 0.6214\n",
            "Epoch 173/1024\n",
            "58/58 [==============================] - 0s 8ms/step - loss: 0.3131 - accuracy: 0.8910 - val_loss: 0.8685 - val_accuracy: 0.6214\n",
            "Epoch 174/1024\n",
            "58/58 [==============================] - 0s 8ms/step - loss: 0.3405 - accuracy: 0.8819 - val_loss: 0.8657 - val_accuracy: 0.6214\n",
            "Epoch 175/1024\n",
            "58/58 [==============================] - 0s 8ms/step - loss: 0.3249 - accuracy: 0.8878 - val_loss: 0.8675 - val_accuracy: 0.6214\n",
            "Epoch 176/1024\n",
            "55/58 [===========================>..] - ETA: 0s - loss: 0.3312 - accuracy: 0.8938\n",
            "Epoch 00176: Reducing Max LR on Plateau: new max lr will be 6.25e-06 (if not early_stopping).\n",
            "58/58 [==============================] - 1s 9ms/step - loss: 0.3339 - accuracy: 0.8932 - val_loss: 0.8674 - val_accuracy: 0.6214\n",
            "Epoch 177/1024\n",
            "58/58 [==============================] - 0s 8ms/step - loss: 0.3305 - accuracy: 0.8851 - val_loss: 0.8689 - val_accuracy: 0.6214\n",
            "Epoch 178/1024\n",
            "54/58 [==========================>...] - ETA: 0s - loss: 0.3309 - accuracy: 0.8883\n",
            "Epoch 00178: Reducing Max LR on Plateau: new max lr will be 3.125e-06 (if not early_stopping).\n",
            "58/58 [==============================] - 0s 8ms/step - loss: 0.3259 - accuracy: 0.8905 - val_loss: 0.8662 - val_accuracy: 0.6262\n",
            "Epoch 179/1024\n",
            "58/58 [==============================] - 1s 9ms/step - loss: 0.3107 - accuracy: 0.8975 - val_loss: 0.8655 - val_accuracy: 0.6262\n",
            "Epoch 180/1024\n",
            "58/58 [==============================] - 1s 9ms/step - loss: 0.3396 - accuracy: 0.8857 - val_loss: 0.8668 - val_accuracy: 0.6214\n",
            "Epoch 181/1024\n",
            "53/58 [==========================>...] - ETA: 0s - loss: 0.3130 - accuracy: 0.8868\n",
            "Epoch 00181: Reducing Max LR on Plateau: new max lr will be 1.5625e-06 (if not early_stopping).\n",
            "58/58 [==============================] - 0s 8ms/step - loss: 0.3125 - accuracy: 0.8878 - val_loss: 0.8663 - val_accuracy: 0.6262\n",
            "Epoch 182/1024\n",
            "58/58 [==============================] - 0s 8ms/step - loss: 0.3158 - accuracy: 0.9002 - val_loss: 0.8652 - val_accuracy: 0.6262\n",
            "Epoch 183/1024\n",
            "58/58 [==============================] - 0s 8ms/step - loss: 0.3038 - accuracy: 0.8954 - val_loss: 0.8641 - val_accuracy: 0.6262\n",
            "Epoch 184/1024\n",
            "58/58 [==============================] - 0s 8ms/step - loss: 0.3249 - accuracy: 0.8970 - val_loss: 0.8638 - val_accuracy: 0.6262\n",
            "Epoch 185/1024\n",
            "58/58 [==============================] - 0s 8ms/step - loss: 0.3180 - accuracy: 0.8889 - val_loss: 0.8634 - val_accuracy: 0.6262\n",
            "Epoch 186/1024\n",
            "58/58 [==============================] - 0s 8ms/step - loss: 0.3141 - accuracy: 0.8921 - val_loss: 0.8657 - val_accuracy: 0.6214\n",
            "Epoch 187/1024\n",
            "56/58 [===========================>..] - ETA: 0s - loss: 0.3170 - accuracy: 0.8817\n",
            "Epoch 00187: Reducing Max LR on Plateau: new max lr will be 7.8125e-07 (if not early_stopping).\n",
            "58/58 [==============================] - 0s 8ms/step - loss: 0.3146 - accuracy: 0.8840 - val_loss: 0.8665 - val_accuracy: 0.6214\n",
            "Epoch 188/1024\n",
            "58/58 [==============================] - 0s 7ms/step - loss: 0.3149 - accuracy: 0.8937 - val_loss: 0.8660 - val_accuracy: 0.6262\n",
            "Epoch 189/1024\n",
            "56/58 [===========================>..] - ETA: 0s - loss: 0.3293 - accuracy: 0.8873\n",
            "Epoch 00189: Reducing Max LR on Plateau: new max lr will be 3.90625e-07 (if not early_stopping).\n",
            "58/58 [==============================] - 0s 7ms/step - loss: 0.3285 - accuracy: 0.8862 - val_loss: 0.8665 - val_accuracy: 0.6214\n",
            "Epoch 190/1024\n",
            "56/58 [===========================>..] - ETA: 0s - loss: 0.3086 - accuracy: 0.9018Restoring model weights from the end of the best epoch: 185.\n",
            "58/58 [==============================] - 0s 8ms/step - loss: 0.3117 - accuracy: 0.9008 - val_loss: 0.8661 - val_accuracy: 0.6214\n",
            "Epoch 190: early stopping\n",
            "Weights from best epoch have been loaded into model.\n",
            "run 2 CORPUSNAME ljl class_names ['level1', 'level2', 'level3', 'level4']\n",
            "              precision    recall  f1-score   support\n",
            "\n",
            "      level1       0.41      0.35      0.38        26\n",
            "      level2       0.57      0.68      0.62        60\n",
            "      level3       0.66      0.67      0.66        66\n",
            "      level4       0.78      0.65      0.71        54\n",
            "\n",
            "    accuracy                           0.63       206\n",
            "   macro avg       0.60      0.59      0.59       206\n",
            "weighted avg       0.63      0.63      0.63       206\n",
            "\n",
            "-------------------------------------------------------run 3\n",
            "early_stopping automatically enabled at patience=5\n",
            "reduce_on_plateau automatically enabled at patience=2\n",
            "\n",
            "\n",
            "begin training using triangular learning rate policy with max lr of 0.0001...\n",
            "Epoch 1/1024\n",
            "58/58 [==============================] - 1s 9ms/step - loss: 0.3101 - accuracy: 0.8932 - val_loss: 0.8609 - val_accuracy: 0.6262\n",
            "Epoch 2/1024\n",
            "58/58 [==============================] - 0s 8ms/step - loss: 0.3175 - accuracy: 0.8900 - val_loss: 0.8627 - val_accuracy: 0.6214\n",
            "Epoch 3/1024\n",
            "58/58 [==============================] - 0s 9ms/step - loss: 0.3373 - accuracy: 0.8889 - val_loss: 0.8598 - val_accuracy: 0.6359\n",
            "Epoch 4/1024\n",
            "58/58 [==============================] - 0s 8ms/step - loss: 0.2994 - accuracy: 0.8991 - val_loss: 0.8593 - val_accuracy: 0.6262\n",
            "Epoch 5/1024\n",
            "58/58 [==============================] - 0s 8ms/step - loss: 0.3109 - accuracy: 0.8916 - val_loss: 0.8591 - val_accuracy: 0.6311\n",
            "Epoch 6/1024\n",
            "58/58 [==============================] - 0s 8ms/step - loss: 0.3208 - accuracy: 0.8862 - val_loss: 0.8537 - val_accuracy: 0.6311\n",
            "Epoch 7/1024\n",
            "58/58 [==============================] - 0s 8ms/step - loss: 0.3081 - accuracy: 0.8883 - val_loss: 0.8513 - val_accuracy: 0.6359\n",
            "Epoch 8/1024\n",
            "58/58 [==============================] - 0s 8ms/step - loss: 0.2914 - accuracy: 0.9002 - val_loss: 0.8555 - val_accuracy: 0.6262\n",
            "Epoch 9/1024\n",
            "52/58 [=========================>....] - ETA: 0s - loss: 0.2706 - accuracy: 0.9117\n",
            "Epoch 00009: Reducing Max LR on Plateau: new max lr will be 5e-05 (if not early_stopping).\n",
            "58/58 [==============================] - 0s 8ms/step - loss: 0.2664 - accuracy: 0.9126 - val_loss: 0.8530 - val_accuracy: 0.6311\n",
            "Epoch 10/1024\n",
            "58/58 [==============================] - 0s 8ms/step - loss: 0.3114 - accuracy: 0.8894 - val_loss: 0.8516 - val_accuracy: 0.6311\n",
            "Epoch 11/1024\n",
            "58/58 [==============================] - 0s 8ms/step - loss: 0.2807 - accuracy: 0.9061 - val_loss: 0.8500 - val_accuracy: 0.6359\n",
            "Epoch 12/1024\n",
            "58/58 [==============================] - 0s 8ms/step - loss: 0.2842 - accuracy: 0.9040 - val_loss: 0.8510 - val_accuracy: 0.6311\n",
            "Epoch 13/1024\n",
            "53/58 [==========================>...] - ETA: 0s - loss: 0.2943 - accuracy: 0.8945\n",
            "Epoch 00013: Reducing Max LR on Plateau: new max lr will be 2.5e-05 (if not early_stopping).\n",
            "58/58 [==============================] - 0s 8ms/step - loss: 0.2990 - accuracy: 0.8943 - val_loss: 0.8506 - val_accuracy: 0.6311\n",
            "Epoch 14/1024\n",
            "58/58 [==============================] - 0s 8ms/step - loss: 0.2818 - accuracy: 0.9024 - val_loss: 0.8518 - val_accuracy: 0.6311\n",
            "Epoch 15/1024\n",
            "52/58 [=========================>....] - ETA: 0s - loss: 0.2795 - accuracy: 0.9014\n",
            "Epoch 00015: Reducing Max LR on Plateau: new max lr will be 1.25e-05 (if not early_stopping).\n",
            "58/58 [==============================] - 0s 8ms/step - loss: 0.2773 - accuracy: 0.9018 - val_loss: 0.8508 - val_accuracy: 0.6311\n",
            "Epoch 16/1024\n",
            "56/58 [===========================>..] - ETA: 0s - loss: 0.2882 - accuracy: 0.9046Restoring model weights from the end of the best epoch: 11.\n",
            "58/58 [==============================] - 1s 9ms/step - loss: 0.2884 - accuracy: 0.9045 - val_loss: 0.8513 - val_accuracy: 0.6311\n",
            "Epoch 16: early stopping\n",
            "Weights from best epoch have been loaded into model.\n",
            "run 3 CORPUSNAME ljl class_names ['level1', 'level2', 'level3', 'level4']\n",
            "              precision    recall  f1-score   support\n",
            "\n",
            "      level1       0.39      0.35      0.37        26\n",
            "      level2       0.59      0.68      0.64        60\n",
            "      level3       0.65      0.68      0.67        66\n",
            "      level4       0.80      0.67      0.73        54\n",
            "\n",
            "    accuracy                           0.64       206\n",
            "   macro avg       0.61      0.59      0.60       206\n",
            "weighted avg       0.64      0.64      0.64       206\n",
            "\n",
            "-------------------------------------------------------run 4\n",
            "early_stopping automatically enabled at patience=5\n",
            "reduce_on_plateau automatically enabled at patience=2\n",
            "\n",
            "\n",
            "begin training using triangular learning rate policy with max lr of 0.0001...\n",
            "Epoch 1/1024\n",
            "58/58 [==============================] - 1s 9ms/step - loss: 0.3069 - accuracy: 0.8910 - val_loss: 0.8498 - val_accuracy: 0.6311\n",
            "Epoch 2/1024\n",
            "58/58 [==============================] - 0s 8ms/step - loss: 0.2925 - accuracy: 0.8997 - val_loss: 0.8489 - val_accuracy: 0.6311\n",
            "Epoch 3/1024\n",
            "58/58 [==============================] - 0s 8ms/step - loss: 0.2694 - accuracy: 0.9083 - val_loss: 0.8493 - val_accuracy: 0.6311\n",
            "Epoch 4/1024\n",
            "58/58 [==============================] - ETA: 0s - loss: 0.2627 - accuracy: 0.9078\n",
            "Epoch 00004: Reducing Max LR on Plateau: new max lr will be 5e-05 (if not early_stopping).\n",
            "58/58 [==============================] - 0s 8ms/step - loss: 0.2627 - accuracy: 0.9078 - val_loss: 0.8492 - val_accuracy: 0.6311\n",
            "Epoch 5/1024\n",
            "58/58 [==============================] - 0s 8ms/step - loss: 0.2887 - accuracy: 0.8921 - val_loss: 0.8498 - val_accuracy: 0.6311\n",
            "Epoch 6/1024\n",
            "58/58 [==============================] - 0s 8ms/step - loss: 0.3017 - accuracy: 0.8910 - val_loss: 0.8476 - val_accuracy: 0.6359\n",
            "Epoch 7/1024\n",
            "58/58 [==============================] - 0s 8ms/step - loss: 0.2632 - accuracy: 0.9088 - val_loss: 0.8481 - val_accuracy: 0.6311\n",
            "Epoch 8/1024\n",
            "58/58 [==============================] - 0s 8ms/step - loss: 0.2663 - accuracy: 0.9051 - val_loss: 0.8468 - val_accuracy: 0.6359\n",
            "Epoch 9/1024\n",
            "58/58 [==============================] - 0s 8ms/step - loss: 0.2763 - accuracy: 0.9105 - val_loss: 0.8467 - val_accuracy: 0.6359\n",
            "Epoch 10/1024\n",
            "58/58 [==============================] - 0s 8ms/step - loss: 0.2746 - accuracy: 0.9110 - val_loss: 0.8470 - val_accuracy: 0.6359\n",
            "Epoch 11/1024\n",
            "58/58 [==============================] - 0s 8ms/step - loss: 0.2647 - accuracy: 0.9137 - val_loss: 0.8444 - val_accuracy: 0.6408\n",
            "Epoch 12/1024\n",
            "58/58 [==============================] - 0s 8ms/step - loss: 0.2491 - accuracy: 0.9202 - val_loss: 0.8453 - val_accuracy: 0.6359\n",
            "Epoch 13/1024\n",
            "58/58 [==============================] - 0s 8ms/step - loss: 0.2743 - accuracy: 0.9067 - val_loss: 0.8437 - val_accuracy: 0.6359\n",
            "Epoch 14/1024\n",
            "58/58 [==============================] - 0s 8ms/step - loss: 0.2335 - accuracy: 0.9207 - val_loss: 0.8439 - val_accuracy: 0.6262\n",
            "Epoch 15/1024\n",
            "52/58 [=========================>....] - ETA: 0s - loss: 0.2575 - accuracy: 0.9159\n",
            "Epoch 00015: Reducing Max LR on Plateau: new max lr will be 2.5e-05 (if not early_stopping).\n",
            "58/58 [==============================] - 0s 8ms/step - loss: 0.2569 - accuracy: 0.9159 - val_loss: 0.8442 - val_accuracy: 0.6311\n",
            "Epoch 16/1024\n",
            "58/58 [==============================] - 0s 8ms/step - loss: 0.2401 - accuracy: 0.9191 - val_loss: 0.8441 - val_accuracy: 0.6408\n",
            "Epoch 17/1024\n",
            "58/58 [==============================] - 0s 8ms/step - loss: 0.2458 - accuracy: 0.9142 - val_loss: 0.8427 - val_accuracy: 0.6311\n",
            "Epoch 18/1024\n",
            "58/58 [==============================] - 0s 8ms/step - loss: 0.2296 - accuracy: 0.9256 - val_loss: 0.8428 - val_accuracy: 0.6311\n",
            "Epoch 19/1024\n",
            "52/58 [=========================>....] - ETA: 0s - loss: 0.2374 - accuracy: 0.9207\n",
            "Epoch 00019: Reducing Max LR on Plateau: new max lr will be 1.25e-05 (if not early_stopping).\n",
            "58/58 [==============================] - 0s 8ms/step - loss: 0.2400 - accuracy: 0.9180 - val_loss: 0.8430 - val_accuracy: 0.6311\n",
            "Epoch 20/1024\n",
            "58/58 [==============================] - 0s 8ms/step - loss: 0.2237 - accuracy: 0.9250 - val_loss: 0.8445 - val_accuracy: 0.6311\n",
            "Epoch 21/1024\n",
            "53/58 [==========================>...] - ETA: 0s - loss: 0.2581 - accuracy: 0.9139\n",
            "Epoch 00021: Reducing Max LR on Plateau: new max lr will be 6.25e-06 (if not early_stopping).\n",
            "58/58 [==============================] - 0s 8ms/step - loss: 0.2584 - accuracy: 0.9137 - val_loss: 0.8445 - val_accuracy: 0.6311\n",
            "Epoch 22/1024\n",
            "58/58 [==============================] - 0s 8ms/step - loss: 0.2558 - accuracy: 0.9153 - val_loss: 0.8423 - val_accuracy: 0.6311\n",
            "Epoch 23/1024\n",
            "58/58 [==============================] - 0s 8ms/step - loss: 0.2067 - accuracy: 0.9315 - val_loss: 0.8436 - val_accuracy: 0.6311\n",
            "Epoch 24/1024\n",
            "58/58 [==============================] - 0s 8ms/step - loss: 0.2520 - accuracy: 0.9191 - val_loss: 0.8416 - val_accuracy: 0.6311\n",
            "Epoch 25/1024\n",
            "58/58 [==============================] - 0s 8ms/step - loss: 0.2542 - accuracy: 0.9121 - val_loss: 0.8412 - val_accuracy: 0.6311\n",
            "Epoch 26/1024\n",
            "58/58 [==============================] - 0s 8ms/step - loss: 0.2298 - accuracy: 0.9229 - val_loss: 0.8436 - val_accuracy: 0.6311\n",
            "Epoch 27/1024\n",
            "53/58 [==========================>...] - ETA: 0s - loss: 0.2336 - accuracy: 0.9192\n",
            "Epoch 00027: Reducing Max LR on Plateau: new max lr will be 3.125e-06 (if not early_stopping).\n",
            "58/58 [==============================] - 0s 8ms/step - loss: 0.2339 - accuracy: 0.9196 - val_loss: 0.8434 - val_accuracy: 0.6311\n",
            "Epoch 28/1024\n",
            "58/58 [==============================] - 1s 9ms/step - loss: 0.2495 - accuracy: 0.9110 - val_loss: 0.8426 - val_accuracy: 0.6311\n",
            "Epoch 29/1024\n",
            "52/58 [=========================>....] - ETA: 0s - loss: 0.2582 - accuracy: 0.9153\n",
            "Epoch 00029: Reducing Max LR on Plateau: new max lr will be 1.5625e-06 (if not early_stopping).\n",
            "58/58 [==============================] - 0s 8ms/step - loss: 0.2596 - accuracy: 0.9142 - val_loss: 0.8449 - val_accuracy: 0.6408\n",
            "Epoch 30/1024\n",
            "54/58 [==========================>...] - ETA: 0s - loss: 0.2469 - accuracy: 0.9201Restoring model weights from the end of the best epoch: 25.\n",
            "58/58 [==============================] - 0s 8ms/step - loss: 0.2444 - accuracy: 0.9196 - val_loss: 0.8433 - val_accuracy: 0.6311\n",
            "Epoch 30: early stopping\n",
            "Weights from best epoch have been loaded into model.\n",
            "run 4 CORPUSNAME ljl class_names ['level1', 'level2', 'level3', 'level4']\n",
            "              precision    recall  f1-score   support\n",
            "\n",
            "      level1       0.39      0.35      0.37        26\n",
            "      level2       0.59      0.67      0.62        60\n",
            "      level3       0.65      0.68      0.67        66\n",
            "      level4       0.78      0.67      0.72        54\n",
            "\n",
            "    accuracy                           0.63       206\n",
            "   macro avg       0.60      0.59      0.59       206\n",
            "weighted avg       0.63      0.63      0.63       206\n",
            "\n",
            "-------------------------------------------------------------\n",
            "total run 4\n",
            "CORPUSNAME ljl\n",
            "{   'accuracy': 0.51,\n",
            "    'class_names': ['level1', 'level2', 'level3', 'level4'],\n",
            "    'data_name': 'ljl',\n",
            "    'false_neg': array([103, 143, 101, 160]),\n",
            "    'false_pos': array([ 42, 162, 268,  35]),\n",
            "    'fmeasure': array([0.27, 0.51, 0.55, 0.53]),\n",
            "    'macro_avg_fmeasure': 0.47,\n",
            "    'macro_avg_precision': 0.53,\n",
            "    'macro_avg_recall': 0.46,\n",
            "    'precision': array([0.39, 0.49, 0.46, 0.76]),\n",
            "    'recall': array([0.21, 0.52, 0.69, 0.41]),\n",
            "    'support': array([130, 300, 330, 270]),\n",
            "    'total_support': 1030,\n",
            "    'true_pos': array([ 27, 157, 229, 110]),\n",
            "    'weighted_average_fmeasure': 0.5,\n",
            "    'weighted_average_precision': 0.54,\n",
            "    'weighted_average_recall': 0.51}\n",
            "(ljl) &\\multicolumn{3}{|c|}{level1}&\\multicolumn{3}{|c|}{level2}&\\multicolumn{3}{|c|}{level3}&\\multicolumn{3}{|c|}{level4}\\\\\n",
            "&P&\tR&\tF1&\tP&\tR&\tF1&\tP&\tR&\tF1&\tP&\tR&\tF1&\tAcc.&\tMacro avg.\\\\\n",
            "\t&0.39\t&0.21\t&0.27\t&0.49\t&0.52\t&0.51\t&0.46\t&0.69\t&0.55\t&0.76\t&0.41\t&0.53\t&0.51\t&0.47\\\\\n"
          ]
        },
        {
          "output_type": "execute_result",
          "data": {
            "text/plain": [
              "-1"
            ]
          },
          "metadata": {},
          "execution_count": 52
        }
      ]
    },
    {
      "cell_type": "markdown",
      "source": [
        "CamemBERT"
      ],
      "metadata": {
        "id": "X3SSrkCnLrgP"
      }
    },
    {
      "cell_type": "markdown",
      "source": [
        "This takes multiple hours without having enabled the GPU, remember to do this before:    \n",
        "Edit -> Notebook Settings -> Hardware Accelerator : GPU"
      ],
      "metadata": {
        "id": "Lb-3SwrVEWgY"
      }
    },
    {
      "cell_type": "code",
      "source": [
        "bert.demo_doBert() #C an pass \"ljl\", \"bibebook.com\", \"JeLisLibre\", or \"all\" as a parameter\n",
        "#Takes around 15 minutes for the ljl corpus on GPU (default parameter)\n",
        "\n",
        "#FIXME : same reason as for fasttext, not a true cross-validation."
      ],
      "metadata": {
        "colab": {
          "base_uri": "https://localhost:8080/",
          "height": 1000
        },
        "id": "mRRUtxGQwFwC",
        "outputId": "0f10ca42-8dea-48b0-bf1b-ae5797aaa5b5"
      },
      "execution_count": 16,
      "outputs": [
        {
          "output_type": "stream",
          "name": "stdout",
          "text": [
            "-------------------------------------------------------------------\n",
            "['id', 'text', 'level1', 'level2', 'level3', 'level4']\n",
            "len_train 1854\n",
            "CORPUS_NAME ljl MODEL_NAME camembert-base class_names ['level1', 'level2', 'level3', 'level4']\n",
            "--> getTransformer\n",
            "preprocessing train...\n",
            "language: fr\n",
            "train sequence lengths:\n",
            "\tmean : 195\n",
            "\t95percentile : 424\n",
            "\t99percentile : 608\n"
          ]
        },
        {
          "output_type": "display_data",
          "data": {
            "text/plain": [
              "<IPython.core.display.HTML object>"
            ],
            "text/html": [
              "\n",
              "<style>\n",
              "    /* Turns off some styling */\n",
              "    progress {\n",
              "        /* gets rid of default border in Firefox and Opera. */\n",
              "        border: none;\n",
              "        /* Needs to be in here for Safari polyfill so background images work as expected. */\n",
              "        background-size: auto;\n",
              "    }\n",
              "    .progress-bar-interrupted, .progress-bar-interrupted::-webkit-progress-bar {\n",
              "        background: #F44336;\n",
              "    }\n",
              "</style>\n"
            ]
          },
          "metadata": {}
        },
        {
          "output_type": "display_data",
          "data": {
            "text/plain": [
              "<IPython.core.display.HTML object>"
            ],
            "text/html": [
              ""
            ]
          },
          "metadata": {}
        },
        {
          "output_type": "stream",
          "name": "stdout",
          "text": [
            "Is Multi-Label? False\n",
            "preprocessing test...\n",
            "language: fr\n",
            "test sequence lengths:\n",
            "\tmean : 178\n",
            "\t95percentile : 389\n",
            "\t99percentile : 495\n"
          ]
        },
        {
          "output_type": "display_data",
          "data": {
            "text/plain": [
              "<IPython.core.display.HTML object>"
            ],
            "text/html": [
              "\n",
              "<style>\n",
              "    /* Turns off some styling */\n",
              "    progress {\n",
              "        /* gets rid of default border in Firefox and Opera. */\n",
              "        border: none;\n",
              "        /* Needs to be in here for Safari polyfill so background images work as expected. */\n",
              "        background-size: auto;\n",
              "    }\n",
              "    .progress-bar-interrupted, .progress-bar-interrupted::-webkit-progress-bar {\n",
              "        background: #F44336;\n",
              "    }\n",
              "</style>\n"
            ]
          },
          "metadata": {}
        },
        {
          "output_type": "display_data",
          "data": {
            "text/plain": [
              "<IPython.core.display.HTML object>"
            ],
            "text/html": [
              ""
            ]
          },
          "metadata": {}
        },
        {
          "output_type": "stream",
          "name": "stdout",
          "text": [
            "t <class 'ktrain.text.preprocessor.Transformer'> \n",
            "trn <class 'ktrain.text.dataset.TransformerDataset'> \n",
            "val <class 'ktrain.text.dataset.TransformerDataset'> \n",
            "model <class 'transformers.models.camembert.modeling_tf_camembert.TFCamembertForSequenceClassification'> \n",
            "learner <class 'ktrain.text.learner.TransformerTextClassLearner'>\n",
            "Model: \"tf_camembert_for_sequence_classification_3\"\n",
            "_________________________________________________________________\n",
            " Layer (type)                Output Shape              Param #   \n",
            "=================================================================\n",
            " roberta (TFRobertaMainLayer  multiple                 110031360 \n",
            " )                                                               \n",
            "                                                                 \n",
            " classifier (TFRobertaClassi  multiple                 593668    \n",
            " ficationHead)                                                   \n",
            "                                                                 \n",
            "=================================================================\n",
            "Total params: 110,625,028\n",
            "Trainable params: 110,625,028\n",
            "Non-trainable params: 0\n",
            "_________________________________________________________________\n",
            "None\n",
            "-------------------------------------------------------run 0\n",
            "early_stopping automatically enabled at patience=5\n",
            "reduce_on_plateau automatically enabled at patience=2\n",
            "\n",
            "\n",
            "begin training using triangular learning rate policy with max lr of 0.0001...\n",
            "Epoch 1/1024\n",
            "309/309 [==============================] - 79s 206ms/step - loss: 1.1892 - accuracy: 0.4239 - val_loss: 0.9923 - val_accuracy: 0.5194\n",
            "Epoch 2/1024\n",
            "309/309 [==============================] - 61s 196ms/step - loss: 0.9874 - accuracy: 0.5518 - val_loss: 0.8999 - val_accuracy: 0.5874\n",
            "Epoch 3/1024\n",
            "309/309 [==============================] - 61s 196ms/step - loss: 0.8045 - accuracy: 0.6634 - val_loss: 0.9214 - val_accuracy: 0.5437\n",
            "Epoch 4/1024\n",
            "309/309 [==============================] - ETA: 0s - loss: 0.6035 - accuracy: 0.7562\n",
            "Epoch 00004: Reducing Max LR on Plateau: new max lr will be 5e-05 (if not early_stopping).\n",
            "309/309 [==============================] - 61s 196ms/step - loss: 0.6035 - accuracy: 0.7562 - val_loss: 0.9046 - val_accuracy: 0.6117\n",
            "Epoch 5/1024\n",
            "309/309 [==============================] - 61s 196ms/step - loss: 0.3767 - accuracy: 0.8695 - val_loss: 0.9320 - val_accuracy: 0.6505\n",
            "Epoch 6/1024\n",
            "309/309 [==============================] - ETA: 0s - loss: 0.2250 - accuracy: 0.9277\n",
            "Epoch 00006: Reducing Max LR on Plateau: new max lr will be 2.5e-05 (if not early_stopping).\n",
            "309/309 [==============================] - 61s 196ms/step - loss: 0.2250 - accuracy: 0.9277 - val_loss: 1.1205 - val_accuracy: 0.6602\n",
            "Epoch 7/1024\n",
            "309/309 [==============================] - ETA: 0s - loss: 0.1163 - accuracy: 0.9693Restoring model weights from the end of the best epoch: 2.\n",
            "309/309 [==============================] - 61s 196ms/step - loss: 0.1163 - accuracy: 0.9693 - val_loss: 1.1227 - val_accuracy: 0.6699\n",
            "Epoch 7: early stopping\n",
            "Weights from best epoch have been loaded into model.\n",
            "MODEL_NAME camembert-base run 0 CORPUSNAME ljl class_names ['level1', 'level2', 'level3', 'level4']\n",
            "              precision    recall  f1-score   support\n",
            "\n",
            "      level1       0.58      0.60      0.59        25\n",
            "      level2       0.61      0.65      0.63        65\n",
            "      level3       0.58      0.54      0.56        69\n",
            "      level4       0.57      0.57      0.57        47\n",
            "\n",
            "    accuracy                           0.59       206\n",
            "   macro avg       0.58      0.59      0.59       206\n",
            "weighted avg       0.59      0.59      0.59       206\n",
            "\n",
            "-------------------------------------------------------run 1\n",
            "early_stopping automatically enabled at patience=5\n",
            "reduce_on_plateau automatically enabled at patience=2\n",
            "\n",
            "\n",
            "begin training using triangular learning rate policy with max lr of 0.0001...\n",
            "Epoch 1/1024\n",
            "309/309 [==============================] - 62s 198ms/step - loss: 0.7535 - accuracy: 0.6936 - val_loss: 0.8861 - val_accuracy: 0.6165\n",
            "Epoch 2/1024\n",
            "309/309 [==============================] - 61s 198ms/step - loss: 0.5737 - accuracy: 0.7794 - val_loss: 0.7979 - val_accuracy: 0.6796\n",
            "Epoch 3/1024\n",
            "309/309 [==============================] - 61s 196ms/step - loss: 0.4618 - accuracy: 0.8258 - val_loss: 0.8358 - val_accuracy: 0.6796\n",
            "Epoch 4/1024\n",
            "309/309 [==============================] - 61s 196ms/step - loss: 0.4073 - accuracy: 0.8544 - val_loss: 0.7825 - val_accuracy: 0.7282\n",
            "Epoch 5/1024\n",
            "309/309 [==============================] - 61s 195ms/step - loss: 0.3042 - accuracy: 0.8900 - val_loss: 0.7895 - val_accuracy: 0.7184\n",
            "Epoch 6/1024\n",
            "309/309 [==============================] - ETA: 0s - loss: 0.2843 - accuracy: 0.8997\n",
            "Epoch 00006: Reducing Max LR on Plateau: new max lr will be 5e-05 (if not early_stopping).\n",
            "309/309 [==============================] - 61s 196ms/step - loss: 0.2843 - accuracy: 0.8997 - val_loss: 0.8614 - val_accuracy: 0.6990\n",
            "Epoch 7/1024\n",
            "309/309 [==============================] - 61s 196ms/step - loss: 0.1317 - accuracy: 0.9622 - val_loss: 0.9628 - val_accuracy: 0.7136\n",
            "Epoch 8/1024\n",
            "309/309 [==============================] - ETA: 0s - loss: 0.0841 - accuracy: 0.9752\n",
            "Epoch 00008: Reducing Max LR on Plateau: new max lr will be 2.5e-05 (if not early_stopping).\n",
            "309/309 [==============================] - 61s 195ms/step - loss: 0.0841 - accuracy: 0.9752 - val_loss: 1.0433 - val_accuracy: 0.6990\n",
            "Epoch 9/1024\n",
            "309/309 [==============================] - ETA: 0s - loss: 0.0489 - accuracy: 0.9887Restoring model weights from the end of the best epoch: 4.\n",
            "309/309 [==============================] - 61s 196ms/step - loss: 0.0489 - accuracy: 0.9887 - val_loss: 1.0381 - val_accuracy: 0.7427\n",
            "Epoch 9: early stopping\n",
            "Weights from best epoch have been loaded into model.\n",
            "MODEL_NAME camembert-base run 1 CORPUSNAME ljl class_names ['level1', 'level2', 'level3', 'level4']\n",
            "              precision    recall  f1-score   support\n",
            "\n",
            "      level1       0.75      0.36      0.49        25\n",
            "      level2       0.69      0.68      0.68        65\n",
            "      level3       0.69      0.84      0.76        69\n",
            "      level4       0.85      0.83      0.84        47\n",
            "\n",
            "    accuracy                           0.73       206\n",
            "   macro avg       0.74      0.68      0.69       206\n",
            "weighted avg       0.73      0.73      0.72       206\n",
            "\n",
            "{   'accuracy': 0.66,\n",
            "    'class_names': ['level1', 'level2', 'level3', 'level4'],\n",
            "    'data_name': 'ljl',\n",
            "    'false_neg': array([26, 44, 43, 28]),\n",
            "    'false_pos': array([14, 47, 53, 27]),\n",
            "    'fmeasure': array([0.55, 0.65, 0.66, 0.71]),\n",
            "    'macro_avg_fmeasure': 0.64,\n",
            "    'macro_avg_precision': 0.66,\n",
            "    'macro_avg_recall': 0.63,\n",
            "    'precision': array([0.63, 0.65, 0.64, 0.71]),\n",
            "    'recall': array([0.48, 0.66, 0.69, 0.7 ]),\n",
            "    'support': array([ 50, 130, 138,  94]),\n",
            "    'total_support': 412,\n",
            "    'true_pos': array([24, 86, 95, 66]),\n",
            "    'weighted_average_fmeasure': 0.66,\n",
            "    'weighted_average_precision': 0.66,\n",
            "    'weighted_average_recall': 0.66}\n",
            "-------------------------------------------------------------\n",
            "total run 1 MODEL_NAME camembert-base\n",
            "CORPUSNAME ljl CORPUSNAME ljl\n",
            "{   'accuracy': 0.66,\n",
            "    'class_names': ['level1', 'level2', 'level3', 'level4'],\n",
            "    'data_name': 'ljl',\n",
            "    'false_neg': array([26, 44, 43, 28]),\n",
            "    'false_pos': array([14, 47, 53, 27]),\n",
            "    'fmeasure': array([0.55, 0.65, 0.66, 0.71]),\n",
            "    'macro_avg_fmeasure': 0.64,\n",
            "    'macro_avg_precision': 0.66,\n",
            "    'macro_avg_recall': 0.63,\n",
            "    'precision': array([0.63, 0.65, 0.64, 0.71]),\n",
            "    'recall': array([0.48, 0.66, 0.69, 0.7 ]),\n",
            "    'support': array([ 50, 130, 138,  94]),\n",
            "    'total_support': 412,\n",
            "    'true_pos': array([24, 86, 95, 66]),\n",
            "    'weighted_average_fmeasure': 0.66,\n",
            "    'weighted_average_precision': 0.66,\n",
            "    'weighted_average_recall': 0.66}\n",
            "(ljl) &\\multicolumn{3}{|c|}{level1}&\\multicolumn{3}{|c|}{level2}&\\multicolumn{3}{|c|}{level3}&\\multicolumn{3}{|c|}{level4}\\\\\n",
            "&P&\tR&\tF1&\tP&\tR&\tF1&\tP&\tR&\tF1&\tP&\tR&\tF1&\tAcc.&\tMacro avg.\\\\\n",
            "\t&0.63\t&0.48\t&0.55\t&0.66\t&0.65\t&0.66\t&0.65\t&0.66\t&0.64\t&0.69\t&0.66\t&0.66\t&0.71\t&0.7\t&0.71\t&0.66\t&0.64\\\\\n",
            "\n"
          ]
        },
        {
          "output_type": "execute_result",
          "data": {
            "text/plain": [
              "0"
            ]
          },
          "metadata": {},
          "execution_count": 16
        }
      ]
    },
    {
      "cell_type": "markdown",
      "source": [
        "# Examples of use"
      ],
      "metadata": {
        "id": "BJDUhalJXG-V"
      }
    },
    {
      "cell_type": "markdown",
      "metadata": {
        "id": "eO5yJj1MLyFO"
      },
      "source": [
        "## Importing data for the examples"
      ]
    },
    {
      "cell_type": "code",
      "execution_count": 7,
      "metadata": {
        "id": "fOKIaEKfLyFP"
      },
      "outputs": [],
      "source": [
        "import pickle\n",
        "with open(os.path.join(os.getcwd(),\"data\",\"tokens_split.pkl\"), \"rb\") as file:\n",
        "    corpus = pickle.load(file)"
      ]
    },
    {
      "cell_type": "code",
      "source": [
        "#This can also be done by doing a wget :\n",
        "#!wget -nc https://github.com/nicolashernandez/READI-LREC22/blob/main/data/tokens_split.pkl?raw=true -P data\n",
        "#with open(os.path.join(os.getcwd(),\"data\",\"tokens_split.pkl?raw=true\"), \"rb\") as file:\n",
        "#    corpus = pickle.load(file)"
      ],
      "metadata": {
        "id": "s8YEy-XhWqur"
      },
      "execution_count": 11,
      "outputs": []
    },
    {
      "cell_type": "markdown",
      "metadata": {
        "id": "Apwsw5v2LyFP"
      },
      "source": [
        "## Example one : Using the library for a text\n",
        "\n",
        "Texts can be strings, but it is preferred to prepare them beforehand as tokenized sentences. ( list(list()) )  \n",
        "If using spacy, something like this can be used :  \n",
        "new_text = [[token.text for token in sent] for sent in spacy(text).sents]  \n",
        "And to remove punctuation marks, this can be done instead :  \n",
        "new_text = [[token.text for token in sent if not token.is_punct] for sent in spacy(temp).sents]"
      ]
    },
    {
      "cell_type": "markdown",
      "metadata": {
        "id": "hgaAcEHLLyFS"
      },
      "source": [
        "A readability instance is created by calling readability.Readability(text)  \n",
        "The following arguments are optional : lang, nlp_name, perplexity_processor  \n",
        "By default, this instance will use the french language, by using a spacy_sm nlp processor, and gpt2 for processing perplexity"
      ]
    },
    {
      "cell_type": "code",
      "execution_count": 8,
      "metadata": {
        "id": "-fNjDrEgLyFT",
        "outputId": "2320c9f8-d110-4c39-a5bd-8d50c95720e5",
        "colab": {
          "base_uri": "https://localhost:8080/"
        }
      },
      "outputs": [
        {
          "output_type": "stream",
          "name": "stdout",
          "text": [
            "Acquiring Natural Language Processor...\n",
            "DEBUG: Spacy model location (already installed) :  /usr/local/lib/python3.7/dist-packages/fr_core_news_sm/fr_core_news_sm-2.2.5\n"
          ]
        }
      ],
      "source": [
        "import pandas as pd\n",
        "import spacy\n",
        "#Types of available formats for a text:\n",
        "r = readability.Readability(corpus['level1'][0]) # A text in the list(list()) format used internally\n",
        "#r = readability.Readability(' '.join(corpus['level1'][0][0])) # A string, it will be converted into a list(list()), of size 1, with 12 tokens, including punctuation"
      ]
    },
    {
      "cell_type": "markdown",
      "metadata": {
        "id": "bCznBc_8LyFU"
      },
      "source": [
        "Common scores can be accessed by using the corresponding function."
      ]
    },
    {
      "cell_type": "code",
      "execution_count": 9,
      "metadata": {
        "id": "XEJK_MYOLyFU",
        "outputId": "be67682f-31e8-4056-f2a7-c43c1f2c05e4",
        "colab": {
          "base_uri": "https://localhost:8080/"
        }
      },
      "outputs": [
        {
          "output_type": "execute_result",
          "data": {
            "text/plain": [
              "61.52380952380953"
            ]
          },
          "metadata": {},
          "execution_count": 9
        }
      ],
      "source": [
        "gfi = r.gfi()\n",
        "gfi #is 61.52380952380953"
      ]
    },
    {
      "cell_type": "markdown",
      "metadata": {
        "id": "ZLsDXGXrLyFV"
      },
      "source": [
        "More conveniently, a list of these scores can be obtained by using .scores()"
      ]
    },
    {
      "cell_type": "code",
      "execution_count": 10,
      "metadata": {
        "id": "EqHKydKmLyFW",
        "outputId": "a1cfd688-08cb-4913-fe1d-a935f0ba259b",
        "colab": {
          "base_uri": "https://localhost:8080/"
        }
      },
      "outputs": [
        {
          "output_type": "execute_result",
          "data": {
            "text/plain": [
              "{'ari': 21.503161490683233,\n",
              " 'fkgl': 8.382298136645964,\n",
              " 'fre': 54.47311594202901,\n",
              " 'gfi': 61.52380952380953,\n",
              " 'rel': 73.00333333333334,\n",
              " 'smog': 13.023866798666859}"
            ]
          },
          "metadata": {},
          "execution_count": 10
        }
      ],
      "source": [
        "r.scores()"
      ]
    },
    {
      "cell_type": "markdown",
      "metadata": {
        "id": "2RsaWHmrLyFW"
      },
      "source": [
        "In order to speed the calculations needed by these functions, the .compile() function can be used.  \n",
        "It calculates most of the statistics needed for a text, and puts it in the .statistics attribute of the Readability object.  \n",
        "These can be viewed by doing .stats(), or directly accessing the .statistics attribute.  \n",
        "For example : .statistics.totalWords"
      ]
    },
    {
      "cell_type": "code",
      "execution_count": 11,
      "metadata": {
        "id": "3iNUbMcOLyFW",
        "outputId": "d6346f73-8e7c-44a2-cf8e-9bd430025b41",
        "colab": {
          "base_uri": "https://localhost:8080/"
        }
      },
      "outputs": [
        {
          "output_type": "stream",
          "name": "stdout",
          "text": [
            "totalWords = 230\n",
            "totalLongWords = 30\n",
            "totalSentences = 21\n",
            "totalCharacters = 837\n",
            "totalSyllables = 384\n",
            "nbPolysyllables = 63\n"
          ]
        },
        {
          "output_type": "execute_result",
          "data": {
            "text/plain": [
              "230"
            ]
          },
          "metadata": {},
          "execution_count": 11
        }
      ],
      "source": [
        "r.compile()\n",
        "r.stats()\n",
        "r.statistics.totalWords"
      ]
    },
    {
      "cell_type": "markdown",
      "metadata": {
        "id": "xeG9xrv1LyFX"
      },
      "source": [
        "## Example two : Using the library for a corpus\n",
        "\n",
        "Currently, a corpus will be recognized by the library only if provided with the following structure :  \n",
        "type(corpus) = dict[class][text][sentence][token]  \n",
        "For instance, corpA['class1'][0][0][0] should return the first token of the first sentence of the first text of class 'class1', for the corpus 'corpA'."
      ]
    },
    {
      "cell_type": "code",
      "execution_count": 12,
      "metadata": {
        "id": "ja15sx79LyFX",
        "outputId": "c389a3bf-1385-45eb-95ac-f5810219e86e",
        "colab": {
          "base_uri": "https://localhost:8080/"
        }
      },
      "outputs": [
        {
          "output_type": "stream",
          "name": "stdout",
          "text": [
            "Acquiring Natural Language Processor...\n",
            "DEBUG: Spacy model location (already installed) :  /usr/local/lib/python3.7/dist-packages/fr_core_news_sm/fr_core_news_sm-2.2.5\n"
          ]
        }
      ],
      "source": [
        "r = readability.Readability(corpus)"
      ]
    },
    {
      "cell_type": "markdown",
      "metadata": {
        "id": "X-dg0de3LyFY"
      },
      "source": [
        "A useful function resuming the contents of the corpus is available, called .corpus_info()"
      ]
    },
    {
      "cell_type": "code",
      "execution_count": 13,
      "metadata": {
        "id": "TKII3iNjLyFY",
        "outputId": "c6042927-946e-47d9-d2c9-150ece2c006a",
        "colab": {
          "base_uri": "https://localhost:8080/",
          "height": 300
        }
      },
      "outputs": [
        {
          "output_type": "execute_result",
          "data": {
            "text/plain": [
              "                                level1    level2    level3    level4     total\n",
              "Nombre de fichiers               240.0     628.0     670.0     522.0    2060.0\n",
              "Nombre de phrases total         4880.0   13049.0   10354.0    7743.0   36026.0\n",
              "Nombre de phrases moyen           20.0      21.0      15.0      15.0      17.0\n",
              "Longueur moyenne de phrase         8.0      10.0      12.0      13.0      11.0\n",
              "Nombre de tokens               38976.0  128019.0  124901.0  101165.0  393061.0\n",
              "Nombre de token moyen            162.0     204.0     186.0     194.0     191.0\n",
              "Taille du vocabulaire           4836.0   10903.0   11953.0   11410.0   23100.0\n",
              "Taille moyenne du vocabulaire     99.0     130.0     127.0     149.0    2257.0"
            ],
            "text/html": [
              "\n",
              "  <div id=\"df-a0ffa3bf-747a-4329-94d4-8cf2e3eca24c\">\n",
              "    <div class=\"colab-df-container\">\n",
              "      <div>\n",
              "<style scoped>\n",
              "    .dataframe tbody tr th:only-of-type {\n",
              "        vertical-align: middle;\n",
              "    }\n",
              "\n",
              "    .dataframe tbody tr th {\n",
              "        vertical-align: top;\n",
              "    }\n",
              "\n",
              "    .dataframe thead th {\n",
              "        text-align: right;\n",
              "    }\n",
              "</style>\n",
              "<table border=\"1\" class=\"dataframe\">\n",
              "  <thead>\n",
              "    <tr style=\"text-align: right;\">\n",
              "      <th></th>\n",
              "      <th>level1</th>\n",
              "      <th>level2</th>\n",
              "      <th>level3</th>\n",
              "      <th>level4</th>\n",
              "      <th>total</th>\n",
              "    </tr>\n",
              "  </thead>\n",
              "  <tbody>\n",
              "    <tr>\n",
              "      <th>Nombre de fichiers</th>\n",
              "      <td>240.0</td>\n",
              "      <td>628.0</td>\n",
              "      <td>670.0</td>\n",
              "      <td>522.0</td>\n",
              "      <td>2060.0</td>\n",
              "    </tr>\n",
              "    <tr>\n",
              "      <th>Nombre de phrases total</th>\n",
              "      <td>4880.0</td>\n",
              "      <td>13049.0</td>\n",
              "      <td>10354.0</td>\n",
              "      <td>7743.0</td>\n",
              "      <td>36026.0</td>\n",
              "    </tr>\n",
              "    <tr>\n",
              "      <th>Nombre de phrases moyen</th>\n",
              "      <td>20.0</td>\n",
              "      <td>21.0</td>\n",
              "      <td>15.0</td>\n",
              "      <td>15.0</td>\n",
              "      <td>17.0</td>\n",
              "    </tr>\n",
              "    <tr>\n",
              "      <th>Longueur moyenne de phrase</th>\n",
              "      <td>8.0</td>\n",
              "      <td>10.0</td>\n",
              "      <td>12.0</td>\n",
              "      <td>13.0</td>\n",
              "      <td>11.0</td>\n",
              "    </tr>\n",
              "    <tr>\n",
              "      <th>Nombre de tokens</th>\n",
              "      <td>38976.0</td>\n",
              "      <td>128019.0</td>\n",
              "      <td>124901.0</td>\n",
              "      <td>101165.0</td>\n",
              "      <td>393061.0</td>\n",
              "    </tr>\n",
              "    <tr>\n",
              "      <th>Nombre de token moyen</th>\n",
              "      <td>162.0</td>\n",
              "      <td>204.0</td>\n",
              "      <td>186.0</td>\n",
              "      <td>194.0</td>\n",
              "      <td>191.0</td>\n",
              "    </tr>\n",
              "    <tr>\n",
              "      <th>Taille du vocabulaire</th>\n",
              "      <td>4836.0</td>\n",
              "      <td>10903.0</td>\n",
              "      <td>11953.0</td>\n",
              "      <td>11410.0</td>\n",
              "      <td>23100.0</td>\n",
              "    </tr>\n",
              "    <tr>\n",
              "      <th>Taille moyenne du vocabulaire</th>\n",
              "      <td>99.0</td>\n",
              "      <td>130.0</td>\n",
              "      <td>127.0</td>\n",
              "      <td>149.0</td>\n",
              "      <td>2257.0</td>\n",
              "    </tr>\n",
              "  </tbody>\n",
              "</table>\n",
              "</div>\n",
              "      <button class=\"colab-df-convert\" onclick=\"convertToInteractive('df-a0ffa3bf-747a-4329-94d4-8cf2e3eca24c')\"\n",
              "              title=\"Convert this dataframe to an interactive table.\"\n",
              "              style=\"display:none;\">\n",
              "        \n",
              "  <svg xmlns=\"http://www.w3.org/2000/svg\" height=\"24px\"viewBox=\"0 0 24 24\"\n",
              "       width=\"24px\">\n",
              "    <path d=\"M0 0h24v24H0V0z\" fill=\"none\"/>\n",
              "    <path d=\"M18.56 5.44l.94 2.06.94-2.06 2.06-.94-2.06-.94-.94-2.06-.94 2.06-2.06.94zm-11 1L8.5 8.5l.94-2.06 2.06-.94-2.06-.94L8.5 2.5l-.94 2.06-2.06.94zm10 10l.94 2.06.94-2.06 2.06-.94-2.06-.94-.94-2.06-.94 2.06-2.06.94z\"/><path d=\"M17.41 7.96l-1.37-1.37c-.4-.4-.92-.59-1.43-.59-.52 0-1.04.2-1.43.59L10.3 9.45l-7.72 7.72c-.78.78-.78 2.05 0 2.83L4 21.41c.39.39.9.59 1.41.59.51 0 1.02-.2 1.41-.59l7.78-7.78 2.81-2.81c.8-.78.8-2.07 0-2.86zM5.41 20L4 18.59l7.72-7.72 1.47 1.35L5.41 20z\"/>\n",
              "  </svg>\n",
              "      </button>\n",
              "      \n",
              "  <style>\n",
              "    .colab-df-container {\n",
              "      display:flex;\n",
              "      flex-wrap:wrap;\n",
              "      gap: 12px;\n",
              "    }\n",
              "\n",
              "    .colab-df-convert {\n",
              "      background-color: #E8F0FE;\n",
              "      border: none;\n",
              "      border-radius: 50%;\n",
              "      cursor: pointer;\n",
              "      display: none;\n",
              "      fill: #1967D2;\n",
              "      height: 32px;\n",
              "      padding: 0 0 0 0;\n",
              "      width: 32px;\n",
              "    }\n",
              "\n",
              "    .colab-df-convert:hover {\n",
              "      background-color: #E2EBFA;\n",
              "      box-shadow: 0px 1px 2px rgba(60, 64, 67, 0.3), 0px 1px 3px 1px rgba(60, 64, 67, 0.15);\n",
              "      fill: #174EA6;\n",
              "    }\n",
              "\n",
              "    [theme=dark] .colab-df-convert {\n",
              "      background-color: #3B4455;\n",
              "      fill: #D2E3FC;\n",
              "    }\n",
              "\n",
              "    [theme=dark] .colab-df-convert:hover {\n",
              "      background-color: #434B5C;\n",
              "      box-shadow: 0px 1px 3px 1px rgba(0, 0, 0, 0.15);\n",
              "      filter: drop-shadow(0px 1px 2px rgba(0, 0, 0, 0.3));\n",
              "      fill: #FFFFFF;\n",
              "    }\n",
              "  </style>\n",
              "\n",
              "      <script>\n",
              "        const buttonEl =\n",
              "          document.querySelector('#df-a0ffa3bf-747a-4329-94d4-8cf2e3eca24c button.colab-df-convert');\n",
              "        buttonEl.style.display =\n",
              "          google.colab.kernel.accessAllowed ? 'block' : 'none';\n",
              "\n",
              "        async function convertToInteractive(key) {\n",
              "          const element = document.querySelector('#df-a0ffa3bf-747a-4329-94d4-8cf2e3eca24c');\n",
              "          const dataTable =\n",
              "            await google.colab.kernel.invokeFunction('convertToInteractive',\n",
              "                                                     [key], {});\n",
              "          if (!dataTable) return;\n",
              "\n",
              "          const docLinkHtml = 'Like what you see? Visit the ' +\n",
              "            '<a target=\"_blank\" href=https://colab.research.google.com/notebooks/data_table.ipynb>data table notebook</a>'\n",
              "            + ' to learn more about interactive tables.';\n",
              "          element.innerHTML = '';\n",
              "          dataTable['output_type'] = 'display_data';\n",
              "          await google.colab.output.renderOutput(dataTable, element);\n",
              "          const docLink = document.createElement('div');\n",
              "          docLink.innerHTML = docLinkHtml;\n",
              "          element.appendChild(docLink);\n",
              "        }\n",
              "      </script>\n",
              "    </div>\n",
              "  </div>\n",
              "  "
            ]
          },
          "metadata": {},
          "execution_count": 13
        }
      ],
      "source": [
        "r.corpus_info()"
      ]
    },
    {
      "cell_type": "markdown",
      "metadata": {
        "id": "MptkioiALyFY"
      },
      "source": [
        "When using a corpus, the Readability object's methods can return different types of results, but the behavior is similar:  \n",
        "Instead of returning a value, or a list, the methods may return them in a dict[class][text_index] format.  \n",
        "Additionally, .compile() will create the .corpus_statistics attribute instead of .statistics.  \n",
        ".stats() will print the statistics of the first text in each class, in addition to showing the mean values."
      ]
    },
    {
      "cell_type": "code",
      "execution_count": 14,
      "metadata": {
        "id": "NABoz6OsLyFZ",
        "outputId": "9fafe3d4-758e-4083-b5fa-e0a9dcc5aee1",
        "colab": {
          "base_uri": "https://localhost:8080/"
        }
      },
      "outputs": [
        {
          "output_type": "stream",
          "name": "stdout",
          "text": [
            "Class level1\n",
            "totalWords = 230\n",
            "totalLongWords = 30\n",
            "totalSentences = 21\n",
            "totalCharacters = 837\n",
            "totalSyllables = 384\n",
            "nbPolysyllables = 63\n",
            "Class level2\n",
            "totalWords = 138\n",
            "totalLongWords = 26\n",
            "totalSentences = 8\n",
            "totalCharacters = 555\n",
            "totalSyllables = 240\n",
            "nbPolysyllables = 43\n",
            "Class level3\n",
            "totalWords = 104\n",
            "totalLongWords = 16\n",
            "totalSentences = 11\n",
            "totalCharacters = 405\n",
            "totalSyllables = 184\n",
            "nbPolysyllables = 21\n",
            "Class level4\n",
            "totalWords = 567\n",
            "totalLongWords = 112\n",
            "totalSentences = 35\n",
            "totalCharacters = 2307\n",
            "totalSyllables = 972\n",
            "nbPolysyllables = 151\n"
          ]
        }
      ],
      "source": [
        "r.compile()\n",
        "r.stats()"
      ]
    },
    {
      "cell_type": "code",
      "execution_count": 15,
      "metadata": {
        "id": "aC4P0miCLyFZ",
        "outputId": "b20ffc21-d076-4133-ed68-290cc8e4d1a9",
        "colab": {
          "base_uri": "https://localhost:8080/"
        }
      },
      "outputs": [
        {
          "output_type": "stream",
          "name": "stdout",
          "text": [
            "class level1 text 0 score 61.52380952380953\n",
            "class level2 text 0 score 136.9\n",
            "class level3 text 0 score 61.963636363636375\n",
            "class level4 text 0 score 134.48\n"
          ]
        },
        {
          "output_type": "execute_result",
          "data": {
            "text/plain": [
              "61.52380952380953"
            ]
          },
          "metadata": {},
          "execution_count": 15
        }
      ],
      "source": [
        "gfi_corp = r.gfi()\n",
        "gfi_corp['level1'][0] #Is also 61.52380952380953"
      ]
    },
    {
      "cell_type": "markdown",
      "metadata": {
        "id": "FeZFhG7cLyFa"
      },
      "source": [
        "r.scores behaves differently, instead of giving the scores for each text, it returns a dataframe showing the mean values, (and prints out the standard deviation)"
      ]
    },
    {
      "cell_type": "code",
      "execution_count": 16,
      "metadata": {
        "id": "vod9d0HBLyFa",
        "outputId": "49345470-b14b-4aa6-fa86-38315b9c7446",
        "colab": {
          "base_uri": "https://localhost:8080/",
          "height": 542
        }
      },
      "outputs": [
        {
          "output_type": "stream",
          "name": "stdout",
          "text": [
            "Standard Deviation values                   level1     level2     level3  \\\n",
            "The Gunning fog index GFI                22.638448  28.598931  38.724814   \n",
            "The Automated readability index ARI       6.265479   6.977522   8.614690   \n",
            "The Flesch reading ease FRE              26.013539  24.790444  29.308209   \n",
            "The Flesch-Kincaid grade level FKGL       3.386159   2.447647   2.501191   \n",
            "The Simple Measure of Gobbledygook SMOG   1.728092   1.647957   1.839104   \n",
            "Reading Ease Level                       19.108738  12.993784  12.457079   \n",
            "\n",
            "Standard Deviation values                   level4  \n",
            "The Gunning fog index GFI                45.192761  \n",
            "The Automated readability index ARI       9.156945  \n",
            "The Flesch reading ease FRE              32.117630  \n",
            "The Flesch-Kincaid grade level FKGL       2.833996  \n",
            "The Simple Measure of Gobbledygook SMOG   1.978900  \n",
            "Reading Ease Level                       14.318104  \n"
          ]
        },
        {
          "output_type": "execute_result",
          "data": {
            "text/plain": [
              "Mean values                                 level1     level2     level3  \\\n",
              "The Gunning fog index GFI                45.132518  67.697721  91.866336   \n",
              "The Automated readability index ARI      14.238996  19.932585  25.719148   \n",
              "The Flesch reading ease FRE              90.625507  84.875840  82.799719   \n",
              "The Flesch-Kincaid grade level FKGL       4.576800   6.681592   8.323094   \n",
              "The Simple Measure of Gobbledygook SMOG  10.110286  11.521299  12.760749   \n",
              "Reading Ease Level                       92.465376  82.239781  75.110005   \n",
              "\n",
              "Mean values                                  level4  Pearson Score  \n",
              "The Gunning fog index GFI                105.669951       0.475915  \n",
              "The Automated readability index ARI       27.757700       0.472037  \n",
              "The Flesch reading ease FRE               81.032160      -0.402143  \n",
              "The Flesch-Kincaid grade level FKGL        9.019000       0.451786  \n",
              "The Simple Measure of Gobbledygook SMOG   13.210278       0.471106  \n",
              "Reading Ease Level                        71.711107      -0.408414  "
            ],
            "text/html": [
              "\n",
              "  <div id=\"df-715c5c65-a919-4a11-94b3-51d2b1834436\">\n",
              "    <div class=\"colab-df-container\">\n",
              "      <div>\n",
              "<style scoped>\n",
              "    .dataframe tbody tr th:only-of-type {\n",
              "        vertical-align: middle;\n",
              "    }\n",
              "\n",
              "    .dataframe tbody tr th {\n",
              "        vertical-align: top;\n",
              "    }\n",
              "\n",
              "    .dataframe thead th {\n",
              "        text-align: right;\n",
              "    }\n",
              "</style>\n",
              "<table border=\"1\" class=\"dataframe\">\n",
              "  <thead>\n",
              "    <tr style=\"text-align: right;\">\n",
              "      <th>Mean values</th>\n",
              "      <th>level1</th>\n",
              "      <th>level2</th>\n",
              "      <th>level3</th>\n",
              "      <th>level4</th>\n",
              "      <th>Pearson Score</th>\n",
              "    </tr>\n",
              "  </thead>\n",
              "  <tbody>\n",
              "    <tr>\n",
              "      <th>The Gunning fog index GFI</th>\n",
              "      <td>45.132518</td>\n",
              "      <td>67.697721</td>\n",
              "      <td>91.866336</td>\n",
              "      <td>105.669951</td>\n",
              "      <td>0.475915</td>\n",
              "    </tr>\n",
              "    <tr>\n",
              "      <th>The Automated readability index ARI</th>\n",
              "      <td>14.238996</td>\n",
              "      <td>19.932585</td>\n",
              "      <td>25.719148</td>\n",
              "      <td>27.757700</td>\n",
              "      <td>0.472037</td>\n",
              "    </tr>\n",
              "    <tr>\n",
              "      <th>The Flesch reading ease FRE</th>\n",
              "      <td>90.625507</td>\n",
              "      <td>84.875840</td>\n",
              "      <td>82.799719</td>\n",
              "      <td>81.032160</td>\n",
              "      <td>-0.402143</td>\n",
              "    </tr>\n",
              "    <tr>\n",
              "      <th>The Flesch-Kincaid grade level FKGL</th>\n",
              "      <td>4.576800</td>\n",
              "      <td>6.681592</td>\n",
              "      <td>8.323094</td>\n",
              "      <td>9.019000</td>\n",
              "      <td>0.451786</td>\n",
              "    </tr>\n",
              "    <tr>\n",
              "      <th>The Simple Measure of Gobbledygook SMOG</th>\n",
              "      <td>10.110286</td>\n",
              "      <td>11.521299</td>\n",
              "      <td>12.760749</td>\n",
              "      <td>13.210278</td>\n",
              "      <td>0.471106</td>\n",
              "    </tr>\n",
              "    <tr>\n",
              "      <th>Reading Ease Level</th>\n",
              "      <td>92.465376</td>\n",
              "      <td>82.239781</td>\n",
              "      <td>75.110005</td>\n",
              "      <td>71.711107</td>\n",
              "      <td>-0.408414</td>\n",
              "    </tr>\n",
              "  </tbody>\n",
              "</table>\n",
              "</div>\n",
              "      <button class=\"colab-df-convert\" onclick=\"convertToInteractive('df-715c5c65-a919-4a11-94b3-51d2b1834436')\"\n",
              "              title=\"Convert this dataframe to an interactive table.\"\n",
              "              style=\"display:none;\">\n",
              "        \n",
              "  <svg xmlns=\"http://www.w3.org/2000/svg\" height=\"24px\"viewBox=\"0 0 24 24\"\n",
              "       width=\"24px\">\n",
              "    <path d=\"M0 0h24v24H0V0z\" fill=\"none\"/>\n",
              "    <path d=\"M18.56 5.44l.94 2.06.94-2.06 2.06-.94-2.06-.94-.94-2.06-.94 2.06-2.06.94zm-11 1L8.5 8.5l.94-2.06 2.06-.94-2.06-.94L8.5 2.5l-.94 2.06-2.06.94zm10 10l.94 2.06.94-2.06 2.06-.94-2.06-.94-.94-2.06-.94 2.06-2.06.94z\"/><path d=\"M17.41 7.96l-1.37-1.37c-.4-.4-.92-.59-1.43-.59-.52 0-1.04.2-1.43.59L10.3 9.45l-7.72 7.72c-.78.78-.78 2.05 0 2.83L4 21.41c.39.39.9.59 1.41.59.51 0 1.02-.2 1.41-.59l7.78-7.78 2.81-2.81c.8-.78.8-2.07 0-2.86zM5.41 20L4 18.59l7.72-7.72 1.47 1.35L5.41 20z\"/>\n",
              "  </svg>\n",
              "      </button>\n",
              "      \n",
              "  <style>\n",
              "    .colab-df-container {\n",
              "      display:flex;\n",
              "      flex-wrap:wrap;\n",
              "      gap: 12px;\n",
              "    }\n",
              "\n",
              "    .colab-df-convert {\n",
              "      background-color: #E8F0FE;\n",
              "      border: none;\n",
              "      border-radius: 50%;\n",
              "      cursor: pointer;\n",
              "      display: none;\n",
              "      fill: #1967D2;\n",
              "      height: 32px;\n",
              "      padding: 0 0 0 0;\n",
              "      width: 32px;\n",
              "    }\n",
              "\n",
              "    .colab-df-convert:hover {\n",
              "      background-color: #E2EBFA;\n",
              "      box-shadow: 0px 1px 2px rgba(60, 64, 67, 0.3), 0px 1px 3px 1px rgba(60, 64, 67, 0.15);\n",
              "      fill: #174EA6;\n",
              "    }\n",
              "\n",
              "    [theme=dark] .colab-df-convert {\n",
              "      background-color: #3B4455;\n",
              "      fill: #D2E3FC;\n",
              "    }\n",
              "\n",
              "    [theme=dark] .colab-df-convert:hover {\n",
              "      background-color: #434B5C;\n",
              "      box-shadow: 0px 1px 3px 1px rgba(0, 0, 0, 0.15);\n",
              "      filter: drop-shadow(0px 1px 2px rgba(0, 0, 0, 0.3));\n",
              "      fill: #FFFFFF;\n",
              "    }\n",
              "  </style>\n",
              "\n",
              "      <script>\n",
              "        const buttonEl =\n",
              "          document.querySelector('#df-715c5c65-a919-4a11-94b3-51d2b1834436 button.colab-df-convert');\n",
              "        buttonEl.style.display =\n",
              "          google.colab.kernel.accessAllowed ? 'block' : 'none';\n",
              "\n",
              "        async function convertToInteractive(key) {\n",
              "          const element = document.querySelector('#df-715c5c65-a919-4a11-94b3-51d2b1834436');\n",
              "          const dataTable =\n",
              "            await google.colab.kernel.invokeFunction('convertToInteractive',\n",
              "                                                     [key], {});\n",
              "          if (!dataTable) return;\n",
              "\n",
              "          const docLinkHtml = 'Like what you see? Visit the ' +\n",
              "            '<a target=\"_blank\" href=https://colab.research.google.com/notebooks/data_table.ipynb>data table notebook</a>'\n",
              "            + ' to learn more about interactive tables.';\n",
              "          element.innerHTML = '';\n",
              "          dataTable['output_type'] = 'display_data';\n",
              "          await google.colab.output.renderOutput(dataTable, element);\n",
              "          const docLink = document.createElement('div');\n",
              "          docLink.innerHTML = docLinkHtml;\n",
              "          element.appendChild(docLink);\n",
              "        }\n",
              "      </script>\n",
              "    </div>\n",
              "  </div>\n",
              "  "
            ]
          },
          "metadata": {},
          "execution_count": 16
        }
      ],
      "source": [
        "r.scores()"
      ]
    },
    {
      "cell_type": "markdown",
      "metadata": {
        "id": "OSxHqGW5LyFb"
      },
      "source": [
        "In addition, machine learning and deep learning applications can be used with the corpus' data to help develop NLP solutions"
      ]
    },
    {
      "cell_type": "code",
      "execution_count": null,
      "metadata": {
        "id": "eE73FO2zLyFb"
      },
      "outputs": [],
      "source": [
        "#r.importmodel(camembert)\n",
        "#r.configmodel(params)\n",
        "#r.train(mode=autofit)"
      ]
    }
  ],
  "metadata": {
    "interpreter": {
      "hash": "0d8382c64f832ccbfeaab2a5edd229bc484a8f789774f43ccfafc2e4aa4ca7e5"
    },
    "kernelspec": {
      "display_name": "Python 3.9.12 ('base')",
      "language": "python",
      "name": "python3"
    },
    "language_info": {
      "codemirror_mode": {
        "name": "ipython",
        "version": 3
      },
      "file_extension": ".py",
      "mimetype": "text/x-python",
      "name": "python",
      "nbconvert_exporter": "python",
      "pygments_lexer": "ipython3",
      "version": "3.9.12"
    },
    "orig_nbformat": 4,
    "colab": {
      "name": "readi_reproduction.ipynb",
      "provenance": [],
      "include_colab_link": true
    },
    "accelerator": "GPU",
    "widgets": {
      "application/vnd.jupyter.widget-state+json": {
        "d5195047f28049019c72188ee08b5f98": {
          "model_module": "@jupyter-widgets/controls",
          "model_name": "HBoxModel",
          "model_module_version": "1.5.0",
          "state": {
            "_dom_classes": [],
            "_model_module": "@jupyter-widgets/controls",
            "_model_module_version": "1.5.0",
            "_model_name": "HBoxModel",
            "_view_count": null,
            "_view_module": "@jupyter-widgets/controls",
            "_view_module_version": "1.5.0",
            "_view_name": "HBoxView",
            "box_style": "",
            "children": [
              "IPY_MODEL_7ef2f6e3da5c468794bc2a35e0fcdcc1",
              "IPY_MODEL_3a6e3b6e86154abdb204689f9f761c8f",
              "IPY_MODEL_92b2e4bde3864863a65d198fda4f6847"
            ],
            "layout": "IPY_MODEL_f8a6b6adb9fe4ff58c7b745a8860a203"
          }
        },
        "7ef2f6e3da5c468794bc2a35e0fcdcc1": {
          "model_module": "@jupyter-widgets/controls",
          "model_name": "HTMLModel",
          "model_module_version": "1.5.0",
          "state": {
            "_dom_classes": [],
            "_model_module": "@jupyter-widgets/controls",
            "_model_module_version": "1.5.0",
            "_model_name": "HTMLModel",
            "_view_count": null,
            "_view_module": "@jupyter-widgets/controls",
            "_view_module_version": "1.5.0",
            "_view_name": "HTMLView",
            "description": "",
            "description_tooltip": null,
            "layout": "IPY_MODEL_8243810d55a74cd09c27dfa0a4d985ba",
            "placeholder": "​",
            "style": "IPY_MODEL_7972b03359e5498695569a5bce50df6e",
            "value": "Downloading: 100%"
          }
        },
        "3a6e3b6e86154abdb204689f9f761c8f": {
          "model_module": "@jupyter-widgets/controls",
          "model_name": "FloatProgressModel",
          "model_module_version": "1.5.0",
          "state": {
            "_dom_classes": [],
            "_model_module": "@jupyter-widgets/controls",
            "_model_module_version": "1.5.0",
            "_model_name": "FloatProgressModel",
            "_view_count": null,
            "_view_module": "@jupyter-widgets/controls",
            "_view_module_version": "1.5.0",
            "_view_name": "ProgressView",
            "bar_style": "success",
            "description": "",
            "description_tooltip": null,
            "layout": "IPY_MODEL_3f1e1bcf10254def82657fa002b7f211",
            "max": 538,
            "min": 0,
            "orientation": "horizontal",
            "style": "IPY_MODEL_35255cd1451c461da5334b05c7db661e",
            "value": 538
          }
        },
        "92b2e4bde3864863a65d198fda4f6847": {
          "model_module": "@jupyter-widgets/controls",
          "model_name": "HTMLModel",
          "model_module_version": "1.5.0",
          "state": {
            "_dom_classes": [],
            "_model_module": "@jupyter-widgets/controls",
            "_model_module_version": "1.5.0",
            "_model_name": "HTMLModel",
            "_view_count": null,
            "_view_module": "@jupyter-widgets/controls",
            "_view_module_version": "1.5.0",
            "_view_name": "HTMLView",
            "description": "",
            "description_tooltip": null,
            "layout": "IPY_MODEL_c77948e163494031882b09a4112cf304",
            "placeholder": "​",
            "style": "IPY_MODEL_55cbb11d34e148169bf9ccf468692ddd",
            "value": " 538/538 [00:00&lt;00:00, 13.4kB/s]"
          }
        },
        "f8a6b6adb9fe4ff58c7b745a8860a203": {
          "model_module": "@jupyter-widgets/base",
          "model_name": "LayoutModel",
          "model_module_version": "1.2.0",
          "state": {
            "_model_module": "@jupyter-widgets/base",
            "_model_module_version": "1.2.0",
            "_model_name": "LayoutModel",
            "_view_count": null,
            "_view_module": "@jupyter-widgets/base",
            "_view_module_version": "1.2.0",
            "_view_name": "LayoutView",
            "align_content": null,
            "align_items": null,
            "align_self": null,
            "border": null,
            "bottom": null,
            "display": null,
            "flex": null,
            "flex_flow": null,
            "grid_area": null,
            "grid_auto_columns": null,
            "grid_auto_flow": null,
            "grid_auto_rows": null,
            "grid_column": null,
            "grid_gap": null,
            "grid_row": null,
            "grid_template_areas": null,
            "grid_template_columns": null,
            "grid_template_rows": null,
            "height": null,
            "justify_content": null,
            "justify_items": null,
            "left": null,
            "margin": null,
            "max_height": null,
            "max_width": null,
            "min_height": null,
            "min_width": null,
            "object_fit": null,
            "object_position": null,
            "order": null,
            "overflow": null,
            "overflow_x": null,
            "overflow_y": null,
            "padding": null,
            "right": null,
            "top": null,
            "visibility": null,
            "width": null
          }
        },
        "8243810d55a74cd09c27dfa0a4d985ba": {
          "model_module": "@jupyter-widgets/base",
          "model_name": "LayoutModel",
          "model_module_version": "1.2.0",
          "state": {
            "_model_module": "@jupyter-widgets/base",
            "_model_module_version": "1.2.0",
            "_model_name": "LayoutModel",
            "_view_count": null,
            "_view_module": "@jupyter-widgets/base",
            "_view_module_version": "1.2.0",
            "_view_name": "LayoutView",
            "align_content": null,
            "align_items": null,
            "align_self": null,
            "border": null,
            "bottom": null,
            "display": null,
            "flex": null,
            "flex_flow": null,
            "grid_area": null,
            "grid_auto_columns": null,
            "grid_auto_flow": null,
            "grid_auto_rows": null,
            "grid_column": null,
            "grid_gap": null,
            "grid_row": null,
            "grid_template_areas": null,
            "grid_template_columns": null,
            "grid_template_rows": null,
            "height": null,
            "justify_content": null,
            "justify_items": null,
            "left": null,
            "margin": null,
            "max_height": null,
            "max_width": null,
            "min_height": null,
            "min_width": null,
            "object_fit": null,
            "object_position": null,
            "order": null,
            "overflow": null,
            "overflow_x": null,
            "overflow_y": null,
            "padding": null,
            "right": null,
            "top": null,
            "visibility": null,
            "width": null
          }
        },
        "7972b03359e5498695569a5bce50df6e": {
          "model_module": "@jupyter-widgets/controls",
          "model_name": "DescriptionStyleModel",
          "model_module_version": "1.5.0",
          "state": {
            "_model_module": "@jupyter-widgets/controls",
            "_model_module_version": "1.5.0",
            "_model_name": "DescriptionStyleModel",
            "_view_count": null,
            "_view_module": "@jupyter-widgets/base",
            "_view_module_version": "1.2.0",
            "_view_name": "StyleView",
            "description_width": ""
          }
        },
        "3f1e1bcf10254def82657fa002b7f211": {
          "model_module": "@jupyter-widgets/base",
          "model_name": "LayoutModel",
          "model_module_version": "1.2.0",
          "state": {
            "_model_module": "@jupyter-widgets/base",
            "_model_module_version": "1.2.0",
            "_model_name": "LayoutModel",
            "_view_count": null,
            "_view_module": "@jupyter-widgets/base",
            "_view_module_version": "1.2.0",
            "_view_name": "LayoutView",
            "align_content": null,
            "align_items": null,
            "align_self": null,
            "border": null,
            "bottom": null,
            "display": null,
            "flex": null,
            "flex_flow": null,
            "grid_area": null,
            "grid_auto_columns": null,
            "grid_auto_flow": null,
            "grid_auto_rows": null,
            "grid_column": null,
            "grid_gap": null,
            "grid_row": null,
            "grid_template_areas": null,
            "grid_template_columns": null,
            "grid_template_rows": null,
            "height": null,
            "justify_content": null,
            "justify_items": null,
            "left": null,
            "margin": null,
            "max_height": null,
            "max_width": null,
            "min_height": null,
            "min_width": null,
            "object_fit": null,
            "object_position": null,
            "order": null,
            "overflow": null,
            "overflow_x": null,
            "overflow_y": null,
            "padding": null,
            "right": null,
            "top": null,
            "visibility": null,
            "width": null
          }
        },
        "35255cd1451c461da5334b05c7db661e": {
          "model_module": "@jupyter-widgets/controls",
          "model_name": "ProgressStyleModel",
          "model_module_version": "1.5.0",
          "state": {
            "_model_module": "@jupyter-widgets/controls",
            "_model_module_version": "1.5.0",
            "_model_name": "ProgressStyleModel",
            "_view_count": null,
            "_view_module": "@jupyter-widgets/base",
            "_view_module_version": "1.2.0",
            "_view_name": "StyleView",
            "bar_color": null,
            "description_width": ""
          }
        },
        "c77948e163494031882b09a4112cf304": {
          "model_module": "@jupyter-widgets/base",
          "model_name": "LayoutModel",
          "model_module_version": "1.2.0",
          "state": {
            "_model_module": "@jupyter-widgets/base",
            "_model_module_version": "1.2.0",
            "_model_name": "LayoutModel",
            "_view_count": null,
            "_view_module": "@jupyter-widgets/base",
            "_view_module_version": "1.2.0",
            "_view_name": "LayoutView",
            "align_content": null,
            "align_items": null,
            "align_self": null,
            "border": null,
            "bottom": null,
            "display": null,
            "flex": null,
            "flex_flow": null,
            "grid_area": null,
            "grid_auto_columns": null,
            "grid_auto_flow": null,
            "grid_auto_rows": null,
            "grid_column": null,
            "grid_gap": null,
            "grid_row": null,
            "grid_template_areas": null,
            "grid_template_columns": null,
            "grid_template_rows": null,
            "height": null,
            "justify_content": null,
            "justify_items": null,
            "left": null,
            "margin": null,
            "max_height": null,
            "max_width": null,
            "min_height": null,
            "min_width": null,
            "object_fit": null,
            "object_position": null,
            "order": null,
            "overflow": null,
            "overflow_x": null,
            "overflow_y": null,
            "padding": null,
            "right": null,
            "top": null,
            "visibility": null,
            "width": null
          }
        },
        "55cbb11d34e148169bf9ccf468692ddd": {
          "model_module": "@jupyter-widgets/controls",
          "model_name": "DescriptionStyleModel",
          "model_module_version": "1.5.0",
          "state": {
            "_model_module": "@jupyter-widgets/controls",
            "_model_module_version": "1.5.0",
            "_model_name": "DescriptionStyleModel",
            "_view_count": null,
            "_view_module": "@jupyter-widgets/base",
            "_view_module_version": "1.2.0",
            "_view_name": "StyleView",
            "description_width": ""
          }
        },
        "7b402c50a3dd444aa52726d7649c4620": {
          "model_module": "@jupyter-widgets/controls",
          "model_name": "HBoxModel",
          "model_module_version": "1.5.0",
          "state": {
            "_dom_classes": [],
            "_model_module": "@jupyter-widgets/controls",
            "_model_module_version": "1.5.0",
            "_model_name": "HBoxModel",
            "_view_count": null,
            "_view_module": "@jupyter-widgets/controls",
            "_view_module_version": "1.5.0",
            "_view_name": "HBoxView",
            "box_style": "",
            "children": [
              "IPY_MODEL_e32ddf1dceef4b269709ac687aaaf24c",
              "IPY_MODEL_a64186e24fe44f0bae16b11487377d41",
              "IPY_MODEL_1c9aba0588664af2a8fe311c0afdb018"
            ],
            "layout": "IPY_MODEL_05ba697f7bec4e1f9ee6265246f4b85c"
          }
        },
        "e32ddf1dceef4b269709ac687aaaf24c": {
          "model_module": "@jupyter-widgets/controls",
          "model_name": "HTMLModel",
          "model_module_version": "1.5.0",
          "state": {
            "_dom_classes": [],
            "_model_module": "@jupyter-widgets/controls",
            "_model_module_version": "1.5.0",
            "_model_name": "HTMLModel",
            "_view_count": null,
            "_view_module": "@jupyter-widgets/controls",
            "_view_module_version": "1.5.0",
            "_view_name": "HTMLView",
            "description": "",
            "description_tooltip": null,
            "layout": "IPY_MODEL_7f00b43e83374669b01ad0f9ca516767",
            "placeholder": "​",
            "style": "IPY_MODEL_524baa4967a74f7e87f6dbe725226452",
            "value": "Downloading: 100%"
          }
        },
        "a64186e24fe44f0bae16b11487377d41": {
          "model_module": "@jupyter-widgets/controls",
          "model_name": "FloatProgressModel",
          "model_module_version": "1.5.0",
          "state": {
            "_dom_classes": [],
            "_model_module": "@jupyter-widgets/controls",
            "_model_module_version": "1.5.0",
            "_model_name": "FloatProgressModel",
            "_view_count": null,
            "_view_module": "@jupyter-widgets/controls",
            "_view_module_version": "1.5.0",
            "_view_name": "ProgressView",
            "bar_style": "success",
            "description": "",
            "description_tooltip": null,
            "layout": "IPY_MODEL_5bd2b56438f041faa4c2f2beee3d015d",
            "max": 509586767,
            "min": 0,
            "orientation": "horizontal",
            "style": "IPY_MODEL_0a75a922b5d94dc2bde1a01cbc0e2132",
            "value": 509586767
          }
        },
        "1c9aba0588664af2a8fe311c0afdb018": {
          "model_module": "@jupyter-widgets/controls",
          "model_name": "HTMLModel",
          "model_module_version": "1.5.0",
          "state": {
            "_dom_classes": [],
            "_model_module": "@jupyter-widgets/controls",
            "_model_module_version": "1.5.0",
            "_model_name": "HTMLModel",
            "_view_count": null,
            "_view_module": "@jupyter-widgets/controls",
            "_view_module_version": "1.5.0",
            "_view_name": "HTMLView",
            "description": "",
            "description_tooltip": null,
            "layout": "IPY_MODEL_554f5768cd0b4652b0dcabf846b1b463",
            "placeholder": "​",
            "style": "IPY_MODEL_301be3fab5f14ff2953b57c1fc11497f",
            "value": " 510M/510M [00:09&lt;00:00, 61.2MB/s]"
          }
        },
        "05ba697f7bec4e1f9ee6265246f4b85c": {
          "model_module": "@jupyter-widgets/base",
          "model_name": "LayoutModel",
          "model_module_version": "1.2.0",
          "state": {
            "_model_module": "@jupyter-widgets/base",
            "_model_module_version": "1.2.0",
            "_model_name": "LayoutModel",
            "_view_count": null,
            "_view_module": "@jupyter-widgets/base",
            "_view_module_version": "1.2.0",
            "_view_name": "LayoutView",
            "align_content": null,
            "align_items": null,
            "align_self": null,
            "border": null,
            "bottom": null,
            "display": null,
            "flex": null,
            "flex_flow": null,
            "grid_area": null,
            "grid_auto_columns": null,
            "grid_auto_flow": null,
            "grid_auto_rows": null,
            "grid_column": null,
            "grid_gap": null,
            "grid_row": null,
            "grid_template_areas": null,
            "grid_template_columns": null,
            "grid_template_rows": null,
            "height": null,
            "justify_content": null,
            "justify_items": null,
            "left": null,
            "margin": null,
            "max_height": null,
            "max_width": null,
            "min_height": null,
            "min_width": null,
            "object_fit": null,
            "object_position": null,
            "order": null,
            "overflow": null,
            "overflow_x": null,
            "overflow_y": null,
            "padding": null,
            "right": null,
            "top": null,
            "visibility": null,
            "width": null
          }
        },
        "7f00b43e83374669b01ad0f9ca516767": {
          "model_module": "@jupyter-widgets/base",
          "model_name": "LayoutModel",
          "model_module_version": "1.2.0",
          "state": {
            "_model_module": "@jupyter-widgets/base",
            "_model_module_version": "1.2.0",
            "_model_name": "LayoutModel",
            "_view_count": null,
            "_view_module": "@jupyter-widgets/base",
            "_view_module_version": "1.2.0",
            "_view_name": "LayoutView",
            "align_content": null,
            "align_items": null,
            "align_self": null,
            "border": null,
            "bottom": null,
            "display": null,
            "flex": null,
            "flex_flow": null,
            "grid_area": null,
            "grid_auto_columns": null,
            "grid_auto_flow": null,
            "grid_auto_rows": null,
            "grid_column": null,
            "grid_gap": null,
            "grid_row": null,
            "grid_template_areas": null,
            "grid_template_columns": null,
            "grid_template_rows": null,
            "height": null,
            "justify_content": null,
            "justify_items": null,
            "left": null,
            "margin": null,
            "max_height": null,
            "max_width": null,
            "min_height": null,
            "min_width": null,
            "object_fit": null,
            "object_position": null,
            "order": null,
            "overflow": null,
            "overflow_x": null,
            "overflow_y": null,
            "padding": null,
            "right": null,
            "top": null,
            "visibility": null,
            "width": null
          }
        },
        "524baa4967a74f7e87f6dbe725226452": {
          "model_module": "@jupyter-widgets/controls",
          "model_name": "DescriptionStyleModel",
          "model_module_version": "1.5.0",
          "state": {
            "_model_module": "@jupyter-widgets/controls",
            "_model_module_version": "1.5.0",
            "_model_name": "DescriptionStyleModel",
            "_view_count": null,
            "_view_module": "@jupyter-widgets/base",
            "_view_module_version": "1.2.0",
            "_view_name": "StyleView",
            "description_width": ""
          }
        },
        "5bd2b56438f041faa4c2f2beee3d015d": {
          "model_module": "@jupyter-widgets/base",
          "model_name": "LayoutModel",
          "model_module_version": "1.2.0",
          "state": {
            "_model_module": "@jupyter-widgets/base",
            "_model_module_version": "1.2.0",
            "_model_name": "LayoutModel",
            "_view_count": null,
            "_view_module": "@jupyter-widgets/base",
            "_view_module_version": "1.2.0",
            "_view_name": "LayoutView",
            "align_content": null,
            "align_items": null,
            "align_self": null,
            "border": null,
            "bottom": null,
            "display": null,
            "flex": null,
            "flex_flow": null,
            "grid_area": null,
            "grid_auto_columns": null,
            "grid_auto_flow": null,
            "grid_auto_rows": null,
            "grid_column": null,
            "grid_gap": null,
            "grid_row": null,
            "grid_template_areas": null,
            "grid_template_columns": null,
            "grid_template_rows": null,
            "height": null,
            "justify_content": null,
            "justify_items": null,
            "left": null,
            "margin": null,
            "max_height": null,
            "max_width": null,
            "min_height": null,
            "min_width": null,
            "object_fit": null,
            "object_position": null,
            "order": null,
            "overflow": null,
            "overflow_x": null,
            "overflow_y": null,
            "padding": null,
            "right": null,
            "top": null,
            "visibility": null,
            "width": null
          }
        },
        "0a75a922b5d94dc2bde1a01cbc0e2132": {
          "model_module": "@jupyter-widgets/controls",
          "model_name": "ProgressStyleModel",
          "model_module_version": "1.5.0",
          "state": {
            "_model_module": "@jupyter-widgets/controls",
            "_model_module_version": "1.5.0",
            "_model_name": "ProgressStyleModel",
            "_view_count": null,
            "_view_module": "@jupyter-widgets/base",
            "_view_module_version": "1.2.0",
            "_view_name": "StyleView",
            "bar_color": null,
            "description_width": ""
          }
        },
        "554f5768cd0b4652b0dcabf846b1b463": {
          "model_module": "@jupyter-widgets/base",
          "model_name": "LayoutModel",
          "model_module_version": "1.2.0",
          "state": {
            "_model_module": "@jupyter-widgets/base",
            "_model_module_version": "1.2.0",
            "_model_name": "LayoutModel",
            "_view_count": null,
            "_view_module": "@jupyter-widgets/base",
            "_view_module_version": "1.2.0",
            "_view_name": "LayoutView",
            "align_content": null,
            "align_items": null,
            "align_self": null,
            "border": null,
            "bottom": null,
            "display": null,
            "flex": null,
            "flex_flow": null,
            "grid_area": null,
            "grid_auto_columns": null,
            "grid_auto_flow": null,
            "grid_auto_rows": null,
            "grid_column": null,
            "grid_gap": null,
            "grid_row": null,
            "grid_template_areas": null,
            "grid_template_columns": null,
            "grid_template_rows": null,
            "height": null,
            "justify_content": null,
            "justify_items": null,
            "left": null,
            "margin": null,
            "max_height": null,
            "max_width": null,
            "min_height": null,
            "min_width": null,
            "object_fit": null,
            "object_position": null,
            "order": null,
            "overflow": null,
            "overflow_x": null,
            "overflow_y": null,
            "padding": null,
            "right": null,
            "top": null,
            "visibility": null,
            "width": null
          }
        },
        "301be3fab5f14ff2953b57c1fc11497f": {
          "model_module": "@jupyter-widgets/controls",
          "model_name": "DescriptionStyleModel",
          "model_module_version": "1.5.0",
          "state": {
            "_model_module": "@jupyter-widgets/controls",
            "_model_module_version": "1.5.0",
            "_model_name": "DescriptionStyleModel",
            "_view_count": null,
            "_view_module": "@jupyter-widgets/base",
            "_view_module_version": "1.2.0",
            "_view_name": "StyleView",
            "description_width": ""
          }
        },
        "a543c1aeec0e4594a02b82ecc2f4e6f4": {
          "model_module": "@jupyter-widgets/controls",
          "model_name": "HBoxModel",
          "model_module_version": "1.5.0",
          "state": {
            "_dom_classes": [],
            "_model_module": "@jupyter-widgets/controls",
            "_model_module_version": "1.5.0",
            "_model_name": "HBoxModel",
            "_view_count": null,
            "_view_module": "@jupyter-widgets/controls",
            "_view_module_version": "1.5.0",
            "_view_name": "HBoxView",
            "box_style": "",
            "children": [
              "IPY_MODEL_64f425b2a43946899e84895bc3d22aac",
              "IPY_MODEL_f4d083809ee14112be7d1a093c4e8c88",
              "IPY_MODEL_8520ed6f5f61440397e434ffc33b1bb1"
            ],
            "layout": "IPY_MODEL_a29fe0d010a744f7b18b2910c7a4d694"
          }
        },
        "64f425b2a43946899e84895bc3d22aac": {
          "model_module": "@jupyter-widgets/controls",
          "model_name": "HTMLModel",
          "model_module_version": "1.5.0",
          "state": {
            "_dom_classes": [],
            "_model_module": "@jupyter-widgets/controls",
            "_model_module_version": "1.5.0",
            "_model_name": "HTMLModel",
            "_view_count": null,
            "_view_module": "@jupyter-widgets/controls",
            "_view_module_version": "1.5.0",
            "_view_name": "HTMLView",
            "description": "",
            "description_tooltip": null,
            "layout": "IPY_MODEL_b80ad45104c64d89b563210c7a3eff00",
            "placeholder": "​",
            "style": "IPY_MODEL_10102b81837146fca2e4e6af784e7399",
            "value": "Downloading: 100%"
          }
        },
        "f4d083809ee14112be7d1a093c4e8c88": {
          "model_module": "@jupyter-widgets/controls",
          "model_name": "FloatProgressModel",
          "model_module_version": "1.5.0",
          "state": {
            "_dom_classes": [],
            "_model_module": "@jupyter-widgets/controls",
            "_model_module_version": "1.5.0",
            "_model_name": "FloatProgressModel",
            "_view_count": null,
            "_view_module": "@jupyter-widgets/controls",
            "_view_module_version": "1.5.0",
            "_view_name": "ProgressView",
            "bar_style": "success",
            "description": "",
            "description_tooltip": null,
            "layout": "IPY_MODEL_e68270ea147146709607b2e7a9c02f1a",
            "max": 852656,
            "min": 0,
            "orientation": "horizontal",
            "style": "IPY_MODEL_9953cd6a1e144333b24d127143f360af",
            "value": 852656
          }
        },
        "8520ed6f5f61440397e434ffc33b1bb1": {
          "model_module": "@jupyter-widgets/controls",
          "model_name": "HTMLModel",
          "model_module_version": "1.5.0",
          "state": {
            "_dom_classes": [],
            "_model_module": "@jupyter-widgets/controls",
            "_model_module_version": "1.5.0",
            "_model_name": "HTMLModel",
            "_view_count": null,
            "_view_module": "@jupyter-widgets/controls",
            "_view_module_version": "1.5.0",
            "_view_name": "HTMLView",
            "description": "",
            "description_tooltip": null,
            "layout": "IPY_MODEL_2f9bcd43ca604ad0a60cd2f421c743b8",
            "placeholder": "​",
            "style": "IPY_MODEL_2be82a27f5ae40f4b53e70a7e1cdb983",
            "value": " 853k/853k [00:00&lt;00:00, 12.3MB/s]"
          }
        },
        "a29fe0d010a744f7b18b2910c7a4d694": {
          "model_module": "@jupyter-widgets/base",
          "model_name": "LayoutModel",
          "model_module_version": "1.2.0",
          "state": {
            "_model_module": "@jupyter-widgets/base",
            "_model_module_version": "1.2.0",
            "_model_name": "LayoutModel",
            "_view_count": null,
            "_view_module": "@jupyter-widgets/base",
            "_view_module_version": "1.2.0",
            "_view_name": "LayoutView",
            "align_content": null,
            "align_items": null,
            "align_self": null,
            "border": null,
            "bottom": null,
            "display": null,
            "flex": null,
            "flex_flow": null,
            "grid_area": null,
            "grid_auto_columns": null,
            "grid_auto_flow": null,
            "grid_auto_rows": null,
            "grid_column": null,
            "grid_gap": null,
            "grid_row": null,
            "grid_template_areas": null,
            "grid_template_columns": null,
            "grid_template_rows": null,
            "height": null,
            "justify_content": null,
            "justify_items": null,
            "left": null,
            "margin": null,
            "max_height": null,
            "max_width": null,
            "min_height": null,
            "min_width": null,
            "object_fit": null,
            "object_position": null,
            "order": null,
            "overflow": null,
            "overflow_x": null,
            "overflow_y": null,
            "padding": null,
            "right": null,
            "top": null,
            "visibility": null,
            "width": null
          }
        },
        "b80ad45104c64d89b563210c7a3eff00": {
          "model_module": "@jupyter-widgets/base",
          "model_name": "LayoutModel",
          "model_module_version": "1.2.0",
          "state": {
            "_model_module": "@jupyter-widgets/base",
            "_model_module_version": "1.2.0",
            "_model_name": "LayoutModel",
            "_view_count": null,
            "_view_module": "@jupyter-widgets/base",
            "_view_module_version": "1.2.0",
            "_view_name": "LayoutView",
            "align_content": null,
            "align_items": null,
            "align_self": null,
            "border": null,
            "bottom": null,
            "display": null,
            "flex": null,
            "flex_flow": null,
            "grid_area": null,
            "grid_auto_columns": null,
            "grid_auto_flow": null,
            "grid_auto_rows": null,
            "grid_column": null,
            "grid_gap": null,
            "grid_row": null,
            "grid_template_areas": null,
            "grid_template_columns": null,
            "grid_template_rows": null,
            "height": null,
            "justify_content": null,
            "justify_items": null,
            "left": null,
            "margin": null,
            "max_height": null,
            "max_width": null,
            "min_height": null,
            "min_width": null,
            "object_fit": null,
            "object_position": null,
            "order": null,
            "overflow": null,
            "overflow_x": null,
            "overflow_y": null,
            "padding": null,
            "right": null,
            "top": null,
            "visibility": null,
            "width": null
          }
        },
        "10102b81837146fca2e4e6af784e7399": {
          "model_module": "@jupyter-widgets/controls",
          "model_name": "DescriptionStyleModel",
          "model_module_version": "1.5.0",
          "state": {
            "_model_module": "@jupyter-widgets/controls",
            "_model_module_version": "1.5.0",
            "_model_name": "DescriptionStyleModel",
            "_view_count": null,
            "_view_module": "@jupyter-widgets/base",
            "_view_module_version": "1.2.0",
            "_view_name": "StyleView",
            "description_width": ""
          }
        },
        "e68270ea147146709607b2e7a9c02f1a": {
          "model_module": "@jupyter-widgets/base",
          "model_name": "LayoutModel",
          "model_module_version": "1.2.0",
          "state": {
            "_model_module": "@jupyter-widgets/base",
            "_model_module_version": "1.2.0",
            "_model_name": "LayoutModel",
            "_view_count": null,
            "_view_module": "@jupyter-widgets/base",
            "_view_module_version": "1.2.0",
            "_view_name": "LayoutView",
            "align_content": null,
            "align_items": null,
            "align_self": null,
            "border": null,
            "bottom": null,
            "display": null,
            "flex": null,
            "flex_flow": null,
            "grid_area": null,
            "grid_auto_columns": null,
            "grid_auto_flow": null,
            "grid_auto_rows": null,
            "grid_column": null,
            "grid_gap": null,
            "grid_row": null,
            "grid_template_areas": null,
            "grid_template_columns": null,
            "grid_template_rows": null,
            "height": null,
            "justify_content": null,
            "justify_items": null,
            "left": null,
            "margin": null,
            "max_height": null,
            "max_width": null,
            "min_height": null,
            "min_width": null,
            "object_fit": null,
            "object_position": null,
            "order": null,
            "overflow": null,
            "overflow_x": null,
            "overflow_y": null,
            "padding": null,
            "right": null,
            "top": null,
            "visibility": null,
            "width": null
          }
        },
        "9953cd6a1e144333b24d127143f360af": {
          "model_module": "@jupyter-widgets/controls",
          "model_name": "ProgressStyleModel",
          "model_module_version": "1.5.0",
          "state": {
            "_model_module": "@jupyter-widgets/controls",
            "_model_module_version": "1.5.0",
            "_model_name": "ProgressStyleModel",
            "_view_count": null,
            "_view_module": "@jupyter-widgets/base",
            "_view_module_version": "1.2.0",
            "_view_name": "StyleView",
            "bar_color": null,
            "description_width": ""
          }
        },
        "2f9bcd43ca604ad0a60cd2f421c743b8": {
          "model_module": "@jupyter-widgets/base",
          "model_name": "LayoutModel",
          "model_module_version": "1.2.0",
          "state": {
            "_model_module": "@jupyter-widgets/base",
            "_model_module_version": "1.2.0",
            "_model_name": "LayoutModel",
            "_view_count": null,
            "_view_module": "@jupyter-widgets/base",
            "_view_module_version": "1.2.0",
            "_view_name": "LayoutView",
            "align_content": null,
            "align_items": null,
            "align_self": null,
            "border": null,
            "bottom": null,
            "display": null,
            "flex": null,
            "flex_flow": null,
            "grid_area": null,
            "grid_auto_columns": null,
            "grid_auto_flow": null,
            "grid_auto_rows": null,
            "grid_column": null,
            "grid_gap": null,
            "grid_row": null,
            "grid_template_areas": null,
            "grid_template_columns": null,
            "grid_template_rows": null,
            "height": null,
            "justify_content": null,
            "justify_items": null,
            "left": null,
            "margin": null,
            "max_height": null,
            "max_width": null,
            "min_height": null,
            "min_width": null,
            "object_fit": null,
            "object_position": null,
            "order": null,
            "overflow": null,
            "overflow_x": null,
            "overflow_y": null,
            "padding": null,
            "right": null,
            "top": null,
            "visibility": null,
            "width": null
          }
        },
        "2be82a27f5ae40f4b53e70a7e1cdb983": {
          "model_module": "@jupyter-widgets/controls",
          "model_name": "DescriptionStyleModel",
          "model_module_version": "1.5.0",
          "state": {
            "_model_module": "@jupyter-widgets/controls",
            "_model_module_version": "1.5.0",
            "_model_name": "DescriptionStyleModel",
            "_view_count": null,
            "_view_module": "@jupyter-widgets/base",
            "_view_module_version": "1.2.0",
            "_view_name": "StyleView",
            "description_width": ""
          }
        },
        "5b30ebee619d466c86fec04ab848643c": {
          "model_module": "@jupyter-widgets/controls",
          "model_name": "HBoxModel",
          "model_module_version": "1.5.0",
          "state": {
            "_dom_classes": [],
            "_model_module": "@jupyter-widgets/controls",
            "_model_module_version": "1.5.0",
            "_model_name": "HBoxModel",
            "_view_count": null,
            "_view_module": "@jupyter-widgets/controls",
            "_view_module_version": "1.5.0",
            "_view_name": "HBoxView",
            "box_style": "",
            "children": [
              "IPY_MODEL_b740425c18784de09c05df105180fb6a",
              "IPY_MODEL_00b03c91b7d94500a538ce743e86d0dc",
              "IPY_MODEL_19f3dcdb9be746299a09bd79825cb8e3"
            ],
            "layout": "IPY_MODEL_199da6d2ffc24176a070b49981a328f0"
          }
        },
        "b740425c18784de09c05df105180fb6a": {
          "model_module": "@jupyter-widgets/controls",
          "model_name": "HTMLModel",
          "model_module_version": "1.5.0",
          "state": {
            "_dom_classes": [],
            "_model_module": "@jupyter-widgets/controls",
            "_model_module_version": "1.5.0",
            "_model_name": "HTMLModel",
            "_view_count": null,
            "_view_module": "@jupyter-widgets/controls",
            "_view_module_version": "1.5.0",
            "_view_name": "HTMLView",
            "description": "",
            "description_tooltip": null,
            "layout": "IPY_MODEL_3de18e8f1c1442c3b8802b46a17c2336",
            "placeholder": "​",
            "style": "IPY_MODEL_b89afba6562c4870b2c50e8ac15e2622",
            "value": "Downloading: 100%"
          }
        },
        "00b03c91b7d94500a538ce743e86d0dc": {
          "model_module": "@jupyter-widgets/controls",
          "model_name": "FloatProgressModel",
          "model_module_version": "1.5.0",
          "state": {
            "_dom_classes": [],
            "_model_module": "@jupyter-widgets/controls",
            "_model_module_version": "1.5.0",
            "_model_name": "FloatProgressModel",
            "_view_count": null,
            "_view_module": "@jupyter-widgets/controls",
            "_view_module_version": "1.5.0",
            "_view_name": "ProgressView",
            "bar_style": "success",
            "description": "",
            "description_tooltip": null,
            "layout": "IPY_MODEL_9e5025f5725b4c2b8617d20da5997fe2",
            "max": 513006,
            "min": 0,
            "orientation": "horizontal",
            "style": "IPY_MODEL_05bdacc2b3a840af99d2d9f24395d052",
            "value": 513006
          }
        },
        "19f3dcdb9be746299a09bd79825cb8e3": {
          "model_module": "@jupyter-widgets/controls",
          "model_name": "HTMLModel",
          "model_module_version": "1.5.0",
          "state": {
            "_dom_classes": [],
            "_model_module": "@jupyter-widgets/controls",
            "_model_module_version": "1.5.0",
            "_model_name": "HTMLModel",
            "_view_count": null,
            "_view_module": "@jupyter-widgets/controls",
            "_view_module_version": "1.5.0",
            "_view_name": "HTMLView",
            "description": "",
            "description_tooltip": null,
            "layout": "IPY_MODEL_18c2f62069df4879873cb6ea7ff0eaa8",
            "placeholder": "​",
            "style": "IPY_MODEL_d6c5b72bcb7948058ea155bed00dd0b3",
            "value": " 513k/513k [00:00&lt;00:00, 8.50MB/s]"
          }
        },
        "199da6d2ffc24176a070b49981a328f0": {
          "model_module": "@jupyter-widgets/base",
          "model_name": "LayoutModel",
          "model_module_version": "1.2.0",
          "state": {
            "_model_module": "@jupyter-widgets/base",
            "_model_module_version": "1.2.0",
            "_model_name": "LayoutModel",
            "_view_count": null,
            "_view_module": "@jupyter-widgets/base",
            "_view_module_version": "1.2.0",
            "_view_name": "LayoutView",
            "align_content": null,
            "align_items": null,
            "align_self": null,
            "border": null,
            "bottom": null,
            "display": null,
            "flex": null,
            "flex_flow": null,
            "grid_area": null,
            "grid_auto_columns": null,
            "grid_auto_flow": null,
            "grid_auto_rows": null,
            "grid_column": null,
            "grid_gap": null,
            "grid_row": null,
            "grid_template_areas": null,
            "grid_template_columns": null,
            "grid_template_rows": null,
            "height": null,
            "justify_content": null,
            "justify_items": null,
            "left": null,
            "margin": null,
            "max_height": null,
            "max_width": null,
            "min_height": null,
            "min_width": null,
            "object_fit": null,
            "object_position": null,
            "order": null,
            "overflow": null,
            "overflow_x": null,
            "overflow_y": null,
            "padding": null,
            "right": null,
            "top": null,
            "visibility": null,
            "width": null
          }
        },
        "3de18e8f1c1442c3b8802b46a17c2336": {
          "model_module": "@jupyter-widgets/base",
          "model_name": "LayoutModel",
          "model_module_version": "1.2.0",
          "state": {
            "_model_module": "@jupyter-widgets/base",
            "_model_module_version": "1.2.0",
            "_model_name": "LayoutModel",
            "_view_count": null,
            "_view_module": "@jupyter-widgets/base",
            "_view_module_version": "1.2.0",
            "_view_name": "LayoutView",
            "align_content": null,
            "align_items": null,
            "align_self": null,
            "border": null,
            "bottom": null,
            "display": null,
            "flex": null,
            "flex_flow": null,
            "grid_area": null,
            "grid_auto_columns": null,
            "grid_auto_flow": null,
            "grid_auto_rows": null,
            "grid_column": null,
            "grid_gap": null,
            "grid_row": null,
            "grid_template_areas": null,
            "grid_template_columns": null,
            "grid_template_rows": null,
            "height": null,
            "justify_content": null,
            "justify_items": null,
            "left": null,
            "margin": null,
            "max_height": null,
            "max_width": null,
            "min_height": null,
            "min_width": null,
            "object_fit": null,
            "object_position": null,
            "order": null,
            "overflow": null,
            "overflow_x": null,
            "overflow_y": null,
            "padding": null,
            "right": null,
            "top": null,
            "visibility": null,
            "width": null
          }
        },
        "b89afba6562c4870b2c50e8ac15e2622": {
          "model_module": "@jupyter-widgets/controls",
          "model_name": "DescriptionStyleModel",
          "model_module_version": "1.5.0",
          "state": {
            "_model_module": "@jupyter-widgets/controls",
            "_model_module_version": "1.5.0",
            "_model_name": "DescriptionStyleModel",
            "_view_count": null,
            "_view_module": "@jupyter-widgets/base",
            "_view_module_version": "1.2.0",
            "_view_name": "StyleView",
            "description_width": ""
          }
        },
        "9e5025f5725b4c2b8617d20da5997fe2": {
          "model_module": "@jupyter-widgets/base",
          "model_name": "LayoutModel",
          "model_module_version": "1.2.0",
          "state": {
            "_model_module": "@jupyter-widgets/base",
            "_model_module_version": "1.2.0",
            "_model_name": "LayoutModel",
            "_view_count": null,
            "_view_module": "@jupyter-widgets/base",
            "_view_module_version": "1.2.0",
            "_view_name": "LayoutView",
            "align_content": null,
            "align_items": null,
            "align_self": null,
            "border": null,
            "bottom": null,
            "display": null,
            "flex": null,
            "flex_flow": null,
            "grid_area": null,
            "grid_auto_columns": null,
            "grid_auto_flow": null,
            "grid_auto_rows": null,
            "grid_column": null,
            "grid_gap": null,
            "grid_row": null,
            "grid_template_areas": null,
            "grid_template_columns": null,
            "grid_template_rows": null,
            "height": null,
            "justify_content": null,
            "justify_items": null,
            "left": null,
            "margin": null,
            "max_height": null,
            "max_width": null,
            "min_height": null,
            "min_width": null,
            "object_fit": null,
            "object_position": null,
            "order": null,
            "overflow": null,
            "overflow_x": null,
            "overflow_y": null,
            "padding": null,
            "right": null,
            "top": null,
            "visibility": null,
            "width": null
          }
        },
        "05bdacc2b3a840af99d2d9f24395d052": {
          "model_module": "@jupyter-widgets/controls",
          "model_name": "ProgressStyleModel",
          "model_module_version": "1.5.0",
          "state": {
            "_model_module": "@jupyter-widgets/controls",
            "_model_module_version": "1.5.0",
            "_model_name": "ProgressStyleModel",
            "_view_count": null,
            "_view_module": "@jupyter-widgets/base",
            "_view_module_version": "1.2.0",
            "_view_name": "StyleView",
            "bar_color": null,
            "description_width": ""
          }
        },
        "18c2f62069df4879873cb6ea7ff0eaa8": {
          "model_module": "@jupyter-widgets/base",
          "model_name": "LayoutModel",
          "model_module_version": "1.2.0",
          "state": {
            "_model_module": "@jupyter-widgets/base",
            "_model_module_version": "1.2.0",
            "_model_name": "LayoutModel",
            "_view_count": null,
            "_view_module": "@jupyter-widgets/base",
            "_view_module_version": "1.2.0",
            "_view_name": "LayoutView",
            "align_content": null,
            "align_items": null,
            "align_self": null,
            "border": null,
            "bottom": null,
            "display": null,
            "flex": null,
            "flex_flow": null,
            "grid_area": null,
            "grid_auto_columns": null,
            "grid_auto_flow": null,
            "grid_auto_rows": null,
            "grid_column": null,
            "grid_gap": null,
            "grid_row": null,
            "grid_template_areas": null,
            "grid_template_columns": null,
            "grid_template_rows": null,
            "height": null,
            "justify_content": null,
            "justify_items": null,
            "left": null,
            "margin": null,
            "max_height": null,
            "max_width": null,
            "min_height": null,
            "min_width": null,
            "object_fit": null,
            "object_position": null,
            "order": null,
            "overflow": null,
            "overflow_x": null,
            "overflow_y": null,
            "padding": null,
            "right": null,
            "top": null,
            "visibility": null,
            "width": null
          }
        },
        "d6c5b72bcb7948058ea155bed00dd0b3": {
          "model_module": "@jupyter-widgets/controls",
          "model_name": "DescriptionStyleModel",
          "model_module_version": "1.5.0",
          "state": {
            "_model_module": "@jupyter-widgets/controls",
            "_model_module_version": "1.5.0",
            "_model_name": "DescriptionStyleModel",
            "_view_count": null,
            "_view_module": "@jupyter-widgets/base",
            "_view_module_version": "1.2.0",
            "_view_name": "StyleView",
            "description_width": ""
          }
        },
        "e79d66170c3b4ad596e023715270573b": {
          "model_module": "@jupyter-widgets/controls",
          "model_name": "HBoxModel",
          "model_module_version": "1.5.0",
          "state": {
            "_dom_classes": [],
            "_model_module": "@jupyter-widgets/controls",
            "_model_module_version": "1.5.0",
            "_model_name": "HBoxModel",
            "_view_count": null,
            "_view_module": "@jupyter-widgets/controls",
            "_view_module_version": "1.5.0",
            "_view_name": "HBoxView",
            "box_style": "",
            "children": [
              "IPY_MODEL_ef6d503fd1924f44a046b85472e48070",
              "IPY_MODEL_e53ee72a20fe4afe92cca990b81dfa45",
              "IPY_MODEL_c583e065ef8f409cafab38d1847f89e7"
            ],
            "layout": "IPY_MODEL_351ba453eab0439390596593d441f331"
          }
        },
        "ef6d503fd1924f44a046b85472e48070": {
          "model_module": "@jupyter-widgets/controls",
          "model_name": "HTMLModel",
          "model_module_version": "1.5.0",
          "state": {
            "_dom_classes": [],
            "_model_module": "@jupyter-widgets/controls",
            "_model_module_version": "1.5.0",
            "_model_name": "HTMLModel",
            "_view_count": null,
            "_view_module": "@jupyter-widgets/controls",
            "_view_module_version": "1.5.0",
            "_view_name": "HTMLView",
            "description": "",
            "description_tooltip": null,
            "layout": "IPY_MODEL_9961bd3bd4ef46809ad682dd6335da17",
            "placeholder": "​",
            "style": "IPY_MODEL_bc2806f4315b4224ac4c2537814689b3",
            "value": "Downloading: 100%"
          }
        },
        "e53ee72a20fe4afe92cca990b81dfa45": {
          "model_module": "@jupyter-widgets/controls",
          "model_name": "FloatProgressModel",
          "model_module_version": "1.5.0",
          "state": {
            "_dom_classes": [],
            "_model_module": "@jupyter-widgets/controls",
            "_model_module_version": "1.5.0",
            "_model_name": "FloatProgressModel",
            "_view_count": null,
            "_view_module": "@jupyter-widgets/controls",
            "_view_module_version": "1.5.0",
            "_view_name": "ProgressView",
            "bar_style": "success",
            "description": "",
            "description_tooltip": null,
            "layout": "IPY_MODEL_f52b42baba9c40698dfee2de9348ba43",
            "max": 121,
            "min": 0,
            "orientation": "horizontal",
            "style": "IPY_MODEL_3d1fe8421a264c1b8745f3abbe129864",
            "value": 121
          }
        },
        "c583e065ef8f409cafab38d1847f89e7": {
          "model_module": "@jupyter-widgets/controls",
          "model_name": "HTMLModel",
          "model_module_version": "1.5.0",
          "state": {
            "_dom_classes": [],
            "_model_module": "@jupyter-widgets/controls",
            "_model_module_version": "1.5.0",
            "_model_name": "HTMLModel",
            "_view_count": null,
            "_view_module": "@jupyter-widgets/controls",
            "_view_module_version": "1.5.0",
            "_view_name": "HTMLView",
            "description": "",
            "description_tooltip": null,
            "layout": "IPY_MODEL_c6b513c2bf8c4686afe803236548aa59",
            "placeholder": "​",
            "style": "IPY_MODEL_af167ec007c4467b98804971a5f5a1ff",
            "value": " 121/121 [00:00&lt;00:00, 3.70kB/s]"
          }
        },
        "351ba453eab0439390596593d441f331": {
          "model_module": "@jupyter-widgets/base",
          "model_name": "LayoutModel",
          "model_module_version": "1.2.0",
          "state": {
            "_model_module": "@jupyter-widgets/base",
            "_model_module_version": "1.2.0",
            "_model_name": "LayoutModel",
            "_view_count": null,
            "_view_module": "@jupyter-widgets/base",
            "_view_module_version": "1.2.0",
            "_view_name": "LayoutView",
            "align_content": null,
            "align_items": null,
            "align_self": null,
            "border": null,
            "bottom": null,
            "display": null,
            "flex": null,
            "flex_flow": null,
            "grid_area": null,
            "grid_auto_columns": null,
            "grid_auto_flow": null,
            "grid_auto_rows": null,
            "grid_column": null,
            "grid_gap": null,
            "grid_row": null,
            "grid_template_areas": null,
            "grid_template_columns": null,
            "grid_template_rows": null,
            "height": null,
            "justify_content": null,
            "justify_items": null,
            "left": null,
            "margin": null,
            "max_height": null,
            "max_width": null,
            "min_height": null,
            "min_width": null,
            "object_fit": null,
            "object_position": null,
            "order": null,
            "overflow": null,
            "overflow_x": null,
            "overflow_y": null,
            "padding": null,
            "right": null,
            "top": null,
            "visibility": null,
            "width": null
          }
        },
        "9961bd3bd4ef46809ad682dd6335da17": {
          "model_module": "@jupyter-widgets/base",
          "model_name": "LayoutModel",
          "model_module_version": "1.2.0",
          "state": {
            "_model_module": "@jupyter-widgets/base",
            "_model_module_version": "1.2.0",
            "_model_name": "LayoutModel",
            "_view_count": null,
            "_view_module": "@jupyter-widgets/base",
            "_view_module_version": "1.2.0",
            "_view_name": "LayoutView",
            "align_content": null,
            "align_items": null,
            "align_self": null,
            "border": null,
            "bottom": null,
            "display": null,
            "flex": null,
            "flex_flow": null,
            "grid_area": null,
            "grid_auto_columns": null,
            "grid_auto_flow": null,
            "grid_auto_rows": null,
            "grid_column": null,
            "grid_gap": null,
            "grid_row": null,
            "grid_template_areas": null,
            "grid_template_columns": null,
            "grid_template_rows": null,
            "height": null,
            "justify_content": null,
            "justify_items": null,
            "left": null,
            "margin": null,
            "max_height": null,
            "max_width": null,
            "min_height": null,
            "min_width": null,
            "object_fit": null,
            "object_position": null,
            "order": null,
            "overflow": null,
            "overflow_x": null,
            "overflow_y": null,
            "padding": null,
            "right": null,
            "top": null,
            "visibility": null,
            "width": null
          }
        },
        "bc2806f4315b4224ac4c2537814689b3": {
          "model_module": "@jupyter-widgets/controls",
          "model_name": "DescriptionStyleModel",
          "model_module_version": "1.5.0",
          "state": {
            "_model_module": "@jupyter-widgets/controls",
            "_model_module_version": "1.5.0",
            "_model_name": "DescriptionStyleModel",
            "_view_count": null,
            "_view_module": "@jupyter-widgets/base",
            "_view_module_version": "1.2.0",
            "_view_name": "StyleView",
            "description_width": ""
          }
        },
        "f52b42baba9c40698dfee2de9348ba43": {
          "model_module": "@jupyter-widgets/base",
          "model_name": "LayoutModel",
          "model_module_version": "1.2.0",
          "state": {
            "_model_module": "@jupyter-widgets/base",
            "_model_module_version": "1.2.0",
            "_model_name": "LayoutModel",
            "_view_count": null,
            "_view_module": "@jupyter-widgets/base",
            "_view_module_version": "1.2.0",
            "_view_name": "LayoutView",
            "align_content": null,
            "align_items": null,
            "align_self": null,
            "border": null,
            "bottom": null,
            "display": null,
            "flex": null,
            "flex_flow": null,
            "grid_area": null,
            "grid_auto_columns": null,
            "grid_auto_flow": null,
            "grid_auto_rows": null,
            "grid_column": null,
            "grid_gap": null,
            "grid_row": null,
            "grid_template_areas": null,
            "grid_template_columns": null,
            "grid_template_rows": null,
            "height": null,
            "justify_content": null,
            "justify_items": null,
            "left": null,
            "margin": null,
            "max_height": null,
            "max_width": null,
            "min_height": null,
            "min_width": null,
            "object_fit": null,
            "object_position": null,
            "order": null,
            "overflow": null,
            "overflow_x": null,
            "overflow_y": null,
            "padding": null,
            "right": null,
            "top": null,
            "visibility": null,
            "width": null
          }
        },
        "3d1fe8421a264c1b8745f3abbe129864": {
          "model_module": "@jupyter-widgets/controls",
          "model_name": "ProgressStyleModel",
          "model_module_version": "1.5.0",
          "state": {
            "_model_module": "@jupyter-widgets/controls",
            "_model_module_version": "1.5.0",
            "_model_name": "ProgressStyleModel",
            "_view_count": null,
            "_view_module": "@jupyter-widgets/base",
            "_view_module_version": "1.2.0",
            "_view_name": "StyleView",
            "bar_color": null,
            "description_width": ""
          }
        },
        "c6b513c2bf8c4686afe803236548aa59": {
          "model_module": "@jupyter-widgets/base",
          "model_name": "LayoutModel",
          "model_module_version": "1.2.0",
          "state": {
            "_model_module": "@jupyter-widgets/base",
            "_model_module_version": "1.2.0",
            "_model_name": "LayoutModel",
            "_view_count": null,
            "_view_module": "@jupyter-widgets/base",
            "_view_module_version": "1.2.0",
            "_view_name": "LayoutView",
            "align_content": null,
            "align_items": null,
            "align_self": null,
            "border": null,
            "bottom": null,
            "display": null,
            "flex": null,
            "flex_flow": null,
            "grid_area": null,
            "grid_auto_columns": null,
            "grid_auto_flow": null,
            "grid_auto_rows": null,
            "grid_column": null,
            "grid_gap": null,
            "grid_row": null,
            "grid_template_areas": null,
            "grid_template_columns": null,
            "grid_template_rows": null,
            "height": null,
            "justify_content": null,
            "justify_items": null,
            "left": null,
            "margin": null,
            "max_height": null,
            "max_width": null,
            "min_height": null,
            "min_width": null,
            "object_fit": null,
            "object_position": null,
            "order": null,
            "overflow": null,
            "overflow_x": null,
            "overflow_y": null,
            "padding": null,
            "right": null,
            "top": null,
            "visibility": null,
            "width": null
          }
        },
        "af167ec007c4467b98804971a5f5a1ff": {
          "model_module": "@jupyter-widgets/controls",
          "model_name": "DescriptionStyleModel",
          "model_module_version": "1.5.0",
          "state": {
            "_model_module": "@jupyter-widgets/controls",
            "_model_module_version": "1.5.0",
            "_model_name": "DescriptionStyleModel",
            "_view_count": null,
            "_view_module": "@jupyter-widgets/base",
            "_view_module_version": "1.2.0",
            "_view_name": "StyleView",
            "description_width": ""
          }
        }
      }
    }
  },
  "nbformat": 4,
  "nbformat_minor": 0
}